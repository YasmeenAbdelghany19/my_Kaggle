{
 "cells": [
  {
   "cell_type": "markdown",
   "id": "0851105b",
   "metadata": {
    "papermill": {
     "duration": 0.004989,
     "end_time": "2022-06-25T23:05:30.653299",
     "exception": false,
     "start_time": "2022-06-25T23:05:30.648310",
     "status": "completed"
    },
    "tags": []
   },
   "source": [
    "**This notebook is an exercise in the [Introduction to Machine Learning](https://www.kaggle.com/learn/intro-to-machine-learning) course.  You can reference the tutorial at [this link](https://www.kaggle.com/dansbecker/underfitting-and-overfitting).**\n",
    "\n",
    "---\n"
   ]
  },
  {
   "cell_type": "markdown",
   "id": "aa95e993",
   "metadata": {
    "papermill": {
     "duration": 0.003643,
     "end_time": "2022-06-25T23:05:30.661025",
     "exception": false,
     "start_time": "2022-06-25T23:05:30.657382",
     "status": "completed"
    },
    "tags": []
   },
   "source": [
    "## Recap\n",
    "You've built your first model, and now it's time to optimize the size of the tree to make better predictions. Run this cell to set up your coding environment where the previous step left off."
   ]
  },
  {
   "cell_type": "code",
   "execution_count": 1,
   "id": "31592e41",
   "metadata": {
    "execution": {
     "iopub.execute_input": "2022-06-25T23:05:30.670733Z",
     "iopub.status.busy": "2022-06-25T23:05:30.670270Z",
     "iopub.status.idle": "2022-06-25T23:05:32.046837Z",
     "shell.execute_reply": "2022-06-25T23:05:32.045619Z"
    },
    "papermill": {
     "duration": 1.384891,
     "end_time": "2022-06-25T23:05:32.049723",
     "exception": false,
     "start_time": "2022-06-25T23:05:30.664832",
     "status": "completed"
    },
    "tags": []
   },
   "outputs": [
    {
     "name": "stdout",
     "output_type": "stream",
     "text": [
      "Validation MAE: 29,653\n",
      "\n",
      "Setup complete\n"
     ]
    }
   ],
   "source": [
    "# Code you have previously used to load data\n",
    "import pandas as pd\n",
    "from sklearn.metrics import mean_absolute_error\n",
    "from sklearn.model_selection import train_test_split\n",
    "from sklearn.tree import DecisionTreeRegressor\n",
    "\n",
    "\n",
    "# Path of the file to read\n",
    "iowa_file_path = '../input/home-data-for-ml-course/train.csv'\n",
    "\n",
    "home_data = pd.read_csv(iowa_file_path)\n",
    "# Create target object and call it y\n",
    "y = home_data.SalePrice\n",
    "# Create X\n",
    "features = ['LotArea', 'YearBuilt', '1stFlrSF', '2ndFlrSF', 'FullBath', 'BedroomAbvGr', 'TotRmsAbvGrd']\n",
    "X = home_data[features]\n",
    "\n",
    "# Split into validation and training data\n",
    "train_X, val_X, train_y, val_y = train_test_split(X, y, random_state=1)\n",
    "\n",
    "# Specify Model\n",
    "iowa_model = DecisionTreeRegressor(random_state=1)\n",
    "# Fit Model\n",
    "iowa_model.fit(train_X, train_y)\n",
    "\n",
    "# Make validation predictions and calculate mean absolute error\n",
    "val_predictions = iowa_model.predict(val_X)\n",
    "val_mae = mean_absolute_error(val_predictions, val_y)\n",
    "print(\"Validation MAE: {:,.0f}\".format(val_mae))\n",
    "\n",
    "# Set up code checking\n",
    "from learntools.core import binder\n",
    "binder.bind(globals())\n",
    "from learntools.machine_learning.ex5 import *\n",
    "print(\"\\nSetup complete\")"
   ]
  },
  {
   "cell_type": "markdown",
   "id": "d92580c3",
   "metadata": {
    "papermill": {
     "duration": 0.003671,
     "end_time": "2022-06-25T23:05:32.058115",
     "exception": false,
     "start_time": "2022-06-25T23:05:32.054444",
     "status": "completed"
    },
    "tags": []
   },
   "source": [
    "# Exercises\n",
    "You could write the function `get_mae` yourself. For now, we'll supply it. This is the same function you read about in the previous lesson. Just run the cell below."
   ]
  },
  {
   "cell_type": "code",
   "execution_count": 2,
   "id": "b67f2182",
   "metadata": {
    "execution": {
     "iopub.execute_input": "2022-06-25T23:05:32.068424Z",
     "iopub.status.busy": "2022-06-25T23:05:32.067426Z",
     "iopub.status.idle": "2022-06-25T23:05:32.074075Z",
     "shell.execute_reply": "2022-06-25T23:05:32.072823Z"
    },
    "papermill": {
     "duration": 0.014564,
     "end_time": "2022-06-25T23:05:32.076585",
     "exception": false,
     "start_time": "2022-06-25T23:05:32.062021",
     "status": "completed"
    },
    "tags": []
   },
   "outputs": [],
   "source": [
    "def get_mae(max_leaf_nodes, train_X, val_X, train_y, val_y):\n",
    "    model = DecisionTreeRegressor(max_leaf_nodes=max_leaf_nodes, random_state=0)\n",
    "    model.fit(train_X, train_y)\n",
    "    preds_val = model.predict(val_X)\n",
    "    mae = mean_absolute_error(val_y, preds_val)\n",
    "    return(mae)"
   ]
  },
  {
   "cell_type": "markdown",
   "id": "85336097",
   "metadata": {
    "papermill": {
     "duration": 0.003617,
     "end_time": "2022-06-25T23:05:32.084151",
     "exception": false,
     "start_time": "2022-06-25T23:05:32.080534",
     "status": "completed"
    },
    "tags": []
   },
   "source": [
    "## Step 1: Compare Different Tree Sizes\n",
    "Write a loop that tries the following values for *max_leaf_nodes* from a set of possible values.\n",
    "\n",
    "Call the *get_mae* function on each value of max_leaf_nodes. Store the output in some way that allows you to select the value of `max_leaf_nodes` that gives the most accurate model on your data."
   ]
  },
  {
   "cell_type": "code",
   "execution_count": 3,
   "id": "98e34b5b",
   "metadata": {
    "execution": {
     "iopub.execute_input": "2022-06-25T23:05:32.094361Z",
     "iopub.status.busy": "2022-06-25T23:05:32.093183Z",
     "iopub.status.idle": "2022-06-25T23:05:32.144251Z",
     "shell.execute_reply": "2022-06-25T23:05:32.143489Z"
    },
    "papermill": {
     "duration": 0.058244,
     "end_time": "2022-06-25T23:05:32.146348",
     "exception": false,
     "start_time": "2022-06-25T23:05:32.088104",
     "status": "completed"
    },
    "tags": []
   },
   "outputs": [
    {
     "data": {
      "application/javascript": [
       "parent.postMessage({\"jupyterEvent\": \"custom.exercise_interaction\", \"data\": {\"outcomeType\": 1, \"valueTowardsCompletion\": 0.5, \"interactionType\": 1, \"questionType\": 1, \"questionId\": \"1_BestTreeSize\", \"learnToolsVersion\": \"0.3.4\", \"failureMessage\": \"\", \"exceptionClass\": \"\", \"trace\": \"\"}}, \"*\")"
      ],
      "text/plain": [
       "<IPython.core.display.Javascript object>"
      ]
     },
     "metadata": {},
     "output_type": "display_data"
    },
    {
     "data": {
      "text/markdown": [
       "<span style=\"color:#33cc33\">Correct</span>"
      ],
      "text/plain": [
       "Correct"
      ]
     },
     "metadata": {},
     "output_type": "display_data"
    }
   ],
   "source": [
    "candidate_max_leaf_nodes = [5, 25, 50, 100, 250, 500]\n",
    "# Write loop to find the ideal tree size from candidate_max_leaf_nodes\n",
    "my_mae = []\n",
    "for max_leaf_nodes in candidate_max_leaf_nodes:\n",
    "    my_mae.append(get_mae(max_leaf_nodes, train_X, val_X, train_y, val_y))\n",
    "# Store the best value of max_leaf_nodes (it will be either 5, 25, 50, 100, 250 or 500)\n",
    "min_index = my_mae.index(min(my_mae))\n",
    "best_tree_size = candidate_max_leaf_nodes[min_index]\n",
    "# Check your answer\n",
    "step_1.check()"
   ]
  },
  {
   "cell_type": "code",
   "execution_count": 4,
   "id": "95e5ef82",
   "metadata": {
    "execution": {
     "iopub.execute_input": "2022-06-25T23:05:32.156727Z",
     "iopub.status.busy": "2022-06-25T23:05:32.156176Z",
     "iopub.status.idle": "2022-06-25T23:05:32.162935Z",
     "shell.execute_reply": "2022-06-25T23:05:32.161847Z"
    },
    "papermill": {
     "duration": 0.014467,
     "end_time": "2022-06-25T23:05:32.165172",
     "exception": false,
     "start_time": "2022-06-25T23:05:32.150705",
     "status": "completed"
    },
    "tags": []
   },
   "outputs": [
    {
     "data": {
      "application/javascript": [
       "parent.postMessage({\"jupyterEvent\": \"custom.exercise_interaction\", \"data\": {\"interactionType\": 3, \"questionType\": 1, \"questionId\": \"1_BestTreeSize\", \"learnToolsVersion\": \"0.3.4\", \"valueTowardsCompletion\": 0.0, \"failureMessage\": \"\", \"exceptionClass\": \"\", \"trace\": \"\", \"outcomeType\": 4}}, \"*\")"
      ],
      "text/plain": [
       "<IPython.core.display.Javascript object>"
      ]
     },
     "metadata": {},
     "output_type": "display_data"
    },
    {
     "data": {
      "text/markdown": [
       "<span style=\"color:#33cc99\">Solution:</span> \n",
       "```python\n",
       "# Here is a short solution with a dict comprehension.\n",
       "# The lesson gives an example of how to do this with an explicit loop.\n",
       "scores = {leaf_size: get_mae(leaf_size, train_X, val_X, train_y, val_y) for leaf_size in candidate_max_leaf_nodes}\n",
       "best_tree_size = min(scores, key=scores.get)\n",
       "\n",
       "```"
      ],
      "text/plain": [
       "Solution: \n",
       "```python\n",
       "# Here is a short solution with a dict comprehension.\n",
       "# The lesson gives an example of how to do this with an explicit loop.\n",
       "scores = {leaf_size: get_mae(leaf_size, train_X, val_X, train_y, val_y) for leaf_size in candidate_max_leaf_nodes}\n",
       "best_tree_size = min(scores, key=scores.get)\n",
       "\n",
       "```"
      ]
     },
     "metadata": {},
     "output_type": "display_data"
    }
   ],
   "source": [
    "# The lines below will show you a hint or the solution.\n",
    "# step_1.hint() \n",
    "step_1.solution()"
   ]
  },
  {
   "cell_type": "markdown",
   "id": "15be9230",
   "metadata": {
    "papermill": {
     "duration": 0.004283,
     "end_time": "2022-06-25T23:05:32.174176",
     "exception": false,
     "start_time": "2022-06-25T23:05:32.169893",
     "status": "completed"
    },
    "tags": []
   },
   "source": [
    "## Step 2: Fit Model Using All Data\n",
    "You know the best tree size. If you were going to deploy this model in practice, you would make it even more accurate by using all of the data and keeping that tree size.  That is, you don't need to hold out the validation data now that you've made all your modeling decisions."
   ]
  },
  {
   "cell_type": "code",
   "execution_count": 5,
   "id": "a0702699",
   "metadata": {
    "execution": {
     "iopub.execute_input": "2022-06-25T23:05:32.184854Z",
     "iopub.status.busy": "2022-06-25T23:05:32.184002Z",
     "iopub.status.idle": "2022-06-25T23:05:32.201635Z",
     "shell.execute_reply": "2022-06-25T23:05:32.200211Z"
    },
    "papermill": {
     "duration": 0.025833,
     "end_time": "2022-06-25T23:05:32.204288",
     "exception": false,
     "start_time": "2022-06-25T23:05:32.178455",
     "status": "completed"
    },
    "tags": []
   },
   "outputs": [
    {
     "data": {
      "application/javascript": [
       "parent.postMessage({\"jupyterEvent\": \"custom.exercise_interaction\", \"data\": {\"outcomeType\": 1, \"valueTowardsCompletion\": 0.5, \"interactionType\": 1, \"questionType\": 2, \"questionId\": \"2_FitModelWithAllData\", \"learnToolsVersion\": \"0.3.4\", \"failureMessage\": \"\", \"exceptionClass\": \"\", \"trace\": \"\"}}, \"*\")"
      ],
      "text/plain": [
       "<IPython.core.display.Javascript object>"
      ]
     },
     "metadata": {},
     "output_type": "display_data"
    },
    {
     "data": {
      "text/markdown": [
       "<span style=\"color:#33cc33\">Correct</span>"
      ],
      "text/plain": [
       "Correct"
      ]
     },
     "metadata": {},
     "output_type": "display_data"
    }
   ],
   "source": [
    "# Fill in argument to make optimal size and uncomment\n",
    "final_model = DecisionTreeRegressor(max_leaf_nodes=best_tree_size, random_state=0)\n",
    "\n",
    "# fit the final model and uncomment the next two lines\n",
    "final_model.fit(X, y)\n",
    "\n",
    "# Check your answer\n",
    "step_2.check()"
   ]
  },
  {
   "cell_type": "code",
   "execution_count": 6,
   "id": "c68a58ba",
   "metadata": {
    "execution": {
     "iopub.execute_input": "2022-06-25T23:05:32.215698Z",
     "iopub.status.busy": "2022-06-25T23:05:32.215040Z",
     "iopub.status.idle": "2022-06-25T23:05:32.221943Z",
     "shell.execute_reply": "2022-06-25T23:05:32.221132Z"
    },
    "papermill": {
     "duration": 0.014786,
     "end_time": "2022-06-25T23:05:32.223848",
     "exception": false,
     "start_time": "2022-06-25T23:05:32.209062",
     "status": "completed"
    },
    "tags": []
   },
   "outputs": [
    {
     "data": {
      "application/javascript": [
       "parent.postMessage({\"jupyterEvent\": \"custom.exercise_interaction\", \"data\": {\"interactionType\": 3, \"questionType\": 2, \"questionId\": \"2_FitModelWithAllData\", \"learnToolsVersion\": \"0.3.4\", \"valueTowardsCompletion\": 0.0, \"failureMessage\": \"\", \"exceptionClass\": \"\", \"trace\": \"\", \"outcomeType\": 4}}, \"*\")"
      ],
      "text/plain": [
       "<IPython.core.display.Javascript object>"
      ]
     },
     "metadata": {},
     "output_type": "display_data"
    },
    {
     "data": {
      "text/markdown": [
       "<span style=\"color:#33cc99\">Solution:</span> \n",
       "```python\n",
       "# Fit the model with best_tree_size. Fill in argument to make optimal size\n",
       "final_model = DecisionTreeRegressor(max_leaf_nodes=best_tree_size, random_state=1)\n",
       "\n",
       "# fit the final model\n",
       "final_model.fit(X, y)\n",
       "```"
      ],
      "text/plain": [
       "Solution: \n",
       "```python\n",
       "# Fit the model with best_tree_size. Fill in argument to make optimal size\n",
       "final_model = DecisionTreeRegressor(max_leaf_nodes=best_tree_size, random_state=1)\n",
       "\n",
       "# fit the final model\n",
       "final_model.fit(X, y)\n",
       "```"
      ]
     },
     "metadata": {},
     "output_type": "display_data"
    }
   ],
   "source": [
    "# step_2.hint()\n",
    "step_2.solution()"
   ]
  },
  {
   "cell_type": "markdown",
   "id": "65bbe8de",
   "metadata": {
    "papermill": {
     "duration": 0.004802,
     "end_time": "2022-06-25T23:05:32.233964",
     "exception": false,
     "start_time": "2022-06-25T23:05:32.229162",
     "status": "completed"
    },
    "tags": []
   },
   "source": [
    "You've tuned this model and improved your results. But we are still using Decision Tree models, which are not very sophisticated by modern machine learning standards. In the next step you will learn to use Random Forests to improve your models even more.\n",
    "\n",
    "# Keep Going\n",
    "\n",
    "You are ready for **[Random Forests](https://www.kaggle.com/dansbecker/random-forests).**\n"
   ]
  },
  {
   "cell_type": "markdown",
   "id": "cd84bdef",
   "metadata": {
    "papermill": {
     "duration": 0.004607,
     "end_time": "2022-06-25T23:05:32.243629",
     "exception": false,
     "start_time": "2022-06-25T23:05:32.239022",
     "status": "completed"
    },
    "tags": []
   },
   "source": [
    "---\n",
    "\n",
    "\n",
    "\n",
    "\n",
    "*Have questions or comments? Visit the [course discussion forum](https://www.kaggle.com/learn/intro-to-machine-learning/discussion) to chat with other learners.*"
   ]
  }
 ],
 "metadata": {
  "kernelspec": {
   "display_name": "Python 3",
   "language": "python",
   "name": "python3"
  },
  "language_info": {
   "codemirror_mode": {
    "name": "ipython",
    "version": 3
   },
   "file_extension": ".py",
   "mimetype": "text/x-python",
   "name": "python",
   "nbconvert_exporter": "python",
   "pygments_lexer": "ipython3",
   "version": "3.7.12"
  },
  "papermill": {
   "default_parameters": {},
   "duration": 12.242256,
   "end_time": "2022-06-25T23:05:32.970204",
   "environment_variables": {},
   "exception": null,
   "input_path": "__notebook__.ipynb",
   "output_path": "__notebook__.ipynb",
   "parameters": {},
   "start_time": "2022-06-25T23:05:20.727948",
   "version": "2.3.4"
  }
 },
 "nbformat": 4,
 "nbformat_minor": 5
}
