{
 "cells": [
  {
   "cell_type": "markdown",
   "id": "339f830f",
   "metadata": {
    "papermill": {
     "duration": 0.008593,
     "end_time": "2022-05-29T04:27:12.314289",
     "exception": false,
     "start_time": "2022-05-29T04:27:12.305696",
     "status": "completed"
    },
    "tags": []
   },
   "source": [
    "**This notebook is an exercise in the [Data Cleaning](https://www.kaggle.com/learn/data-cleaning) course.  You can reference the tutorial at [this link](https://www.kaggle.com/alexisbcook/character-encodings).**\n",
    "\n",
    "---\n"
   ]
  },
  {
   "cell_type": "markdown",
   "id": "43de1279",
   "metadata": {
    "papermill": {
     "duration": 0.004788,
     "end_time": "2022-05-29T04:27:12.324403",
     "exception": false,
     "start_time": "2022-05-29T04:27:12.319615",
     "status": "completed"
    },
    "tags": []
   },
   "source": [
    "In this exercise, you'll apply what you learned in the **Character encodings** tutorial.\n",
    "\n",
    "# Setup\n",
    "\n",
    "The questions below will give you feedback on your work. Run the following cell to set up the feedback system."
   ]
  },
  {
   "cell_type": "code",
   "execution_count": 1,
   "id": "38b06826",
   "metadata": {
    "execution": {
     "iopub.execute_input": "2022-05-29T04:27:12.336567Z",
     "iopub.status.busy": "2022-05-29T04:27:12.336113Z",
     "iopub.status.idle": "2022-05-29T04:27:12.412915Z",
     "shell.execute_reply": "2022-05-29T04:27:12.411437Z"
    },
    "papermill": {
     "duration": 0.085892,
     "end_time": "2022-05-29T04:27:12.415442",
     "exception": false,
     "start_time": "2022-05-29T04:27:12.329550",
     "status": "completed"
    },
    "tags": []
   },
   "outputs": [
    {
     "name": "stdout",
     "output_type": "stream",
     "text": [
      "Setup Complete\n"
     ]
    }
   ],
   "source": [
    "from learntools.core import binder\n",
    "binder.bind(globals())\n",
    "from learntools.data_cleaning.ex4 import *\n",
    "print(\"Setup Complete\")"
   ]
  },
  {
   "cell_type": "markdown",
   "id": "df81d5f4",
   "metadata": {
    "papermill": {
     "duration": 0.005144,
     "end_time": "2022-05-29T04:27:12.426225",
     "exception": false,
     "start_time": "2022-05-29T04:27:12.421081",
     "status": "completed"
    },
    "tags": []
   },
   "source": [
    "# Get our environment set up\n",
    "\n",
    "The first thing we'll need to do is load in the libraries we'll be using."
   ]
  },
  {
   "cell_type": "code",
   "execution_count": 2,
   "id": "2a141833",
   "metadata": {
    "execution": {
     "iopub.execute_input": "2022-05-29T04:27:12.438768Z",
     "iopub.status.busy": "2022-05-29T04:27:12.437862Z",
     "iopub.status.idle": "2022-05-29T04:27:12.443335Z",
     "shell.execute_reply": "2022-05-29T04:27:12.442162Z"
    },
    "papermill": {
     "duration": 0.014028,
     "end_time": "2022-05-29T04:27:12.445525",
     "exception": false,
     "start_time": "2022-05-29T04:27:12.431497",
     "status": "completed"
    },
    "tags": []
   },
   "outputs": [],
   "source": [
    "# modules we'll use\n",
    "import pandas as pd\n",
    "import numpy as np\n",
    "\n",
    "# helpful character encoding module\n",
    "import chardet\n",
    "\n",
    "# set seed for reproducibility\n",
    "np.random.seed(0)"
   ]
  },
  {
   "cell_type": "markdown",
   "id": "e48de474",
   "metadata": {
    "papermill": {
     "duration": 0.004979,
     "end_time": "2022-05-29T04:27:12.455763",
     "exception": false,
     "start_time": "2022-05-29T04:27:12.450784",
     "status": "completed"
    },
    "tags": []
   },
   "source": [
    "# 1) What are encodings?\n",
    "\n",
    "You're working with a dataset composed of bytes.  Run the code cell below to print a sample entry."
   ]
  },
  {
   "cell_type": "code",
   "execution_count": 3,
   "id": "554d844b",
   "metadata": {
    "execution": {
     "iopub.execute_input": "2022-05-29T04:27:12.467442Z",
     "iopub.status.busy": "2022-05-29T04:27:12.467076Z",
     "iopub.status.idle": "2022-05-29T04:27:12.472297Z",
     "shell.execute_reply": "2022-05-29T04:27:12.471272Z"
    },
    "papermill": {
     "duration": 0.013556,
     "end_time": "2022-05-29T04:27:12.474462",
     "exception": false,
     "start_time": "2022-05-29T04:27:12.460906",
     "status": "completed"
    },
    "tags": []
   },
   "outputs": [
    {
     "name": "stdout",
     "output_type": "stream",
     "text": [
      "b'\\xa7A\\xa6n'\n",
      "data type: <class 'bytes'>\n"
     ]
    }
   ],
   "source": [
    "sample_entry = b'\\xa7A\\xa6n'\n",
    "print(sample_entry)\n",
    "print('data type:', type(sample_entry))"
   ]
  },
  {
   "cell_type": "markdown",
   "id": "8f554c95",
   "metadata": {
    "papermill": {
     "duration": 0.005429,
     "end_time": "2022-05-29T04:27:12.485170",
     "exception": false,
     "start_time": "2022-05-29T04:27:12.479741",
     "status": "completed"
    },
    "tags": []
   },
   "source": [
    "You notice that it doesn't use the standard UTF-8 encoding. \n",
    "\n",
    "Use the next code cell to create a variable `new_entry` that changes the encoding from `\"big5-tw\"` to `\"utf-8\"`.  `new_entry` should have the bytes datatype."
   ]
  },
  {
   "cell_type": "code",
   "execution_count": 4,
   "id": "7f7ab33f",
   "metadata": {
    "execution": {
     "iopub.execute_input": "2022-05-29T04:27:12.497361Z",
     "iopub.status.busy": "2022-05-29T04:27:12.496990Z",
     "iopub.status.idle": "2022-05-29T04:27:12.507301Z",
     "shell.execute_reply": "2022-05-29T04:27:12.506212Z"
    },
    "papermill": {
     "duration": 0.018958,
     "end_time": "2022-05-29T04:27:12.509385",
     "exception": false,
     "start_time": "2022-05-29T04:27:12.490427",
     "status": "completed"
    },
    "tags": []
   },
   "outputs": [
    {
     "data": {
      "application/javascript": [
       "parent.postMessage({\"jupyterEvent\": \"custom.exercise_interaction\", \"data\": {\"outcomeType\": 1, \"valueTowardsCompletion\": 0.3333333333333333, \"interactionType\": 1, \"questionType\": 1, \"questionId\": \"1_EncodingsIntro\", \"learnToolsVersion\": \"0.3.4\", \"failureMessage\": \"\", \"exceptionClass\": \"\", \"trace\": \"\"}}, \"*\")"
      ],
      "text/plain": [
       "<IPython.core.display.Javascript object>"
      ]
     },
     "metadata": {},
     "output_type": "display_data"
    },
    {
     "data": {
      "text/markdown": [
       "<span style=\"color:#33cc33\">Correct</span>"
      ],
      "text/plain": [
       "Correct"
      ]
     },
     "metadata": {},
     "output_type": "display_data"
    }
   ],
   "source": [
    "new_entry = sample_entry.decode(\"big5-tw\")\n",
    "new_entry = new_entry.encode(\"utf-8\", errors=\"replace\")\n",
    "\n",
    "# Check your answer\n",
    "q1.check()"
   ]
  },
  {
   "cell_type": "code",
   "execution_count": 5,
   "id": "f5b7e82c",
   "metadata": {
    "execution": {
     "iopub.execute_input": "2022-05-29T04:27:12.522768Z",
     "iopub.status.busy": "2022-05-29T04:27:12.522395Z",
     "iopub.status.idle": "2022-05-29T04:27:12.529808Z",
     "shell.execute_reply": "2022-05-29T04:27:12.528998Z"
    },
    "papermill": {
     "duration": 0.01643,
     "end_time": "2022-05-29T04:27:12.531699",
     "exception": false,
     "start_time": "2022-05-29T04:27:12.515269",
     "status": "completed"
    },
    "tags": []
   },
   "outputs": [
    {
     "data": {
      "application/javascript": [
       "parent.postMessage({\"jupyterEvent\": \"custom.exercise_interaction\", \"data\": {\"interactionType\": 3, \"questionType\": 1, \"questionId\": \"1_EncodingsIntro\", \"learnToolsVersion\": \"0.3.4\", \"valueTowardsCompletion\": 0.0, \"failureMessage\": \"\", \"exceptionClass\": \"\", \"trace\": \"\", \"outcomeType\": 4}}, \"*\")"
      ],
      "text/plain": [
       "<IPython.core.display.Javascript object>"
      ]
     },
     "metadata": {},
     "output_type": "display_data"
    },
    {
     "data": {
      "text/markdown": [
       "<span style=\"color:#33cc99\">Solution:</span> \n",
       "```python\n",
       "before = sample_entry.decode(\"big5-tw\")\n",
       "new_entry = before.encode()\n",
       "\n",
       "```"
      ],
      "text/plain": [
       "Solution: \n",
       "```python\n",
       "before = sample_entry.decode(\"big5-tw\")\n",
       "new_entry = before.encode()\n",
       "\n",
       "```"
      ]
     },
     "metadata": {},
     "output_type": "display_data"
    }
   ],
   "source": [
    "# Lines below will give you a hint or solution code\n",
    "#q1.hint()\n",
    "q1.solution()"
   ]
  },
  {
   "cell_type": "markdown",
   "id": "7b6a1e72",
   "metadata": {
    "papermill": {
     "duration": 0.005501,
     "end_time": "2022-05-29T04:27:12.542985",
     "exception": false,
     "start_time": "2022-05-29T04:27:12.537484",
     "status": "completed"
    },
    "tags": []
   },
   "source": [
    "# 2) Reading in files with encoding problems\n",
    "\n",
    "Use the code cell below to read in this file at path `\"../input/fatal-police-shootings-in-the-us/PoliceKillingsUS.csv\"`.  \n",
    "\n",
    "Figure out what the correct encoding should be and read in the file to a DataFrame `police_killings`."
   ]
  },
  {
   "cell_type": "code",
   "execution_count": 6,
   "id": "4cb566ef",
   "metadata": {
    "execution": {
     "iopub.execute_input": "2022-05-29T04:27:12.556199Z",
     "iopub.status.busy": "2022-05-29T04:27:12.555808Z",
     "iopub.status.idle": "2022-05-29T04:27:12.579458Z",
     "shell.execute_reply": "2022-05-29T04:27:12.578523Z"
    },
    "papermill": {
     "duration": 0.033126,
     "end_time": "2022-05-29T04:27:12.581910",
     "exception": false,
     "start_time": "2022-05-29T04:27:12.548784",
     "status": "completed"
    },
    "tags": []
   },
   "outputs": [
    {
     "data": {
      "application/javascript": [
       "parent.postMessage({\"jupyterEvent\": \"custom.exercise_interaction\", \"data\": {\"outcomeType\": 1, \"valueTowardsCompletion\": 0.3333333333333333, \"interactionType\": 1, \"questionType\": 1, \"questionId\": \"2_ReadIn\", \"learnToolsVersion\": \"0.3.4\", \"failureMessage\": \"\", \"exceptionClass\": \"\", \"trace\": \"\"}}, \"*\")"
      ],
      "text/plain": [
       "<IPython.core.display.Javascript object>"
      ]
     },
     "metadata": {},
     "output_type": "display_data"
    },
    {
     "data": {
      "text/markdown": [
       "<span style=\"color:#33cc33\">Correct</span>"
      ],
      "text/plain": [
       "Correct"
      ]
     },
     "metadata": {},
     "output_type": "display_data"
    }
   ],
   "source": [
    "# TODO: Load in the DataFrame correctly.\n",
    "# with open(\"../input/fatal-police-shootings-in-the-us/PoliceKillingsUS.csv\", 'rb') as rawdata:\n",
    "#     result = chardet.detect(rawdata.read(1000000))\n",
    "police_killings = pd.read_csv(\"../input/fatal-police-shootings-in-the-us/PoliceKillingsUS.csv\", encoding='Windows-1252')\n",
    "# print(result)\n",
    "# Check your answer\n",
    "q2.check()"
   ]
  },
  {
   "cell_type": "markdown",
   "id": "0e5936a9",
   "metadata": {
    "papermill": {
     "duration": 0.005643,
     "end_time": "2022-05-29T04:27:12.593591",
     "exception": false,
     "start_time": "2022-05-29T04:27:12.587948",
     "status": "completed"
    },
    "tags": []
   },
   "source": [
    "Feel free to use any additional code cells for supplemental work.  To get credit for finishing this question, you'll need to run `q2.check()` and get a result of **Correct**."
   ]
  },
  {
   "cell_type": "code",
   "execution_count": 7,
   "id": "7ec3cc53",
   "metadata": {
    "execution": {
     "iopub.execute_input": "2022-05-29T04:27:12.606867Z",
     "iopub.status.busy": "2022-05-29T04:27:12.606415Z",
     "iopub.status.idle": "2022-05-29T04:27:12.610837Z",
     "shell.execute_reply": "2022-05-29T04:27:12.609893Z"
    },
    "papermill": {
     "duration": 0.013228,
     "end_time": "2022-05-29T04:27:12.612688",
     "exception": false,
     "start_time": "2022-05-29T04:27:12.599460",
     "status": "completed"
    },
    "tags": []
   },
   "outputs": [],
   "source": [
    "# (Optional) Use this code cell for any additional work."
   ]
  },
  {
   "cell_type": "code",
   "execution_count": 8,
   "id": "171255b6",
   "metadata": {
    "execution": {
     "iopub.execute_input": "2022-05-29T04:27:12.626381Z",
     "iopub.status.busy": "2022-05-29T04:27:12.625785Z",
     "iopub.status.idle": "2022-05-29T04:27:12.633422Z",
     "shell.execute_reply": "2022-05-29T04:27:12.632500Z"
    },
    "papermill": {
     "duration": 0.016649,
     "end_time": "2022-05-29T04:27:12.635242",
     "exception": false,
     "start_time": "2022-05-29T04:27:12.618593",
     "status": "completed"
    },
    "tags": []
   },
   "outputs": [
    {
     "data": {
      "application/javascript": [
       "parent.postMessage({\"jupyterEvent\": \"custom.exercise_interaction\", \"data\": {\"interactionType\": 2, \"questionType\": 1, \"questionId\": \"2_ReadIn\", \"learnToolsVersion\": \"0.3.4\", \"valueTowardsCompletion\": 0.0, \"failureMessage\": \"\", \"exceptionClass\": \"\", \"trace\": \"\", \"outcomeType\": 4}}, \"*\")"
      ],
      "text/plain": [
       "<IPython.core.display.Javascript object>"
      ]
     },
     "metadata": {},
     "output_type": "display_data"
    },
    {
     "data": {
      "text/markdown": [
       "<span style=\"color:#3366cc\">Hint:</span> If you try to guess the encoding with the first 10,000 bytes of the file, it might give you the wrong answer.  Try using 100,000 or more lines of the file."
      ],
      "text/plain": [
       "Hint: If you try to guess the encoding with the first 10,000 bytes of the file, it might give you the wrong answer.  Try using 100,000 or more lines of the file."
      ]
     },
     "metadata": {},
     "output_type": "display_data"
    }
   ],
   "source": [
    "# Lines below will give you a hint or solution code\n",
    "q2.hint()\n",
    "#q2.solution()"
   ]
  },
  {
   "cell_type": "markdown",
   "id": "d380dc26",
   "metadata": {
    "papermill": {
     "duration": 0.006237,
     "end_time": "2022-05-29T04:27:12.647851",
     "exception": false,
     "start_time": "2022-05-29T04:27:12.641614",
     "status": "completed"
    },
    "tags": []
   },
   "source": [
    "# 3) Saving your files with UTF-8 encoding\n",
    "\n",
    "Save a version of the police killings dataset to CSV with UTF-8 encoding.  Your answer will be marked correct after saving this file.  \n",
    "\n",
    "Note: When using the `to_csv()` method, supply only the name of the file (e.g., `\"my_file.csv\"`).  This saves the file at the filepath `\"/kaggle/working/my_file.csv\"`."
   ]
  },
  {
   "cell_type": "code",
   "execution_count": 9,
   "id": "1995b98e",
   "metadata": {
    "execution": {
     "iopub.execute_input": "2022-05-29T04:27:12.663043Z",
     "iopub.status.busy": "2022-05-29T04:27:12.662400Z",
     "iopub.status.idle": "2022-05-29T04:27:12.704862Z",
     "shell.execute_reply": "2022-05-29T04:27:12.703900Z"
    },
    "papermill": {
     "duration": 0.052717,
     "end_time": "2022-05-29T04:27:12.707030",
     "exception": false,
     "start_time": "2022-05-29T04:27:12.654313",
     "status": "completed"
    },
    "tags": []
   },
   "outputs": [
    {
     "data": {
      "application/javascript": [
       "parent.postMessage({\"jupyterEvent\": \"custom.exercise_interaction\", \"data\": {\"outcomeType\": 1, \"valueTowardsCompletion\": 0.3333333333333333, \"interactionType\": 1, \"questionType\": 2, \"questionId\": \"3_SaveCSV\", \"learnToolsVersion\": \"0.3.4\", \"failureMessage\": \"\", \"exceptionClass\": \"\", \"trace\": \"\"}}, \"*\")"
      ],
      "text/plain": [
       "<IPython.core.display.Javascript object>"
      ]
     },
     "metadata": {},
     "output_type": "display_data"
    },
    {
     "data": {
      "text/markdown": [
       "<span style=\"color:#33cc33\">Correct</span>"
      ],
      "text/plain": [
       "Correct"
      ]
     },
     "metadata": {},
     "output_type": "display_data"
    }
   ],
   "source": [
    "# TODO: Save the police killings dataset to CSV\n",
    "police_killings.to_csv(\"my_file-utf8.csv\")\n",
    "\n",
    "# Check your answer\n",
    "q3.check()"
   ]
  },
  {
   "cell_type": "code",
   "execution_count": 10,
   "id": "5e916939",
   "metadata": {
    "execution": {
     "iopub.execute_input": "2022-05-29T04:27:12.721884Z",
     "iopub.status.busy": "2022-05-29T04:27:12.721347Z",
     "iopub.status.idle": "2022-05-29T04:27:12.728869Z",
     "shell.execute_reply": "2022-05-29T04:27:12.727986Z"
    },
    "papermill": {
     "duration": 0.017638,
     "end_time": "2022-05-29T04:27:12.731107",
     "exception": false,
     "start_time": "2022-05-29T04:27:12.713469",
     "status": "completed"
    },
    "tags": []
   },
   "outputs": [
    {
     "data": {
      "application/javascript": [
       "parent.postMessage({\"jupyterEvent\": \"custom.exercise_interaction\", \"data\": {\"interactionType\": 3, \"questionType\": 2, \"questionId\": \"3_SaveCSV\", \"learnToolsVersion\": \"0.3.4\", \"valueTowardsCompletion\": 0.0, \"failureMessage\": \"\", \"exceptionClass\": \"\", \"trace\": \"\", \"outcomeType\": 4}}, \"*\")"
      ],
      "text/plain": [
       "<IPython.core.display.Javascript object>"
      ]
     },
     "metadata": {},
     "output_type": "display_data"
    },
    {
     "data": {
      "text/markdown": [
       "<span style=\"color:#33cc99\">Solution:</span> \n",
       "```python\n",
       "\n",
       "police_killings.to_csv(\"my_file.csv\")\n",
       "\n",
       "```"
      ],
      "text/plain": [
       "Solution: \n",
       "```python\n",
       "\n",
       "police_killings.to_csv(\"my_file.csv\")\n",
       "\n",
       "```"
      ]
     },
     "metadata": {},
     "output_type": "display_data"
    }
   ],
   "source": [
    "# Lines below will give you a hint or solution code\n",
    "#q3.hint()\n",
    "q3.solution()"
   ]
  },
  {
   "cell_type": "markdown",
   "id": "5301b407",
   "metadata": {
    "papermill": {
     "duration": 0.006668,
     "end_time": "2022-05-29T04:27:12.744893",
     "exception": false,
     "start_time": "2022-05-29T04:27:12.738225",
     "status": "completed"
    },
    "tags": []
   },
   "source": [
    "# (Optional) More practice\n",
    "\n",
    "Check out [this dataset of files in different character encodings](https://www.kaggle.com/rtatman/character-encoding-examples). Can you read in all the files with their original encodings and them save them out as UTF-8 files?\n",
    "\n",
    "If you have a file that's in UTF-8 but has just a couple of weird-looking characters in it, you can try out the [ftfy module](https://ftfy.readthedocs.io/en/latest/#) and see if it helps. \n",
    "\n",
    "# Keep going\n",
    "\n",
    "In the final lesson, learn how to [**clean up inconsistent text entries**](https://www.kaggle.com/alexisbcook/inconsistent-data-entry) in your dataset."
   ]
  },
  {
   "cell_type": "markdown",
   "id": "34e2cac5",
   "metadata": {
    "papermill": {
     "duration": 0.006731,
     "end_time": "2022-05-29T04:27:12.758769",
     "exception": false,
     "start_time": "2022-05-29T04:27:12.752038",
     "status": "completed"
    },
    "tags": []
   },
   "source": [
    "---\n",
    "\n",
    "\n",
    "\n",
    "\n",
    "*Have questions or comments? Visit the [course discussion forum](https://www.kaggle.com/learn/data-cleaning/discussion) to chat with other learners.*"
   ]
  }
 ],
 "metadata": {
  "kernelspec": {
   "display_name": "Python 3",
   "language": "python",
   "name": "python3"
  },
  "language_info": {
   "codemirror_mode": {
    "name": "ipython",
    "version": 3
   },
   "file_extension": ".py",
   "mimetype": "text/x-python",
   "name": "python",
   "nbconvert_exporter": "python",
   "pygments_lexer": "ipython3",
   "version": "3.7.12"
  },
  "papermill": {
   "default_parameters": {},
   "duration": 10.813241,
   "end_time": "2022-05-29T04:27:13.386630",
   "environment_variables": {},
   "exception": null,
   "input_path": "__notebook__.ipynb",
   "output_path": "__notebook__.ipynb",
   "parameters": {},
   "start_time": "2022-05-29T04:27:02.573389",
   "version": "2.3.4"
  }
 },
 "nbformat": 4,
 "nbformat_minor": 5
}
