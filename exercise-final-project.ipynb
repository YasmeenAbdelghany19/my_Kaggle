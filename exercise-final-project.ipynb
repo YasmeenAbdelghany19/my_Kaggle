{
 "cells": [
  {
   "cell_type": "markdown",
   "id": "1659626c",
   "metadata": {
    "papermill": {
     "duration": 0.005591,
     "end_time": "2022-06-23T09:01:27.817755",
     "exception": false,
     "start_time": "2022-06-23T09:01:27.812164",
     "status": "completed"
    },
    "tags": []
   },
   "source": [
    "**This notebook is an exercise in the [Data Visualization](https://www.kaggle.com/learn/data-visualization) course.  You can reference the tutorial at [this link](https://www.kaggle.com/alexisbcook/final-project).**\n",
    "\n",
    "---\n"
   ]
  },
  {
   "cell_type": "markdown",
   "id": "98e348cd",
   "metadata": {
    "papermill": {
     "duration": 0.00431,
     "end_time": "2022-06-23T09:01:27.826968",
     "exception": false,
     "start_time": "2022-06-23T09:01:27.822658",
     "status": "completed"
    },
    "tags": []
   },
   "source": [
    "Now it's time for you to demonstrate your new skills with a project of your own!\n",
    "\n",
    "In this exercise, you will work with a dataset of your choosing.  Once you've selected a dataset, you'll design and create your own plot to tell interesting stories behind the data!\n",
    "\n",
    "## Setup\n",
    "\n",
    "Run the next cell to import and configure the Python libraries that you need to complete the exercise."
   ]
  },
  {
   "cell_type": "code",
   "execution_count": 1,
   "id": "6e36b35e",
   "metadata": {
    "execution": {
     "iopub.execute_input": "2022-06-23T09:01:27.840535Z",
     "iopub.status.busy": "2022-06-23T09:01:27.837581Z",
     "iopub.status.idle": "2022-06-23T09:01:29.089879Z",
     "shell.execute_reply": "2022-06-23T09:01:29.088654Z"
    },
    "papermill": {
     "duration": 1.261196,
     "end_time": "2022-06-23T09:01:29.092764",
     "exception": false,
     "start_time": "2022-06-23T09:01:27.831568",
     "status": "completed"
    },
    "tags": []
   },
   "outputs": [
    {
     "name": "stdout",
     "output_type": "stream",
     "text": [
      "Setup Complete\n"
     ]
    }
   ],
   "source": [
    "import pandas as pd\n",
    "pd.plotting.register_matplotlib_converters()\n",
    "import matplotlib.pyplot as plt\n",
    "%matplotlib inline\n",
    "import seaborn as sns\n",
    "print(\"Setup Complete\")"
   ]
  },
  {
   "cell_type": "markdown",
   "id": "97abaf3c",
   "metadata": {
    "papermill": {
     "duration": 0.004568,
     "end_time": "2022-06-23T09:01:29.102441",
     "exception": false,
     "start_time": "2022-06-23T09:01:29.097873",
     "status": "completed"
    },
    "tags": []
   },
   "source": [
    "The questions below will give you feedback on your work. Run the following cell to set up the feedback system."
   ]
  },
  {
   "cell_type": "code",
   "execution_count": 2,
   "id": "ba49f2d6",
   "metadata": {
    "execution": {
     "iopub.execute_input": "2022-06-23T09:01:29.113882Z",
     "iopub.status.busy": "2022-06-23T09:01:29.113492Z",
     "iopub.status.idle": "2022-06-23T09:01:29.160010Z",
     "shell.execute_reply": "2022-06-23T09:01:29.158426Z"
    },
    "papermill": {
     "duration": 0.055653,
     "end_time": "2022-06-23T09:01:29.162950",
     "exception": false,
     "start_time": "2022-06-23T09:01:29.107297",
     "status": "completed"
    },
    "tags": []
   },
   "outputs": [
    {
     "name": "stdout",
     "output_type": "stream",
     "text": [
      "Setup Complete\n"
     ]
    }
   ],
   "source": [
    "# Set up code checking\n",
    "from learntools.core import binder\n",
    "binder.bind(globals())\n",
    "from learntools.data_viz_to_coder.ex7 import *\n",
    "print(\"Setup Complete\")"
   ]
  },
  {
   "cell_type": "markdown",
   "id": "7da6655e",
   "metadata": {
    "papermill": {
     "duration": 0.004778,
     "end_time": "2022-06-23T09:01:29.172743",
     "exception": false,
     "start_time": "2022-06-23T09:01:29.167965",
     "status": "completed"
    },
    "tags": []
   },
   "source": [
    "## Step 1: Attach a dataset to the notebook\n",
    "\n",
    "Begin by selecting a CSV dataset from [Kaggle Datasets](https://www.kaggle.com/datasets).  If you're unsure how to do this, please revisit the instructions in the previous tutorial.\n",
    "\n",
    "Once you have selected a dataset, click on the **[+ Add data]** option in the top right corner.  This will generate a pop-up window that you can use to search for your chosen dataset.  \n",
    "\n",
    "![ex6_search_dataset](https://i.imgur.com/cIIWPUS.png)\n",
    "\n",
    "Once you have found the dataset, click on the **[Add]** button to attach it to the notebook.  You can check that it was successful by looking at the **Data** dropdown menu to the right of the notebook -- look for an **input** folder containing a subfolder that matches the name of the dataset.\n",
    "\n",
    "<center>\n",
    "<img src=\"https://i.imgur.com/nMYc1Nu.png\" width=30%><br/>\n",
    "</center>\n",
    "\n",
    "You can click on the carat to the left of the name of the dataset to double-check that it contains a CSV file.  For instance, the image below shows that the example dataset contains two CSV files: (1) **dc-wikia-data.csv**, and (2) **marvel-wikia-data.csv**.\n",
    "\n",
    "<center>\n",
    "<img src=\"https://i.imgur.com/B4sJkVA.png\" width=30%><br/>\n",
    "</center>\n",
    "\n",
    "Once you've uploaded a dataset with a CSV file, run the code cell below **without changes** to receive credit for your work!"
   ]
  },
  {
   "cell_type": "code",
   "execution_count": 3,
   "id": "e073026c",
   "metadata": {
    "execution": {
     "iopub.execute_input": "2022-06-23T09:01:29.184196Z",
     "iopub.status.busy": "2022-06-23T09:01:29.183768Z",
     "iopub.status.idle": "2022-06-23T09:01:29.202544Z",
     "shell.execute_reply": "2022-06-23T09:01:29.201236Z"
    },
    "papermill": {
     "duration": 0.027305,
     "end_time": "2022-06-23T09:01:29.204840",
     "exception": false,
     "start_time": "2022-06-23T09:01:29.177535",
     "status": "completed"
    },
    "tags": []
   },
   "outputs": [
    {
     "data": {
      "application/javascript": [
       "parent.postMessage({\"jupyterEvent\": \"custom.exercise_interaction\", \"data\": {\"outcomeType\": 1, \"valueTowardsCompletion\": 0.25, \"interactionType\": 1, \"questionType\": 2, \"questionId\": \"1_AttachData\", \"learnToolsVersion\": \"0.3.4\", \"failureMessage\": \"\", \"exceptionClass\": \"\", \"trace\": \"\"}}, \"*\")"
      ],
      "text/plain": [
       "<IPython.core.display.Javascript object>"
      ]
     },
     "metadata": {},
     "output_type": "display_data"
    },
    {
     "data": {
      "text/markdown": [
       "<span style=\"color:#33cc33\">Correct:</span> \n",
       "\n"
      ],
      "text/plain": [
       "Correct: \n"
      ]
     },
     "metadata": {},
     "output_type": "display_data"
    }
   ],
   "source": [
    "# Check for a dataset with a CSV file\n",
    "step_1.check()"
   ]
  },
  {
   "cell_type": "markdown",
   "id": "c78cc4b4",
   "metadata": {
    "papermill": {
     "duration": 0.004846,
     "end_time": "2022-06-23T09:01:29.214693",
     "exception": false,
     "start_time": "2022-06-23T09:01:29.209847",
     "status": "completed"
    },
    "tags": []
   },
   "source": [
    "## Step 2: Specify the filepath\n",
    "\n",
    "Now that the dataset is attached to the notebook, you can find its filepath.  To do this, begin by clicking on the CSV file you'd like to use.  This will open the CSV file in a tab below the notebook.  You can find the filepath towards the top of this new tab.  \n",
    "\n",
    "![ex6_filepath](https://i.imgur.com/fgXQV47.png)\n",
    "\n",
    "After you find the filepath corresponding to your dataset, fill it in as the value for `my_filepath` in the code cell below, and run the code cell to check that you've provided a valid filepath.  For instance, in the case of this example dataset, we would set\n",
    "```\n",
    "my_filepath = \"../input/fivethirtyeight-comic-characters-dataset/dc-wikia-data.csv\"\n",
    "```  \n",
    "Note that **you must enclose the filepath in quotation marks**; otherwise, the code will return an error.\n",
    "\n",
    "Once you've entered the filepath, you can close the tab below the notebook by clicking on the **[X]** at the top of the tab."
   ]
  },
  {
   "cell_type": "code",
   "execution_count": 4,
   "id": "8078bf98",
   "metadata": {
    "execution": {
     "iopub.execute_input": "2022-06-23T09:01:29.226804Z",
     "iopub.status.busy": "2022-06-23T09:01:29.225967Z",
     "iopub.status.idle": "2022-06-23T09:01:29.234244Z",
     "shell.execute_reply": "2022-06-23T09:01:29.233389Z"
    },
    "papermill": {
     "duration": 0.016718,
     "end_time": "2022-06-23T09:01:29.236416",
     "exception": false,
     "start_time": "2022-06-23T09:01:29.219698",
     "status": "completed"
    },
    "tags": []
   },
   "outputs": [
    {
     "data": {
      "application/javascript": [
       "parent.postMessage({\"jupyterEvent\": \"custom.exercise_interaction\", \"data\": {\"outcomeType\": 1, \"valueTowardsCompletion\": 0.25, \"interactionType\": 1, \"questionType\": 2, \"questionId\": \"2_Filepath\", \"learnToolsVersion\": \"0.3.4\", \"failureMessage\": \"\", \"exceptionClass\": \"\", \"trace\": \"\"}}, \"*\")"
      ],
      "text/plain": [
       "<IPython.core.display.Javascript object>"
      ]
     },
     "metadata": {},
     "output_type": "display_data"
    },
    {
     "data": {
      "text/markdown": [
       "<span style=\"color:#33cc33\">Correct:</span> \n",
       "\n"
      ],
      "text/plain": [
       "Correct: \n"
      ]
     },
     "metadata": {},
     "output_type": "display_data"
    }
   ],
   "source": [
    "# Fill in the line below: Specify the path of the CSV file to read\n",
    "my_filepath = \"../input/monkeypox-outbreak/Monkeypox.csv\"\n",
    "\n",
    "# Check for a valid filepath to a CSV file in a dataset\n",
    "step_2.check()"
   ]
  },
  {
   "cell_type": "markdown",
   "id": "add9d977",
   "metadata": {
    "papermill": {
     "duration": 0.005171,
     "end_time": "2022-06-23T09:01:29.246953",
     "exception": false,
     "start_time": "2022-06-23T09:01:29.241782",
     "status": "completed"
    },
    "tags": []
   },
   "source": [
    "## Step 3: Load the data\n",
    "\n",
    "Use the next code cell to load your data file into `my_data`.  Use the filepath that you specified in the previous step."
   ]
  },
  {
   "cell_type": "code",
   "execution_count": 5,
   "id": "71c22bbd",
   "metadata": {
    "execution": {
     "iopub.execute_input": "2022-06-23T09:01:29.260001Z",
     "iopub.status.busy": "2022-06-23T09:01:29.258957Z",
     "iopub.status.idle": "2022-06-23T09:01:29.297244Z",
     "shell.execute_reply": "2022-06-23T09:01:29.296300Z"
    },
    "papermill": {
     "duration": 0.047214,
     "end_time": "2022-06-23T09:01:29.299559",
     "exception": false,
     "start_time": "2022-06-23T09:01:29.252345",
     "status": "completed"
    },
    "tags": []
   },
   "outputs": [
    {
     "data": {
      "application/javascript": [
       "parent.postMessage({\"jupyterEvent\": \"custom.exercise_interaction\", \"data\": {\"outcomeType\": 1, \"valueTowardsCompletion\": 0.25, \"interactionType\": 1, \"questionType\": 2, \"questionId\": \"3_LoadData\", \"learnToolsVersion\": \"0.3.4\", \"failureMessage\": \"\", \"exceptionClass\": \"\", \"trace\": \"\"}}, \"*\")"
      ],
      "text/plain": [
       "<IPython.core.display.Javascript object>"
      ]
     },
     "metadata": {},
     "output_type": "display_data"
    },
    {
     "data": {
      "text/markdown": [
       "<span style=\"color:#33cc33\">Correct:</span> \n",
       "\n"
      ],
      "text/plain": [
       "Correct: \n"
      ]
     },
     "metadata": {},
     "output_type": "display_data"
    }
   ],
   "source": [
    "# Fill in the line below: Read the file into a variable my_data\n",
    "my_data = pd.read_csv(my_filepath)\n",
    "\n",
    "# Check that a dataset has been uploaded into my_data\n",
    "step_3.check()"
   ]
  },
  {
   "cell_type": "markdown",
   "id": "e7639259",
   "metadata": {
    "papermill": {
     "duration": 0.005372,
     "end_time": "2022-06-23T09:01:29.310762",
     "exception": false,
     "start_time": "2022-06-23T09:01:29.305390",
     "status": "completed"
    },
    "tags": []
   },
   "source": [
    "**_After the code cell above is marked correct_**, run the code cell below without changes to view the first five rows of the data."
   ]
  },
  {
   "cell_type": "code",
   "execution_count": 6,
   "id": "c053b4ae",
   "metadata": {
    "execution": {
     "iopub.execute_input": "2022-06-23T09:01:29.324344Z",
     "iopub.status.busy": "2022-06-23T09:01:29.323560Z",
     "iopub.status.idle": "2022-06-23T09:01:29.358947Z",
     "shell.execute_reply": "2022-06-23T09:01:29.358009Z"
    },
    "papermill": {
     "duration": 0.045015,
     "end_time": "2022-06-23T09:01:29.361486",
     "exception": false,
     "start_time": "2022-06-23T09:01:29.316471",
     "status": "completed"
    },
    "tags": []
   },
   "outputs": [
    {
     "data": {
      "text/html": [
       "<div>\n",
       "<style scoped>\n",
       "    .dataframe tbody tr th:only-of-type {\n",
       "        vertical-align: middle;\n",
       "    }\n",
       "\n",
       "    .dataframe tbody tr th {\n",
       "        vertical-align: top;\n",
       "    }\n",
       "\n",
       "    .dataframe thead th {\n",
       "        text-align: right;\n",
       "    }\n",
       "</style>\n",
       "<table border=\"1\" class=\"dataframe\">\n",
       "  <thead>\n",
       "    <tr style=\"text-align: right;\">\n",
       "      <th></th>\n",
       "      <th>ID</th>\n",
       "      <th>Status</th>\n",
       "      <th>Location</th>\n",
       "      <th>City</th>\n",
       "      <th>Country</th>\n",
       "      <th>Age</th>\n",
       "      <th>Gender</th>\n",
       "      <th>Date_onset</th>\n",
       "      <th>Date_confirmation</th>\n",
       "      <th>Symptoms</th>\n",
       "      <th>...</th>\n",
       "      <th>Travel_history_location</th>\n",
       "      <th>Travel_history_country</th>\n",
       "      <th>Genomics_Metadata</th>\n",
       "      <th>Confirmation_method</th>\n",
       "      <th>Source</th>\n",
       "      <th>Source_II</th>\n",
       "      <th>Date_entry</th>\n",
       "      <th>Date_last_modified</th>\n",
       "      <th>Source_III</th>\n",
       "      <th>Country_ISO3</th>\n",
       "    </tr>\n",
       "  </thead>\n",
       "  <tbody>\n",
       "    <tr>\n",
       "      <th>0</th>\n",
       "      <td>1.0</td>\n",
       "      <td>confirmed</td>\n",
       "      <td>Guy's and St Thomas Hospital London</td>\n",
       "      <td>London</td>\n",
       "      <td>England</td>\n",
       "      <td>NaN</td>\n",
       "      <td>NaN</td>\n",
       "      <td>2022-04-29</td>\n",
       "      <td>2022-05-06</td>\n",
       "      <td>rash</td>\n",
       "      <td>...</td>\n",
       "      <td>Lagos and Delta States</td>\n",
       "      <td>Nigeria</td>\n",
       "      <td>West African Clade</td>\n",
       "      <td>RT-PCR</td>\n",
       "      <td>https://www.gov.uk/government/news/monkeypox-c...</td>\n",
       "      <td>https://www.who.int/emergencies/disease-outbre...</td>\n",
       "      <td>2022-05-18</td>\n",
       "      <td>2022-05-18</td>\n",
       "      <td>NaN</td>\n",
       "      <td>GBR</td>\n",
       "    </tr>\n",
       "    <tr>\n",
       "      <th>1</th>\n",
       "      <td>2.0</td>\n",
       "      <td>confirmed</td>\n",
       "      <td>Guy's and St Thomas Hospital London</td>\n",
       "      <td>London</td>\n",
       "      <td>England</td>\n",
       "      <td>NaN</td>\n",
       "      <td>NaN</td>\n",
       "      <td>2022-05-05</td>\n",
       "      <td>2022-05-12</td>\n",
       "      <td>rash</td>\n",
       "      <td>...</td>\n",
       "      <td>NaN</td>\n",
       "      <td>NaN</td>\n",
       "      <td>West African Clade</td>\n",
       "      <td>RT-PCR</td>\n",
       "      <td>https://www.gov.uk/government/news/monkeypox-c...</td>\n",
       "      <td>NaN</td>\n",
       "      <td>2022-05-18</td>\n",
       "      <td>2022-05-18</td>\n",
       "      <td>NaN</td>\n",
       "      <td>GBR</td>\n",
       "    </tr>\n",
       "    <tr>\n",
       "      <th>2</th>\n",
       "      <td>3.0</td>\n",
       "      <td>confirmed</td>\n",
       "      <td>London</td>\n",
       "      <td>London</td>\n",
       "      <td>England</td>\n",
       "      <td>NaN</td>\n",
       "      <td>NaN</td>\n",
       "      <td>2022-04-30</td>\n",
       "      <td>2022-05-13</td>\n",
       "      <td>vesicular rash</td>\n",
       "      <td>...</td>\n",
       "      <td>NaN</td>\n",
       "      <td>NaN</td>\n",
       "      <td>West African Clade</td>\n",
       "      <td>RT-PCR</td>\n",
       "      <td>https://www.gov.uk/government/news/monkeypox-c...</td>\n",
       "      <td>NaN</td>\n",
       "      <td>2022-05-18</td>\n",
       "      <td>2022-05-18</td>\n",
       "      <td>NaN</td>\n",
       "      <td>GBR</td>\n",
       "    </tr>\n",
       "    <tr>\n",
       "      <th>3</th>\n",
       "      <td>4.0</td>\n",
       "      <td>confirmed</td>\n",
       "      <td>London</td>\n",
       "      <td>London</td>\n",
       "      <td>England</td>\n",
       "      <td>NaN</td>\n",
       "      <td>male</td>\n",
       "      <td>NaN</td>\n",
       "      <td>2022-05-15</td>\n",
       "      <td>vesicular rash</td>\n",
       "      <td>...</td>\n",
       "      <td>NaN</td>\n",
       "      <td>NaN</td>\n",
       "      <td>West African Clade</td>\n",
       "      <td>NaN</td>\n",
       "      <td>https://www.gov.uk/government/news/monkeypox-c...</td>\n",
       "      <td>NaN</td>\n",
       "      <td>2022-05-18</td>\n",
       "      <td>2022-05-18</td>\n",
       "      <td>NaN</td>\n",
       "      <td>GBR</td>\n",
       "    </tr>\n",
       "    <tr>\n",
       "      <th>4</th>\n",
       "      <td>5.0</td>\n",
       "      <td>confirmed</td>\n",
       "      <td>London</td>\n",
       "      <td>London</td>\n",
       "      <td>England</td>\n",
       "      <td>NaN</td>\n",
       "      <td>male</td>\n",
       "      <td>NaN</td>\n",
       "      <td>2022-05-15</td>\n",
       "      <td>vesicular rash</td>\n",
       "      <td>...</td>\n",
       "      <td>NaN</td>\n",
       "      <td>NaN</td>\n",
       "      <td>West African Clade</td>\n",
       "      <td>NaN</td>\n",
       "      <td>https://www.gov.uk/government/news/monkeypox-c...</td>\n",
       "      <td>NaN</td>\n",
       "      <td>2022-05-18</td>\n",
       "      <td>2022-05-18</td>\n",
       "      <td>NaN</td>\n",
       "      <td>GBR</td>\n",
       "    </tr>\n",
       "  </tbody>\n",
       "</table>\n",
       "<p>5 rows × 31 columns</p>\n",
       "</div>"
      ],
      "text/plain": [
       "    ID     Status                             Location    City  Country  Age  \\\n",
       "0  1.0  confirmed  Guy's and St Thomas Hospital London  London  England  NaN   \n",
       "1  2.0  confirmed  Guy's and St Thomas Hospital London  London  England  NaN   \n",
       "2  3.0  confirmed                               London  London  England  NaN   \n",
       "3  4.0  confirmed                               London  London  England  NaN   \n",
       "4  5.0  confirmed                               London  London  England  NaN   \n",
       "\n",
       "  Gender  Date_onset Date_confirmation        Symptoms  ...  \\\n",
       "0    NaN  2022-04-29        2022-05-06            rash  ...   \n",
       "1    NaN  2022-05-05        2022-05-12            rash  ...   \n",
       "2    NaN  2022-04-30        2022-05-13  vesicular rash  ...   \n",
       "3   male         NaN        2022-05-15  vesicular rash  ...   \n",
       "4   male         NaN        2022-05-15  vesicular rash  ...   \n",
       "\n",
       "  Travel_history_location Travel_history_country   Genomics_Metadata  \\\n",
       "0  Lagos and Delta States                Nigeria  West African Clade   \n",
       "1                     NaN                    NaN  West African Clade   \n",
       "2                     NaN                    NaN  West African Clade   \n",
       "3                     NaN                    NaN  West African Clade   \n",
       "4                     NaN                    NaN  West African Clade   \n",
       "\n",
       "  Confirmation_method                                             Source  \\\n",
       "0              RT-PCR  https://www.gov.uk/government/news/monkeypox-c...   \n",
       "1              RT-PCR  https://www.gov.uk/government/news/monkeypox-c...   \n",
       "2              RT-PCR  https://www.gov.uk/government/news/monkeypox-c...   \n",
       "3                 NaN  https://www.gov.uk/government/news/monkeypox-c...   \n",
       "4                 NaN  https://www.gov.uk/government/news/monkeypox-c...   \n",
       "\n",
       "                                           Source_II  Date_entry  \\\n",
       "0  https://www.who.int/emergencies/disease-outbre...  2022-05-18   \n",
       "1                                                NaN  2022-05-18   \n",
       "2                                                NaN  2022-05-18   \n",
       "3                                                NaN  2022-05-18   \n",
       "4                                                NaN  2022-05-18   \n",
       "\n",
       "  Date_last_modified Source_III Country_ISO3  \n",
       "0         2022-05-18        NaN          GBR  \n",
       "1         2022-05-18        NaN          GBR  \n",
       "2         2022-05-18        NaN          GBR  \n",
       "3         2022-05-18        NaN          GBR  \n",
       "4         2022-05-18        NaN          GBR  \n",
       "\n",
       "[5 rows x 31 columns]"
      ]
     },
     "execution_count": 6,
     "metadata": {},
     "output_type": "execute_result"
    }
   ],
   "source": [
    "# Print the first five rows of the data\n",
    "my_data.head()\n"
   ]
  },
  {
   "cell_type": "markdown",
   "id": "d1481452",
   "metadata": {
    "papermill": {
     "duration": 0.00614,
     "end_time": "2022-06-23T09:01:29.373823",
     "exception": false,
     "start_time": "2022-06-23T09:01:29.367683",
     "status": "completed"
    },
    "tags": []
   },
   "source": [
    "## Step 4: Visualize the data\n",
    "\n",
    "Use the next code cell to create a figure that tells a story behind your dataset.  You can use any chart type (_line chart, bar chart, heatmap, etc_) of your choosing!"
   ]
  },
  {
   "cell_type": "code",
   "execution_count": 7,
   "id": "050e5524",
   "metadata": {
    "execution": {
     "iopub.execute_input": "2022-06-23T09:01:29.388437Z",
     "iopub.status.busy": "2022-06-23T09:01:29.387759Z",
     "iopub.status.idle": "2022-06-23T09:01:30.102659Z",
     "shell.execute_reply": "2022-06-23T09:01:30.101299Z"
    },
    "papermill": {
     "duration": 0.725131,
     "end_time": "2022-06-23T09:01:30.105400",
     "exception": false,
     "start_time": "2022-06-23T09:01:29.380269",
     "status": "completed"
    },
    "tags": []
   },
   "outputs": [
    {
     "data": {
      "application/javascript": [
       "parent.postMessage({\"jupyterEvent\": \"custom.exercise_interaction\", \"data\": {\"outcomeType\": 1, \"valueTowardsCompletion\": 0.25, \"interactionType\": 1, \"questionType\": 2, \"questionId\": \"4_CreatePlot\", \"learnToolsVersion\": \"0.3.4\", \"failureMessage\": \"\", \"exceptionClass\": \"\", \"trace\": \"\"}}, \"*\")"
      ],
      "text/plain": [
       "<IPython.core.display.Javascript object>"
      ]
     },
     "metadata": {},
     "output_type": "display_data"
    },
    {
     "data": {
      "text/markdown": [
       "<span style=\"color:#33cc33\">Correct:</span> \n",
       "\n"
      ],
      "text/plain": [
       "Correct: \n"
      ]
     },
     "metadata": {},
     "output_type": "display_data"
    },
    {
     "data": {
      "image/png": "[encoded data removed]",
      "text/plain": [
       "<Figure size 1800x720 with 1 Axes>"
      ]
     },
     "metadata": {
      "needs_background": "light"
     },
     "output_type": "display_data"
    }
   ],
   "source": [
    "# Create a plot\n",
    "# Your code here\n",
    "plt.figure(figsize=(25, 10))\n",
    "#sns.stripplot(x=my_data['Status'], y=my_data['Country'])\n",
    "#sns.lineplot(data=my_data['Country'])\n",
    "sns.scatterplot(x=my_data['Travel_history_country'], y=my_data['Country'], hue=my_data['Status'])\n",
    "# Check that a figure appears below\n",
    "step_4.check()"
   ]
  },
  {
   "cell_type": "markdown",
   "id": "5ebc96aa",
   "metadata": {
    "papermill": {
     "duration": 0.007012,
     "end_time": "2022-06-23T09:01:30.119807",
     "exception": false,
     "start_time": "2022-06-23T09:01:30.112795",
     "status": "completed"
    },
    "tags": []
   },
   "source": [
    "## Keep going\n",
    "\n",
    "Learn how to use your skills after completing the micro-course to create data visualizations in a **[final tutorial](https://www.kaggle.com/alexisbcook/creating-your-own-notebooks)**."
   ]
  },
  {
   "cell_type": "markdown",
   "id": "026b8f7b",
   "metadata": {
    "papermill": {
     "duration": 0.007013,
     "end_time": "2022-06-23T09:01:30.134138",
     "exception": false,
     "start_time": "2022-06-23T09:01:30.127125",
     "status": "completed"
    },
    "tags": []
   },
   "source": [
    "---\n",
    "\n",
    "\n",
    "\n",
    "\n",
    "*Have questions or comments? Visit the [course discussion forum](https://www.kaggle.com/learn/data-visualization/discussion) to chat with other learners.*"
   ]
  }
 ],
 "metadata": {
  "kernelspec": {
   "display_name": "Python 3",
   "language": "python",
   "name": "python3"
  },
  "language_info": {
   "codemirror_mode": {
    "name": "ipython",
    "version": 3
   },
   "file_extension": ".py",
   "mimetype": "text/x-python",
   "name": "python",
   "nbconvert_exporter": "python",
   "pygments_lexer": "ipython3",
   "version": "3.7.12"
  },
  "papermill": {
   "default_parameters": {},
   "duration": 13.703895,
   "end_time": "2022-06-23T09:01:30.865133",
   "environment_variables": {},
   "exception": null,
   "input_path": "__notebook__.ipynb",
   "output_path": "__notebook__.ipynb",
   "parameters": {},
   "start_time": "2022-06-23T09:01:17.161238",
   "version": "2.3.4"
  }
 },
 "nbformat": 4,
 "nbformat_minor": 5
}
