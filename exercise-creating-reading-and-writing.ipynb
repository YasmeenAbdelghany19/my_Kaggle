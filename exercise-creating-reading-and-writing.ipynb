{
 "cells": [
  {
   "cell_type": "markdown",
   "id": "a1a45524",
   "metadata": {
    "papermill": {
     "duration": 0.018294,
     "end_time": "2022-05-25T05:50:33.436637",
     "exception": false,
     "start_time": "2022-05-25T05:50:33.418343",
     "status": "completed"
    },
    "tags": []
   },
   "source": [
    "**This notebook is an exercise in the [Pandas](https://www.kaggle.com/learn/pandas) course.  You can reference the tutorial at [this link](https://www.kaggle.com/residentmario/creating-reading-and-writing).**\n",
    "\n",
    "---\n"
   ]
  },
  {
   "cell_type": "markdown",
   "id": "c19f9bb5",
   "metadata": {
    "papermill": {
     "duration": 0.012771,
     "end_time": "2022-05-25T05:50:33.464778",
     "exception": false,
     "start_time": "2022-05-25T05:50:33.452007",
     "status": "completed"
    },
    "tags": []
   },
   "source": [
    "# Introduction\n",
    "\n",
    "The first step in most data analytics projects is reading the data file. In this exercise, you'll create Series and DataFrame objects, both by hand and by reading data files.\n",
    "\n",
    "Run the code cell below to load libraries you will need (including code to check your answers)."
   ]
  },
  {
   "cell_type": "code",
   "execution_count": 1,
   "id": "d3f2cafa",
   "metadata": {
    "execution": {
     "iopub.execute_input": "2022-05-25T05:50:33.494343Z",
     "iopub.status.busy": "2022-05-25T05:50:33.493957Z",
     "iopub.status.idle": "2022-05-25T05:50:35.052300Z",
     "shell.execute_reply": "2022-05-25T05:50:35.051195Z"
    },
    "papermill": {
     "duration": 1.575989,
     "end_time": "2022-05-25T05:50:35.055335",
     "exception": false,
     "start_time": "2022-05-25T05:50:33.479346",
     "status": "completed"
    },
    "tags": []
   },
   "outputs": [
    {
     "name": "stdout",
     "output_type": "stream",
     "text": [
      "Setup complete.\n"
     ]
    }
   ],
   "source": [
    "import pandas as pd\n",
    "pd.set_option('max_rows', 5)\n",
    "from learntools.core import binder; binder.bind(globals())\n",
    "from learntools.pandas.creating_reading_and_writing import *\n",
    "print(\"Setup complete.\")"
   ]
  },
  {
   "cell_type": "markdown",
   "id": "466de4a2",
   "metadata": {
    "papermill": {
     "duration": 0.01882,
     "end_time": "2022-05-25T05:50:35.092479",
     "exception": false,
     "start_time": "2022-05-25T05:50:35.073659",
     "status": "completed"
    },
    "tags": []
   },
   "source": [
    "# Exercises"
   ]
  },
  {
   "cell_type": "markdown",
   "id": "2ce8b8c4",
   "metadata": {
    "papermill": {
     "duration": 0.015038,
     "end_time": "2022-05-25T05:50:35.123353",
     "exception": false,
     "start_time": "2022-05-25T05:50:35.108315",
     "status": "completed"
    },
    "tags": []
   },
   "source": [
    "## 1.\n",
    "\n",
    "In the cell below, create a DataFrame `fruits` that looks like this:\n",
    "\n",
    "![](https://i.imgur.com/Ax3pp2A.png)"
   ]
  },
  {
   "cell_type": "code",
   "execution_count": 2,
   "id": "1539001f",
   "metadata": {
    "execution": {
     "iopub.execute_input": "2022-05-25T05:50:35.154569Z",
     "iopub.status.busy": "2022-05-25T05:50:35.154263Z",
     "iopub.status.idle": "2022-05-25T05:50:35.165598Z",
     "shell.execute_reply": "2022-05-25T05:50:35.164618Z"
    },
    "papermill": {
     "duration": 0.02822,
     "end_time": "2022-05-25T05:50:35.167790",
     "exception": false,
     "start_time": "2022-05-25T05:50:35.139570",
     "status": "completed"
    },
    "tags": []
   },
   "outputs": [
    {
     "data": {
      "application/javascript": [
       "parent.postMessage({\"jupyterEvent\": \"custom.exercise_interaction\", \"data\": {\"outcomeType\": 4, \"interactionType\": 1, \"questionType\": 1, \"questionId\": \"1_FruitDfCreation\", \"learnToolsVersion\": \"0.3.4\", \"valueTowardsCompletion\": 0.0, \"failureMessage\": \"\", \"exceptionClass\": \"\", \"trace\": \"\"}}, \"*\")"
      ],
      "text/plain": [
       "<IPython.core.display.Javascript object>"
      ]
     },
     "metadata": {},
     "output_type": "display_data"
    },
    {
     "data": {
      "text/markdown": [
       "<span style=\"color:#ccaa33\">Check:</span> When you've updated the starter code, `check()` will tell you whether your code is correct. You need to update the code that creates variable `fruits`"
      ],
      "text/plain": [
       "Check: When you've updated the starter code, `check()` will tell you whether your code is correct. You need to update the code that creates variable `fruits`"
      ]
     },
     "metadata": {},
     "output_type": "display_data"
    },
    {
     "data": {
      "text/markdown": [],
      "text/plain": [
       "<learntools.core.constants.PlaceholderValue at 0x7fd6bfb15110>"
      ]
     },
     "execution_count": 2,
     "metadata": {},
     "output_type": "execute_result"
    }
   ],
   "source": [
    "# Your code goes here. Create a dataframe matching the above diagram and assign it to the variable fruits.\n",
    "fruits = ____\n",
    "\n",
    "# Check your answer\n",
    "q1.check()\n",
    "fruits"
   ]
  },
  {
   "cell_type": "code",
   "execution_count": 3,
   "id": "14df61a1",
   "metadata": {
    "execution": {
     "iopub.execute_input": "2022-05-25T05:50:35.201053Z",
     "iopub.status.busy": "2022-05-25T05:50:35.200793Z",
     "iopub.status.idle": "2022-05-25T05:50:35.204707Z",
     "shell.execute_reply": "2022-05-25T05:50:35.203751Z"
    },
    "papermill": {
     "duration": 0.02325,
     "end_time": "2022-05-25T05:50:35.206842",
     "exception": false,
     "start_time": "2022-05-25T05:50:35.183592",
     "status": "completed"
    },
    "tags": []
   },
   "outputs": [],
   "source": [
    "#q1.hint()\n",
    "#q1.solution()"
   ]
  },
  {
   "cell_type": "markdown",
   "id": "3c5ff782",
   "metadata": {
    "papermill": {
     "duration": 0.015323,
     "end_time": "2022-05-25T05:50:35.237940",
     "exception": false,
     "start_time": "2022-05-25T05:50:35.222617",
     "status": "completed"
    },
    "tags": []
   },
   "source": [
    "## 2.\n",
    "\n",
    "Create a dataframe `fruit_sales` that matches the diagram below:\n",
    "\n",
    "![](https://i.imgur.com/CHPn7ZF.png)"
   ]
  },
  {
   "cell_type": "code",
   "execution_count": 4,
   "id": "8ca3829e",
   "metadata": {
    "execution": {
     "iopub.execute_input": "2022-05-25T05:50:35.273230Z",
     "iopub.status.busy": "2022-05-25T05:50:35.272608Z",
     "iopub.status.idle": "2022-05-25T05:50:35.280955Z",
     "shell.execute_reply": "2022-05-25T05:50:35.280293Z"
    },
    "papermill": {
     "duration": 0.028739,
     "end_time": "2022-05-25T05:50:35.282994",
     "exception": false,
     "start_time": "2022-05-25T05:50:35.254255",
     "status": "completed"
    },
    "tags": []
   },
   "outputs": [
    {
     "data": {
      "application/javascript": [
       "parent.postMessage({\"jupyterEvent\": \"custom.exercise_interaction\", \"data\": {\"outcomeType\": 4, \"interactionType\": 1, \"questionType\": 1, \"questionId\": \"2_FruitSalesDfCreation\", \"learnToolsVersion\": \"0.3.4\", \"valueTowardsCompletion\": 0.0, \"failureMessage\": \"\", \"exceptionClass\": \"\", \"trace\": \"\"}}, \"*\")"
      ],
      "text/plain": [
       "<IPython.core.display.Javascript object>"
      ]
     },
     "metadata": {},
     "output_type": "display_data"
    },
    {
     "data": {
      "text/markdown": [
       "<span style=\"color:#ccaa33\">Check:</span> When you've updated the starter code, `check()` will tell you whether your code is correct. You need to update the code that creates variable `fruit_sales`"
      ],
      "text/plain": [
       "Check: When you've updated the starter code, `check()` will tell you whether your code is correct. You need to update the code that creates variable `fruit_sales`"
      ]
     },
     "metadata": {},
     "output_type": "display_data"
    },
    {
     "data": {
      "text/markdown": [],
      "text/plain": [
       "<learntools.core.constants.PlaceholderValue at 0x7fd6bfb15110>"
      ]
     },
     "execution_count": 4,
     "metadata": {},
     "output_type": "execute_result"
    }
   ],
   "source": [
    "# Your code goes here. Create a dataframe matching the above diagram and assign it to the variable fruit_sales.\n",
    "fruit_sales = ____\n",
    "\n",
    "# Check your answer\n",
    "q2.check()\n",
    "fruit_sales"
   ]
  },
  {
   "cell_type": "code",
   "execution_count": 5,
   "id": "df83649f",
   "metadata": {
    "execution": {
     "iopub.execute_input": "2022-05-25T05:50:35.320884Z",
     "iopub.status.busy": "2022-05-25T05:50:35.320339Z",
     "iopub.status.idle": "2022-05-25T05:50:35.323670Z",
     "shell.execute_reply": "2022-05-25T05:50:35.322821Z"
    },
    "papermill": {
     "duration": 0.024233,
     "end_time": "2022-05-25T05:50:35.325529",
     "exception": false,
     "start_time": "2022-05-25T05:50:35.301296",
     "status": "completed"
    },
    "tags": []
   },
   "outputs": [],
   "source": [
    "#q2.hint()\n",
    "#q2.solution()"
   ]
  },
  {
   "cell_type": "markdown",
   "id": "3545a20a",
   "metadata": {
    "papermill": {
     "duration": 0.01702,
     "end_time": "2022-05-25T05:50:35.359872",
     "exception": false,
     "start_time": "2022-05-25T05:50:35.342852",
     "status": "completed"
    },
    "tags": []
   },
   "source": [
    "## 3.\n",
    "\n",
    "Create a variable `ingredients` with a Series that looks like:\n",
    "\n",
    "```\n",
    "Flour     4 cups\n",
    "Milk       1 cup\n",
    "Eggs     2 large\n",
    "Spam       1 can\n",
    "Name: Dinner, dtype: object\n",
    "```"
   ]
  },
  {
   "cell_type": "code",
   "execution_count": 6,
   "id": "12e792f5",
   "metadata": {
    "execution": {
     "iopub.execute_input": "2022-05-25T05:50:35.399242Z",
     "iopub.status.busy": "2022-05-25T05:50:35.398786Z",
     "iopub.status.idle": "2022-05-25T05:50:35.408243Z",
     "shell.execute_reply": "2022-05-25T05:50:35.407486Z"
    },
    "papermill": {
     "duration": 0.031114,
     "end_time": "2022-05-25T05:50:35.410238",
     "exception": false,
     "start_time": "2022-05-25T05:50:35.379124",
     "status": "completed"
    },
    "tags": []
   },
   "outputs": [
    {
     "data": {
      "application/javascript": [
       "parent.postMessage({\"jupyterEvent\": \"custom.exercise_interaction\", \"data\": {\"outcomeType\": 4, \"interactionType\": 1, \"questionType\": 2, \"questionId\": \"3_RecipeSeriesCreation\", \"learnToolsVersion\": \"0.3.4\", \"valueTowardsCompletion\": 0.0, \"failureMessage\": \"\", \"exceptionClass\": \"\", \"trace\": \"\"}}, \"*\")"
      ],
      "text/plain": [
       "<IPython.core.display.Javascript object>"
      ]
     },
     "metadata": {},
     "output_type": "display_data"
    },
    {
     "data": {
      "text/markdown": [
       "<span style=\"color:#ccaa33\">Check:</span> When you've updated the starter code, `check()` will tell you whether your code is correct. You need to update the code that creates variable `ingredients`"
      ],
      "text/plain": [
       "Check: When you've updated the starter code, `check()` will tell you whether your code is correct. You need to update the code that creates variable `ingredients`"
      ]
     },
     "metadata": {},
     "output_type": "display_data"
    },
    {
     "data": {
      "text/markdown": [],
      "text/plain": [
       "<learntools.core.constants.PlaceholderValue at 0x7fd6bfb15110>"
      ]
     },
     "execution_count": 6,
     "metadata": {},
     "output_type": "execute_result"
    }
   ],
   "source": [
    "ingredients = ____\n",
    "\n",
    "# Check your answer\n",
    "q3.check()\n",
    "ingredients"
   ]
  },
  {
   "cell_type": "code",
   "execution_count": 7,
   "id": "8bda8c59",
   "metadata": {
    "execution": {
     "iopub.execute_input": "2022-05-25T05:50:35.448986Z",
     "iopub.status.busy": "2022-05-25T05:50:35.448095Z",
     "iopub.status.idle": "2022-05-25T05:50:35.451832Z",
     "shell.execute_reply": "2022-05-25T05:50:35.451276Z"
    },
    "papermill": {
     "duration": 0.024999,
     "end_time": "2022-05-25T05:50:35.453633",
     "exception": false,
     "start_time": "2022-05-25T05:50:35.428634",
     "status": "completed"
    },
    "tags": []
   },
   "outputs": [],
   "source": [
    "#q3.hint()\n",
    "#q3.solution()"
   ]
  },
  {
   "cell_type": "markdown",
   "id": "d18ad68f",
   "metadata": {
    "papermill": {
     "duration": 0.019158,
     "end_time": "2022-05-25T05:50:35.493231",
     "exception": false,
     "start_time": "2022-05-25T05:50:35.474073",
     "status": "completed"
    },
    "tags": []
   },
   "source": [
    "## 4.\n",
    "\n",
    "Read the following csv dataset of wine reviews into a DataFrame called `reviews`:\n",
    "\n",
    "![](https://i.imgur.com/74RCZtU.png)\n",
    "\n",
    "The filepath to the csv file is `../input/wine-reviews/winemag-data_first150k.csv`. The first few lines look like:\n",
    "\n",
    "```\n",
    ",country,description,designation,points,price,province,region_1,region_2,variety,winery\n",
    "0,US,\"This tremendous 100% varietal wine[...]\",Martha's Vineyard,96,235.0,California,Napa Valley,Napa,Cabernet Sauvignon,Heitz\n",
    "1,Spain,\"Ripe aromas of fig, blackberry and[...]\",Carodorum Selección Especial Reserva,96,110.0,Northern Spain,Toro,,Tinta de Toro,Bodega Carmen Rodríguez\n",
    "```"
   ]
  },
  {
   "cell_type": "code",
   "execution_count": 8,
   "id": "e32a5f6f",
   "metadata": {
    "execution": {
     "iopub.execute_input": "2022-05-25T05:50:35.533025Z",
     "iopub.status.busy": "2022-05-25T05:50:35.532269Z",
     "iopub.status.idle": "2022-05-25T05:50:35.542087Z",
     "shell.execute_reply": "2022-05-25T05:50:35.541253Z"
    },
    "papermill": {
     "duration": 0.031483,
     "end_time": "2022-05-25T05:50:35.543884",
     "exception": false,
     "start_time": "2022-05-25T05:50:35.512401",
     "status": "completed"
    },
    "tags": []
   },
   "outputs": [
    {
     "data": {
      "application/javascript": [
       "parent.postMessage({\"jupyterEvent\": \"custom.exercise_interaction\", \"data\": {\"outcomeType\": 4, \"interactionType\": 1, \"questionType\": 1, \"questionId\": \"4_ReadWineCsv\", \"learnToolsVersion\": \"0.3.4\", \"valueTowardsCompletion\": 0.0, \"failureMessage\": \"\", \"exceptionClass\": \"\", \"trace\": \"\"}}, \"*\")"
      ],
      "text/plain": [
       "<IPython.core.display.Javascript object>"
      ]
     },
     "metadata": {},
     "output_type": "display_data"
    },
    {
     "data": {
      "text/markdown": [
       "<span style=\"color:#ccaa33\">Check:</span> When you've updated the starter code, `check()` will tell you whether your code is correct. You need to update the code that creates variable `reviews`"
      ],
      "text/plain": [
       "Check: When you've updated the starter code, `check()` will tell you whether your code is correct. You need to update the code that creates variable `reviews`"
      ]
     },
     "metadata": {},
     "output_type": "display_data"
    },
    {
     "data": {
      "text/markdown": [],
      "text/plain": [
       "<learntools.core.constants.PlaceholderValue at 0x7fd6bfb15110>"
      ]
     },
     "execution_count": 8,
     "metadata": {},
     "output_type": "execute_result"
    }
   ],
   "source": [
    "reviews = ____\n",
    "\n",
    "# Check your answer\n",
    "q4.check()\n",
    "reviews"
   ]
  },
  {
   "cell_type": "code",
   "execution_count": 9,
   "id": "325c9198",
   "metadata": {
    "execution": {
     "iopub.execute_input": "2022-05-25T05:50:35.587475Z",
     "iopub.status.busy": "2022-05-25T05:50:35.587175Z",
     "iopub.status.idle": "2022-05-25T05:50:35.590481Z",
     "shell.execute_reply": "2022-05-25T05:50:35.589692Z"
    },
    "papermill": {
     "duration": 0.026643,
     "end_time": "2022-05-25T05:50:35.592283",
     "exception": false,
     "start_time": "2022-05-25T05:50:35.565640",
     "status": "completed"
    },
    "tags": []
   },
   "outputs": [],
   "source": [
    "#q4.hint()\n",
    "#q4.solution()"
   ]
  },
  {
   "cell_type": "markdown",
   "id": "d7d9fe5e",
   "metadata": {
    "papermill": {
     "duration": 0.020636,
     "end_time": "2022-05-25T05:50:35.633564",
     "exception": false,
     "start_time": "2022-05-25T05:50:35.612928",
     "status": "completed"
    },
    "tags": []
   },
   "source": [
    "## 5.\n",
    "\n",
    "Run the cell below to create and display a DataFrame called `animals`:"
   ]
  },
  {
   "cell_type": "code",
   "execution_count": 10,
   "id": "89629f1d",
   "metadata": {
    "execution": {
     "iopub.execute_input": "2022-05-25T05:50:35.675169Z",
     "iopub.status.busy": "2022-05-25T05:50:35.674589Z",
     "iopub.status.idle": "2022-05-25T05:50:35.687373Z",
     "shell.execute_reply": "2022-05-25T05:50:35.686690Z"
    },
    "papermill": {
     "duration": 0.035737,
     "end_time": "2022-05-25T05:50:35.689343",
     "exception": false,
     "start_time": "2022-05-25T05:50:35.653606",
     "status": "completed"
    },
    "tags": []
   },
   "outputs": [
    {
     "data": {
      "text/html": [
       "<div>\n",
       "<style scoped>\n",
       "    .dataframe tbody tr th:only-of-type {\n",
       "        vertical-align: middle;\n",
       "    }\n",
       "\n",
       "    .dataframe tbody tr th {\n",
       "        vertical-align: top;\n",
       "    }\n",
       "\n",
       "    .dataframe thead th {\n",
       "        text-align: right;\n",
       "    }\n",
       "</style>\n",
       "<table border=\"1\" class=\"dataframe\">\n",
       "  <thead>\n",
       "    <tr style=\"text-align: right;\">\n",
       "      <th></th>\n",
       "      <th>Cows</th>\n",
       "      <th>Goats</th>\n",
       "    </tr>\n",
       "  </thead>\n",
       "  <tbody>\n",
       "    <tr>\n",
       "      <th>Year 1</th>\n",
       "      <td>12</td>\n",
       "      <td>22</td>\n",
       "    </tr>\n",
       "    <tr>\n",
       "      <th>Year 2</th>\n",
       "      <td>20</td>\n",
       "      <td>19</td>\n",
       "    </tr>\n",
       "  </tbody>\n",
       "</table>\n",
       "</div>"
      ],
      "text/plain": [
       "        Cows  Goats\n",
       "Year 1    12     22\n",
       "Year 2    20     19"
      ]
     },
     "execution_count": 10,
     "metadata": {},
     "output_type": "execute_result"
    }
   ],
   "source": [
    "animals = pd.DataFrame({'Cows': [12, 20], 'Goats': [22, 19]}, index=['Year 1', 'Year 2'])\n",
    "animals"
   ]
  },
  {
   "cell_type": "markdown",
   "id": "fb3de6e7",
   "metadata": {
    "papermill": {
     "duration": 0.019581,
     "end_time": "2022-05-25T05:50:35.728738",
     "exception": false,
     "start_time": "2022-05-25T05:50:35.709157",
     "status": "completed"
    },
    "tags": []
   },
   "source": [
    "In the cell below, write code to save this DataFrame to disk as a csv file with the name `cows_and_goats.csv`."
   ]
  },
  {
   "cell_type": "code",
   "execution_count": 11,
   "id": "b25a9074",
   "metadata": {
    "execution": {
     "iopub.execute_input": "2022-05-25T05:50:35.771499Z",
     "iopub.status.busy": "2022-05-25T05:50:35.771064Z",
     "iopub.status.idle": "2022-05-25T05:50:35.777014Z",
     "shell.execute_reply": "2022-05-25T05:50:35.776333Z"
    },
    "papermill": {
     "duration": 0.029297,
     "end_time": "2022-05-25T05:50:35.778616",
     "exception": false,
     "start_time": "2022-05-25T05:50:35.749319",
     "status": "completed"
    },
    "tags": []
   },
   "outputs": [
    {
     "data": {
      "application/javascript": [
       "parent.postMessage({\"jupyterEvent\": \"custom.exercise_interaction\", \"data\": {\"outcomeType\": 2, \"failureMessage\": \"Expected file to exist with name `cows_and_goats.csv`\", \"interactionType\": 1, \"questionType\": 2, \"questionId\": \"5_SaveAnimalsCsv\", \"learnToolsVersion\": \"0.3.4\", \"valueTowardsCompletion\": 0.0, \"exceptionClass\": \"\", \"trace\": \"\"}}, \"*\")"
      ],
      "text/plain": [
       "<IPython.core.display.Javascript object>"
      ]
     },
     "metadata": {},
     "output_type": "display_data"
    },
    {
     "data": {
      "text/markdown": [
       "<span style=\"color:#cc3333\">Incorrect:</span> Expected file to exist with name `cows_and_goats.csv`"
      ],
      "text/plain": [
       "Incorrect: Expected file to exist with name `cows_and_goats.csv`"
      ]
     },
     "metadata": {},
     "output_type": "display_data"
    }
   ],
   "source": [
    "# Your code goes here\n",
    "\n",
    "# Check your answer\n",
    "q5.check()"
   ]
  },
  {
   "cell_type": "code",
   "execution_count": 12,
   "id": "a8e48a56",
   "metadata": {
    "execution": {
     "iopub.execute_input": "2022-05-25T05:50:35.825175Z",
     "iopub.status.busy": "2022-05-25T05:50:35.824385Z",
     "iopub.status.idle": "2022-05-25T05:50:35.828212Z",
     "shell.execute_reply": "2022-05-25T05:50:35.827370Z"
    },
    "papermill": {
     "duration": 0.029348,
     "end_time": "2022-05-25T05:50:35.830122",
     "exception": false,
     "start_time": "2022-05-25T05:50:35.800774",
     "status": "completed"
    },
    "tags": []
   },
   "outputs": [],
   "source": [
    "#q5.hint()\n",
    "#q5.solution()"
   ]
  },
  {
   "cell_type": "markdown",
   "id": "c703b816",
   "metadata": {
    "papermill": {
     "duration": 0.020591,
     "end_time": "2022-05-25T05:50:35.871873",
     "exception": false,
     "start_time": "2022-05-25T05:50:35.851282",
     "status": "completed"
    },
    "tags": []
   },
   "source": [
    "# Keep going\n",
    "\n",
    "Move on to learn about **[indexing, selecting and assigning](https://www.kaggle.com/residentmario/indexing-selecting-assigning)**."
   ]
  },
  {
   "cell_type": "markdown",
   "id": "7ea35502",
   "metadata": {
    "papermill": {
     "duration": 0.02125,
     "end_time": "2022-05-25T05:50:35.915530",
     "exception": false,
     "start_time": "2022-05-25T05:50:35.894280",
     "status": "completed"
    },
    "tags": []
   },
   "source": [
    "---\n",
    "\n",
    "\n",
    "\n",
    "\n",
    "*Have questions or comments? Visit the [course discussion forum](https://www.kaggle.com/learn/pandas/discussion) to chat with other learners.*"
   ]
  }
 ],
 "metadata": {
  "kernelspec": {
   "display_name": "Python 3",
   "language": "python",
   "name": "python3"
  },
  "language_info": {
   "codemirror_mode": {
    "name": "ipython",
    "version": 3
   },
   "file_extension": ".py",
   "mimetype": "text/x-python",
   "name": "python",
   "nbconvert_exporter": "python",
   "pygments_lexer": "ipython3",
   "version": "3.7.12"
  },
  "papermill": {
   "default_parameters": {},
   "duration": 11.821448,
   "end_time": "2022-05-25T05:50:36.555908",
   "environment_variables": {},
   "exception": null,
   "input_path": "__notebook__.ipynb",
   "output_path": "__notebook__.ipynb",
   "parameters": {},
   "start_time": "2022-05-25T05:50:24.734460",
   "version": "2.3.4"
  }
 },
 "nbformat": 4,
 "nbformat_minor": 5
}
