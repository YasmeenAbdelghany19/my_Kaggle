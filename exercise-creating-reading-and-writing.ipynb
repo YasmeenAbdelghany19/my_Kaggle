{
 "cells": [
  {
   "cell_type": "markdown",
   "id": "3f39ebaa",
   "metadata": {
    "papermill": {
     "duration": 0.016573,
     "end_time": "2022-05-25T06:00:41.670053",
     "exception": false,
     "start_time": "2022-05-25T06:00:41.653480",
     "status": "completed"
    },
    "tags": []
   },
   "source": [
    "**This notebook is an exercise in the [Pandas](https://www.kaggle.com/learn/pandas) course.  You can reference the tutorial at [this link](https://www.kaggle.com/residentmario/creating-reading-and-writing).**\n",
    "\n",
    "---\n"
   ]
  },
  {
   "cell_type": "markdown",
   "id": "df202e70",
   "metadata": {
    "papermill": {
     "duration": 0.0146,
     "end_time": "2022-05-25T06:00:41.700873",
     "exception": false,
     "start_time": "2022-05-25T06:00:41.686273",
     "status": "completed"
    },
    "tags": []
   },
   "source": [
    "# Introduction\n",
    "\n",
    "The first step in most data analytics projects is reading the data file. In this exercise, you'll create Series and DataFrame objects, both by hand and by reading data files.\n",
    "\n",
    "Run the code cell below to load libraries you will need (including code to check your answers)."
   ]
  },
  {
   "cell_type": "code",
   "execution_count": 1,
   "id": "2ca56e68",
   "metadata": {
    "execution": {
     "iopub.execute_input": "2022-05-25T06:00:41.731759Z",
     "iopub.status.busy": "2022-05-25T06:00:41.731362Z",
     "iopub.status.idle": "2022-05-25T06:00:43.676444Z",
     "shell.execute_reply": "2022-05-25T06:00:43.675041Z"
    },
    "papermill": {
     "duration": 1.965918,
     "end_time": "2022-05-25T06:00:43.680800",
     "exception": false,
     "start_time": "2022-05-25T06:00:41.714882",
     "status": "completed"
    },
    "tags": []
   },
   "outputs": [
    {
     "name": "stdout",
     "output_type": "stream",
     "text": [
      "Setup complete.\n"
     ]
    }
   ],
   "source": [
    "import pandas as pd\n",
    "pd.set_option('max_rows', 5)\n",
    "from learntools.core import binder; binder.bind(globals())\n",
    "from learntools.pandas.creating_reading_and_writing import *\n",
    "print(\"Setup complete.\")"
   ]
  },
  {
   "cell_type": "markdown",
   "id": "e9d040d8",
   "metadata": {
    "papermill": {
     "duration": 0.014342,
     "end_time": "2022-05-25T06:00:43.711634",
     "exception": false,
     "start_time": "2022-05-25T06:00:43.697292",
     "status": "completed"
    },
    "tags": []
   },
   "source": [
    "# Exercises"
   ]
  },
  {
   "cell_type": "markdown",
   "id": "f1e91748",
   "metadata": {
    "papermill": {
     "duration": 0.015379,
     "end_time": "2022-05-25T06:00:43.742136",
     "exception": false,
     "start_time": "2022-05-25T06:00:43.726757",
     "status": "completed"
    },
    "tags": []
   },
   "source": [
    "## 1.\n",
    "\n",
    "In the cell below, create a DataFrame `fruits` that looks like this:\n",
    "\n",
    "![](https://i.imgur.com/Ax3pp2A.png)"
   ]
  },
  {
   "cell_type": "code",
   "execution_count": 2,
   "id": "29bb2e4d",
   "metadata": {
    "execution": {
     "iopub.execute_input": "2022-05-25T06:00:43.774992Z",
     "iopub.status.busy": "2022-05-25T06:00:43.774295Z",
     "iopub.status.idle": "2022-05-25T06:00:43.784977Z",
     "shell.execute_reply": "2022-05-25T06:00:43.784354Z"
    },
    "papermill": {
     "duration": 0.029179,
     "end_time": "2022-05-25T06:00:43.786748",
     "exception": false,
     "start_time": "2022-05-25T06:00:43.757569",
     "status": "completed"
    },
    "tags": []
   },
   "outputs": [
    {
     "data": {
      "application/javascript": [
       "parent.postMessage({\"jupyterEvent\": \"custom.exercise_interaction\", \"data\": {\"outcomeType\": 4, \"interactionType\": 1, \"questionType\": 1, \"questionId\": \"1_FruitDfCreation\", \"learnToolsVersion\": \"0.3.4\", \"valueTowardsCompletion\": 0.0, \"failureMessage\": \"\", \"exceptionClass\": \"\", \"trace\": \"\"}}, \"*\")"
      ],
      "text/plain": [
       "<IPython.core.display.Javascript object>"
      ]
     },
     "metadata": {},
     "output_type": "display_data"
    },
    {
     "data": {
      "text/markdown": [
       "<span style=\"color:#ccaa33\">Check:</span> When you've updated the starter code, `check()` will tell you whether your code is correct. You need to update the code that creates variable `fruits`"
      ],
      "text/plain": [
       "Check: When you've updated the starter code, `check()` will tell you whether your code is correct. You need to update the code that creates variable `fruits`"
      ]
     },
     "metadata": {},
     "output_type": "display_data"
    },
    {
     "data": {
      "text/markdown": [],
      "text/plain": [
       "<learntools.core.constants.PlaceholderValue at 0x7f0aaa8e50d0>"
      ]
     },
     "execution_count": 2,
     "metadata": {},
     "output_type": "execute_result"
    }
   ],
   "source": [
    "# Your code goes here. Create a dataframe matching the above diagram and assign it to the variable fruits.\n",
    "fruits = ____\n",
    "\n",
    "# Check your answer\n",
    "q1.check()\n",
    "fruits"
   ]
  },
  {
   "cell_type": "code",
   "execution_count": 3,
   "id": "347d1169",
   "metadata": {
    "execution": {
     "iopub.execute_input": "2022-05-25T06:00:43.821853Z",
     "iopub.status.busy": "2022-05-25T06:00:43.821205Z",
     "iopub.status.idle": "2022-05-25T06:00:43.825051Z",
     "shell.execute_reply": "2022-05-25T06:00:43.823870Z"
    },
    "papermill": {
     "duration": 0.024027,
     "end_time": "2022-05-25T06:00:43.827278",
     "exception": false,
     "start_time": "2022-05-25T06:00:43.803251",
     "status": "completed"
    },
    "tags": []
   },
   "outputs": [],
   "source": [
    "#q1.hint()\n",
    "#q1.solution()"
   ]
  },
  {
   "cell_type": "markdown",
   "id": "af2b0073",
   "metadata": {
    "papermill": {
     "duration": 0.017188,
     "end_time": "2022-05-25T06:00:43.861429",
     "exception": false,
     "start_time": "2022-05-25T06:00:43.844241",
     "status": "completed"
    },
    "tags": []
   },
   "source": [
    "## 2.\n",
    "\n",
    "Create a dataframe `fruit_sales` that matches the diagram below:\n",
    "\n",
    "![](https://i.imgur.com/CHPn7ZF.png)"
   ]
  },
  {
   "cell_type": "code",
   "execution_count": 4,
   "id": "e231ac44",
   "metadata": {
    "execution": {
     "iopub.execute_input": "2022-05-25T06:00:43.896040Z",
     "iopub.status.busy": "2022-05-25T06:00:43.895052Z",
     "iopub.status.idle": "2022-05-25T06:00:43.903898Z",
     "shell.execute_reply": "2022-05-25T06:00:43.903207Z"
    },
    "papermill": {
     "duration": 0.028471,
     "end_time": "2022-05-25T06:00:43.905705",
     "exception": false,
     "start_time": "2022-05-25T06:00:43.877234",
     "status": "completed"
    },
    "tags": []
   },
   "outputs": [
    {
     "data": {
      "application/javascript": [
       "parent.postMessage({\"jupyterEvent\": \"custom.exercise_interaction\", \"data\": {\"outcomeType\": 4, \"interactionType\": 1, \"questionType\": 1, \"questionId\": \"2_FruitSalesDfCreation\", \"learnToolsVersion\": \"0.3.4\", \"valueTowardsCompletion\": 0.0, \"failureMessage\": \"\", \"exceptionClass\": \"\", \"trace\": \"\"}}, \"*\")"
      ],
      "text/plain": [
       "<IPython.core.display.Javascript object>"
      ]
     },
     "metadata": {},
     "output_type": "display_data"
    },
    {
     "data": {
      "text/markdown": [
       "<span style=\"color:#ccaa33\">Check:</span> When you've updated the starter code, `check()` will tell you whether your code is correct. You need to update the code that creates variable `fruit_sales`"
      ],
      "text/plain": [
       "Check: When you've updated the starter code, `check()` will tell you whether your code is correct. You need to update the code that creates variable `fruit_sales`"
      ]
     },
     "metadata": {},
     "output_type": "display_data"
    },
    {
     "data": {
      "text/markdown": [],
      "text/plain": [
       "<learntools.core.constants.PlaceholderValue at 0x7f0aaa8e50d0>"
      ]
     },
     "execution_count": 4,
     "metadata": {},
     "output_type": "execute_result"
    }
   ],
   "source": [
    "# Your code goes here. Create a dataframe matching the above diagram and assign it to the variable fruit_sales.\n",
    "fruit_sales = ____\n",
    "\n",
    "# Check your answer\n",
    "q2.check()\n",
    "fruit_sales"
   ]
  },
  {
   "cell_type": "code",
   "execution_count": 5,
   "id": "76235649",
   "metadata": {
    "execution": {
     "iopub.execute_input": "2022-05-25T06:00:43.944607Z",
     "iopub.status.busy": "2022-05-25T06:00:43.944066Z",
     "iopub.status.idle": "2022-05-25T06:00:43.947400Z",
     "shell.execute_reply": "2022-05-25T06:00:43.946619Z"
    },
    "papermill": {
     "duration": 0.024303,
     "end_time": "2022-05-25T06:00:43.949538",
     "exception": false,
     "start_time": "2022-05-25T06:00:43.925235",
     "status": "completed"
    },
    "tags": []
   },
   "outputs": [],
   "source": [
    "#q2.hint()\n",
    "#q2.solution()"
   ]
  },
  {
   "cell_type": "markdown",
   "id": "de95a22d",
   "metadata": {
    "papermill": {
     "duration": 0.018438,
     "end_time": "2022-05-25T06:00:43.986046",
     "exception": false,
     "start_time": "2022-05-25T06:00:43.967608",
     "status": "completed"
    },
    "tags": []
   },
   "source": [
    "## 3.\n",
    "\n",
    "Create a variable `ingredients` with a Series that looks like:\n",
    "\n",
    "```\n",
    "Flour     4 cups\n",
    "Milk       1 cup\n",
    "Eggs     2 large\n",
    "Spam       1 can\n",
    "Name: Dinner, dtype: object\n",
    "```"
   ]
  },
  {
   "cell_type": "code",
   "execution_count": 6,
   "id": "2523b9c8",
   "metadata": {
    "execution": {
     "iopub.execute_input": "2022-05-25T06:00:44.029803Z",
     "iopub.status.busy": "2022-05-25T06:00:44.029262Z",
     "iopub.status.idle": "2022-05-25T06:00:44.036937Z",
     "shell.execute_reply": "2022-05-25T06:00:44.035981Z"
    },
    "papermill": {
     "duration": 0.031949,
     "end_time": "2022-05-25T06:00:44.039795",
     "exception": false,
     "start_time": "2022-05-25T06:00:44.007846",
     "status": "completed"
    },
    "tags": []
   },
   "outputs": [
    {
     "data": {
      "application/javascript": [
       "parent.postMessage({\"jupyterEvent\": \"custom.exercise_interaction\", \"data\": {\"outcomeType\": 4, \"interactionType\": 1, \"questionType\": 2, \"questionId\": \"3_RecipeSeriesCreation\", \"learnToolsVersion\": \"0.3.4\", \"valueTowardsCompletion\": 0.0, \"failureMessage\": \"\", \"exceptionClass\": \"\", \"trace\": \"\"}}, \"*\")"
      ],
      "text/plain": [
       "<IPython.core.display.Javascript object>"
      ]
     },
     "metadata": {},
     "output_type": "display_data"
    },
    {
     "data": {
      "text/markdown": [
       "<span style=\"color:#ccaa33\">Check:</span> When you've updated the starter code, `check()` will tell you whether your code is correct. You need to update the code that creates variable `ingredients`"
      ],
      "text/plain": [
       "Check: When you've updated the starter code, `check()` will tell you whether your code is correct. You need to update the code that creates variable `ingredients`"
      ]
     },
     "metadata": {},
     "output_type": "display_data"
    },
    {
     "data": {
      "text/markdown": [],
      "text/plain": [
       "<learntools.core.constants.PlaceholderValue at 0x7f0aaa8e50d0>"
      ]
     },
     "execution_count": 6,
     "metadata": {},
     "output_type": "execute_result"
    }
   ],
   "source": [
    "ingredients = ____\n",
    "\n",
    "# Check your answer\n",
    "q3.check()\n",
    "ingredients"
   ]
  },
  {
   "cell_type": "code",
   "execution_count": 7,
   "id": "5c27fb90",
   "metadata": {
    "execution": {
     "iopub.execute_input": "2022-05-25T06:00:44.081470Z",
     "iopub.status.busy": "2022-05-25T06:00:44.081180Z",
     "iopub.status.idle": "2022-05-25T06:00:44.084458Z",
     "shell.execute_reply": "2022-05-25T06:00:44.083569Z"
    },
    "papermill": {
     "duration": 0.025517,
     "end_time": "2022-05-25T06:00:44.086440",
     "exception": false,
     "start_time": "2022-05-25T06:00:44.060923",
     "status": "completed"
    },
    "tags": []
   },
   "outputs": [],
   "source": [
    "#q3.hint()\n",
    "#q3.solution()"
   ]
  },
  {
   "cell_type": "markdown",
   "id": "66aaa07c",
   "metadata": {
    "papermill": {
     "duration": 0.020305,
     "end_time": "2022-05-25T06:00:44.126350",
     "exception": false,
     "start_time": "2022-05-25T06:00:44.106045",
     "status": "completed"
    },
    "tags": []
   },
   "source": [
    "## 4.\n",
    "\n",
    "Read the following csv dataset of wine reviews into a DataFrame called `reviews`:\n",
    "\n",
    "![](https://i.imgur.com/74RCZtU.png)\n",
    "\n",
    "The filepath to the csv file is `../input/wine-reviews/winemag-data_first150k.csv`. The first few lines look like:\n",
    "\n",
    "```\n",
    ",country,description,designation,points,price,province,region_1,region_2,variety,winery\n",
    "0,US,\"This tremendous 100% varietal wine[...]\",Martha's Vineyard,96,235.0,California,Napa Valley,Napa,Cabernet Sauvignon,Heitz\n",
    "1,Spain,\"Ripe aromas of fig, blackberry and[...]\",Carodorum Selección Especial Reserva,96,110.0,Northern Spain,Toro,,Tinta de Toro,Bodega Carmen Rodríguez\n",
    "```"
   ]
  },
  {
   "cell_type": "code",
   "execution_count": 8,
   "id": "3918ff16",
   "metadata": {
    "execution": {
     "iopub.execute_input": "2022-05-25T06:00:44.167722Z",
     "iopub.status.busy": "2022-05-25T06:00:44.167402Z",
     "iopub.status.idle": "2022-05-25T06:00:44.177459Z",
     "shell.execute_reply": "2022-05-25T06:00:44.176720Z"
    },
    "papermill": {
     "duration": 0.033354,
     "end_time": "2022-05-25T06:00:44.179285",
     "exception": false,
     "start_time": "2022-05-25T06:00:44.145931",
     "status": "completed"
    },
    "tags": []
   },
   "outputs": [
    {
     "data": {
      "application/javascript": [
       "parent.postMessage({\"jupyterEvent\": \"custom.exercise_interaction\", \"data\": {\"outcomeType\": 4, \"interactionType\": 1, \"questionType\": 1, \"questionId\": \"4_ReadWineCsv\", \"learnToolsVersion\": \"0.3.4\", \"valueTowardsCompletion\": 0.0, \"failureMessage\": \"\", \"exceptionClass\": \"\", \"trace\": \"\"}}, \"*\")"
      ],
      "text/plain": [
       "<IPython.core.display.Javascript object>"
      ]
     },
     "metadata": {},
     "output_type": "display_data"
    },
    {
     "data": {
      "text/markdown": [
       "<span style=\"color:#ccaa33\">Check:</span> When you've updated the starter code, `check()` will tell you whether your code is correct. You need to update the code that creates variable `reviews`"
      ],
      "text/plain": [
       "Check: When you've updated the starter code, `check()` will tell you whether your code is correct. You need to update the code that creates variable `reviews`"
      ]
     },
     "metadata": {},
     "output_type": "display_data"
    },
    {
     "data": {
      "text/markdown": [],
      "text/plain": [
       "<learntools.core.constants.PlaceholderValue at 0x7f0aaa8e50d0>"
      ]
     },
     "execution_count": 8,
     "metadata": {},
     "output_type": "execute_result"
    }
   ],
   "source": [
    "reviews = ____\n",
    "\n",
    "# Check your answer\n",
    "q4.check()\n",
    "reviews"
   ]
  },
  {
   "cell_type": "code",
   "execution_count": 9,
   "id": "3bfcd1a4",
   "metadata": {
    "execution": {
     "iopub.execute_input": "2022-05-25T06:00:44.223433Z",
     "iopub.status.busy": "2022-05-25T06:00:44.223120Z",
     "iopub.status.idle": "2022-05-25T06:00:44.227976Z",
     "shell.execute_reply": "2022-05-25T06:00:44.226558Z"
    },
    "papermill": {
     "duration": 0.03038,
     "end_time": "2022-05-25T06:00:44.230139",
     "exception": false,
     "start_time": "2022-05-25T06:00:44.199759",
     "status": "completed"
    },
    "tags": []
   },
   "outputs": [],
   "source": [
    "#q4.hint()\n",
    "#q4.solution()"
   ]
  },
  {
   "cell_type": "markdown",
   "id": "46582c84",
   "metadata": {
    "papermill": {
     "duration": 0.019884,
     "end_time": "2022-05-25T06:00:44.271296",
     "exception": false,
     "start_time": "2022-05-25T06:00:44.251412",
     "status": "completed"
    },
    "tags": []
   },
   "source": [
    "## 5.\n",
    "\n",
    "Run the cell below to create and display a DataFrame called `animals`:"
   ]
  },
  {
   "cell_type": "code",
   "execution_count": 10,
   "id": "9fb6bea8",
   "metadata": {
    "execution": {
     "iopub.execute_input": "2022-05-25T06:00:44.317720Z",
     "iopub.status.busy": "2022-05-25T06:00:44.316717Z",
     "iopub.status.idle": "2022-05-25T06:00:44.329963Z",
     "shell.execute_reply": "2022-05-25T06:00:44.329100Z"
    },
    "papermill": {
     "duration": 0.039441,
     "end_time": "2022-05-25T06:00:44.332736",
     "exception": false,
     "start_time": "2022-05-25T06:00:44.293295",
     "status": "completed"
    },
    "tags": []
   },
   "outputs": [
    {
     "data": {
      "text/html": [
       "<div>\n",
       "<style scoped>\n",
       "    .dataframe tbody tr th:only-of-type {\n",
       "        vertical-align: middle;\n",
       "    }\n",
       "\n",
       "    .dataframe tbody tr th {\n",
       "        vertical-align: top;\n",
       "    }\n",
       "\n",
       "    .dataframe thead th {\n",
       "        text-align: right;\n",
       "    }\n",
       "</style>\n",
       "<table border=\"1\" class=\"dataframe\">\n",
       "  <thead>\n",
       "    <tr style=\"text-align: right;\">\n",
       "      <th></th>\n",
       "      <th>Cows</th>\n",
       "      <th>Goats</th>\n",
       "    </tr>\n",
       "  </thead>\n",
       "  <tbody>\n",
       "    <tr>\n",
       "      <th>Year 1</th>\n",
       "      <td>12</td>\n",
       "      <td>22</td>\n",
       "    </tr>\n",
       "    <tr>\n",
       "      <th>Year 2</th>\n",
       "      <td>20</td>\n",
       "      <td>19</td>\n",
       "    </tr>\n",
       "  </tbody>\n",
       "</table>\n",
       "</div>"
      ],
      "text/plain": [
       "        Cows  Goats\n",
       "Year 1    12     22\n",
       "Year 2    20     19"
      ]
     },
     "execution_count": 10,
     "metadata": {},
     "output_type": "execute_result"
    }
   ],
   "source": [
    "animals = pd.DataFrame({'Cows': [12, 20], 'Goats': [22, 19]}, index=['Year 1', 'Year 2'])\n",
    "animals"
   ]
  },
  {
   "cell_type": "markdown",
   "id": "00cc025d",
   "metadata": {
    "papermill": {
     "duration": 0.022271,
     "end_time": "2022-05-25T06:00:44.377053",
     "exception": false,
     "start_time": "2022-05-25T06:00:44.354782",
     "status": "completed"
    },
    "tags": []
   },
   "source": [
    "In the cell below, write code to save this DataFrame to disk as a csv file with the name `cows_and_goats.csv`."
   ]
  },
  {
   "cell_type": "code",
   "execution_count": 11,
   "id": "b5f99bf6",
   "metadata": {
    "execution": {
     "iopub.execute_input": "2022-05-25T06:00:44.423574Z",
     "iopub.status.busy": "2022-05-25T06:00:44.423287Z",
     "iopub.status.idle": "2022-05-25T06:00:44.429351Z",
     "shell.execute_reply": "2022-05-25T06:00:44.428733Z"
    },
    "papermill": {
     "duration": 0.031898,
     "end_time": "2022-05-25T06:00:44.431069",
     "exception": false,
     "start_time": "2022-05-25T06:00:44.399171",
     "status": "completed"
    },
    "tags": []
   },
   "outputs": [
    {
     "data": {
      "application/javascript": [
       "parent.postMessage({\"jupyterEvent\": \"custom.exercise_interaction\", \"data\": {\"outcomeType\": 2, \"failureMessage\": \"Expected file to exist with name `cows_and_goats.csv`\", \"interactionType\": 1, \"questionType\": 2, \"questionId\": \"5_SaveAnimalsCsv\", \"learnToolsVersion\": \"0.3.4\", \"valueTowardsCompletion\": 0.0, \"exceptionClass\": \"\", \"trace\": \"\"}}, \"*\")"
      ],
      "text/plain": [
       "<IPython.core.display.Javascript object>"
      ]
     },
     "metadata": {},
     "output_type": "display_data"
    },
    {
     "data": {
      "text/markdown": [
       "<span style=\"color:#cc3333\">Incorrect:</span> Expected file to exist with name `cows_and_goats.csv`"
      ],
      "text/plain": [
       "Incorrect: Expected file to exist with name `cows_and_goats.csv`"
      ]
     },
     "metadata": {},
     "output_type": "display_data"
    }
   ],
   "source": [
    "# Your code goes here\n",
    "\n",
    "# Check your answer\n",
    "q5.check()"
   ]
  },
  {
   "cell_type": "code",
   "execution_count": 12,
   "id": "1f234d1a",
   "metadata": {
    "execution": {
     "iopub.execute_input": "2022-05-25T06:00:44.481090Z",
     "iopub.status.busy": "2022-05-25T06:00:44.480504Z",
     "iopub.status.idle": "2022-05-25T06:00:44.484824Z",
     "shell.execute_reply": "2022-05-25T06:00:44.483740Z"
    },
    "papermill": {
     "duration": 0.032401,
     "end_time": "2022-05-25T06:00:44.487027",
     "exception": false,
     "start_time": "2022-05-25T06:00:44.454626",
     "status": "completed"
    },
    "tags": []
   },
   "outputs": [],
   "source": [
    "#q5.hint()\n",
    "#q5.solution()"
   ]
  },
  {
   "cell_type": "markdown",
   "id": "f24716a4",
   "metadata": {
    "papermill": {
     "duration": 0.024053,
     "end_time": "2022-05-25T06:00:44.533959",
     "exception": false,
     "start_time": "2022-05-25T06:00:44.509906",
     "status": "completed"
    },
    "tags": []
   },
   "source": [
    "# Keep going\n",
    "\n",
    "Move on to learn about **[indexing, selecting and assigning](https://www.kaggle.com/residentmario/indexing-selecting-assigning)**."
   ]
  },
  {
   "cell_type": "markdown",
   "id": "6730f894",
   "metadata": {
    "papermill": {
     "duration": 0.024275,
     "end_time": "2022-05-25T06:00:44.581492",
     "exception": false,
     "start_time": "2022-05-25T06:00:44.557217",
     "status": "completed"
    },
    "tags": []
   },
   "source": [
    "---\n",
    "\n",
    "\n",
    "\n",
    "\n",
    "*Have questions or comments? Visit the [course discussion forum](https://www.kaggle.com/learn/pandas/discussion) to chat with other learners.*"
   ]
  }
 ],
 "metadata": {
  "kernelspec": {
   "display_name": "Python 3",
   "language": "python",
   "name": "python3"
  },
  "language_info": {
   "codemirror_mode": {
    "name": "ipython",
    "version": 3
   },
   "file_extension": ".py",
   "mimetype": "text/x-python",
   "name": "python",
   "nbconvert_exporter": "python",
   "pygments_lexer": "ipython3",
   "version": "3.7.12"
  },
  "papermill": {
   "default_parameters": {},
   "duration": 15.059271,
   "end_time": "2022-05-25T06:00:45.429125",
   "environment_variables": {},
   "exception": null,
   "input_path": "__notebook__.ipynb",
   "output_path": "__notebook__.ipynb",
   "parameters": {},
   "start_time": "2022-05-25T06:00:30.369854",
   "version": "2.3.4"
  }
 },
 "nbformat": 4,
 "nbformat_minor": 5
}
