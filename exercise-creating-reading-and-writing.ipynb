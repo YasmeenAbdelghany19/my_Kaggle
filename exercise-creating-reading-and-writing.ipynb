{
 "cells": [
  {
   "cell_type": "markdown",
   "id": "4eb4bcf7",
   "metadata": {
    "papermill": {
     "duration": 0.008694,
     "end_time": "2022-05-27T16:52:37.466999",
     "exception": false,
     "start_time": "2022-05-27T16:52:37.458305",
     "status": "completed"
    },
    "tags": []
   },
   "source": [
    "**This notebook is an exercise in the [Pandas](https://www.kaggle.com/learn/pandas) course.  You can reference the tutorial at [this link](https://www.kaggle.com/residentmario/creating-reading-and-writing).**\n",
    "\n",
    "---\n"
   ]
  },
  {
   "cell_type": "markdown",
   "id": "2dc0933d",
   "metadata": {
    "papermill": {
     "duration": 0.005051,
     "end_time": "2022-05-27T16:52:37.477991",
     "exception": false,
     "start_time": "2022-05-27T16:52:37.472940",
     "status": "completed"
    },
    "tags": []
   },
   "source": [
    "# Introduction\n",
    "\n",
    "The first step in most data analytics projects is reading the data file. In this exercise, you'll create Series and DataFrame objects, both by hand and by reading data files.\n",
    "\n",
    "Run the code cell below to load libraries you will need (including code to check your answers)."
   ]
  },
  {
   "cell_type": "code",
   "execution_count": 1,
   "id": "0c49b29e",
   "metadata": {
    "execution": {
     "iopub.execute_input": "2022-05-27T16:52:37.490627Z",
     "iopub.status.busy": "2022-05-27T16:52:37.489999Z",
     "iopub.status.idle": "2022-05-27T16:52:39.160137Z",
     "shell.execute_reply": "2022-05-27T16:52:39.159096Z"
    },
    "papermill": {
     "duration": 1.679478,
     "end_time": "2022-05-27T16:52:39.162789",
     "exception": false,
     "start_time": "2022-05-27T16:52:37.483311",
     "status": "completed"
    },
    "tags": []
   },
   "outputs": [
    {
     "name": "stdout",
     "output_type": "stream",
     "text": [
      "Setup complete.\n"
     ]
    }
   ],
   "source": [
    "import pandas as pd\n",
    "pd.set_option('max_rows', 5)\n",
    "from learntools.core import binder; binder.bind(globals())\n",
    "from learntools.pandas.creating_reading_and_writing import *\n",
    "print(\"Setup complete.\")"
   ]
  },
  {
   "cell_type": "markdown",
   "id": "4e506083",
   "metadata": {
    "papermill": {
     "duration": 0.005133,
     "end_time": "2022-05-27T16:52:39.173424",
     "exception": false,
     "start_time": "2022-05-27T16:52:39.168291",
     "status": "completed"
    },
    "tags": []
   },
   "source": [
    "# Exercises"
   ]
  },
  {
   "cell_type": "markdown",
   "id": "8f51bf47",
   "metadata": {
    "papermill": {
     "duration": 0.005027,
     "end_time": "2022-05-27T16:52:39.183844",
     "exception": false,
     "start_time": "2022-05-27T16:52:39.178817",
     "status": "completed"
    },
    "tags": []
   },
   "source": [
    "## 1.\n",
    "\n",
    "In the cell below, create a DataFrame `fruits` that looks like this:\n",
    "\n",
    "![](https://i.imgur.com/Ax3pp2A.png)"
   ]
  },
  {
   "cell_type": "code",
   "execution_count": 2,
   "id": "fce5ada9",
   "metadata": {
    "execution": {
     "iopub.execute_input": "2022-05-27T16:52:39.196366Z",
     "iopub.status.busy": "2022-05-27T16:52:39.195942Z",
     "iopub.status.idle": "2022-05-27T16:52:39.207327Z",
     "shell.execute_reply": "2022-05-27T16:52:39.206563Z"
    },
    "papermill": {
     "duration": 0.020135,
     "end_time": "2022-05-27T16:52:39.209310",
     "exception": false,
     "start_time": "2022-05-27T16:52:39.189175",
     "status": "completed"
    },
    "tags": []
   },
   "outputs": [
    {
     "data": {
      "application/javascript": [
       "parent.postMessage({\"jupyterEvent\": \"custom.exercise_interaction\", \"data\": {\"outcomeType\": 4, \"interactionType\": 1, \"questionType\": 1, \"questionId\": \"1_FruitDfCreation\", \"learnToolsVersion\": \"0.3.4\", \"valueTowardsCompletion\": 0.0, \"failureMessage\": \"\", \"exceptionClass\": \"\", \"trace\": \"\"}}, \"*\")"
      ],
      "text/plain": [
       "<IPython.core.display.Javascript object>"
      ]
     },
     "metadata": {},
     "output_type": "display_data"
    },
    {
     "data": {
      "text/markdown": [
       "<span style=\"color:#ccaa33\">Check:</span> When you've updated the starter code, `check()` will tell you whether your code is correct. You need to update the code that creates variable `fruits`"
      ],
      "text/plain": [
       "Check: When you've updated the starter code, `check()` will tell you whether your code is correct. You need to update the code that creates variable `fruits`"
      ]
     },
     "metadata": {},
     "output_type": "display_data"
    },
    {
     "data": {
      "text/markdown": [],
      "text/plain": [
       "<learntools.core.constants.PlaceholderValue at 0x7fb6179b58d0>"
      ]
     },
     "execution_count": 2,
     "metadata": {},
     "output_type": "execute_result"
    }
   ],
   "source": [
    "# Your code goes here. Create a dataframe matching the above diagram and assign it to the variable fruits.\n",
    "fruits = ____\n",
    "\n",
    "# Check your answer\n",
    "q1.check()\n",
    "fruits"
   ]
  },
  {
   "cell_type": "code",
   "execution_count": 3,
   "id": "f0e83365",
   "metadata": {
    "execution": {
     "iopub.execute_input": "2022-05-27T16:52:39.223757Z",
     "iopub.status.busy": "2022-05-27T16:52:39.222954Z",
     "iopub.status.idle": "2022-05-27T16:52:39.226745Z",
     "shell.execute_reply": "2022-05-27T16:52:39.225994Z"
    },
    "papermill": {
     "duration": 0.01349,
     "end_time": "2022-05-27T16:52:39.228890",
     "exception": false,
     "start_time": "2022-05-27T16:52:39.215400",
     "status": "completed"
    },
    "tags": []
   },
   "outputs": [],
   "source": [
    "#q1.hint()\n",
    "#q1.solution()"
   ]
  },
  {
   "cell_type": "markdown",
   "id": "ea1f75ec",
   "metadata": {
    "papermill": {
     "duration": 0.005882,
     "end_time": "2022-05-27T16:52:39.241037",
     "exception": false,
     "start_time": "2022-05-27T16:52:39.235155",
     "status": "completed"
    },
    "tags": []
   },
   "source": [
    "## 2.\n",
    "\n",
    "Create a dataframe `fruit_sales` that matches the diagram below:\n",
    "\n",
    "![](https://i.imgur.com/CHPn7ZF.png)"
   ]
  },
  {
   "cell_type": "code",
   "execution_count": 4,
   "id": "e988cbe1",
   "metadata": {
    "execution": {
     "iopub.execute_input": "2022-05-27T16:52:39.254963Z",
     "iopub.status.busy": "2022-05-27T16:52:39.254539Z",
     "iopub.status.idle": "2022-05-27T16:52:39.264949Z",
     "shell.execute_reply": "2022-05-27T16:52:39.264168Z"
    },
    "papermill": {
     "duration": 0.019898,
     "end_time": "2022-05-27T16:52:39.266928",
     "exception": false,
     "start_time": "2022-05-27T16:52:39.247030",
     "status": "completed"
    },
    "tags": []
   },
   "outputs": [
    {
     "data": {
      "application/javascript": [
       "parent.postMessage({\"jupyterEvent\": \"custom.exercise_interaction\", \"data\": {\"outcomeType\": 4, \"interactionType\": 1, \"questionType\": 1, \"questionId\": \"2_FruitSalesDfCreation\", \"learnToolsVersion\": \"0.3.4\", \"valueTowardsCompletion\": 0.0, \"failureMessage\": \"\", \"exceptionClass\": \"\", \"trace\": \"\"}}, \"*\")"
      ],
      "text/plain": [
       "<IPython.core.display.Javascript object>"
      ]
     },
     "metadata": {},
     "output_type": "display_data"
    },
    {
     "data": {
      "text/markdown": [
       "<span style=\"color:#ccaa33\">Check:</span> When you've updated the starter code, `check()` will tell you whether your code is correct. You need to update the code that creates variable `fruit_sales`"
      ],
      "text/plain": [
       "Check: When you've updated the starter code, `check()` will tell you whether your code is correct. You need to update the code that creates variable `fruit_sales`"
      ]
     },
     "metadata": {},
     "output_type": "display_data"
    },
    {
     "data": {
      "text/markdown": [],
      "text/plain": [
       "<learntools.core.constants.PlaceholderValue at 0x7fb6179b58d0>"
      ]
     },
     "execution_count": 4,
     "metadata": {},
     "output_type": "execute_result"
    }
   ],
   "source": [
    "# Your code goes here. Create a dataframe matching the above diagram and assign it to the variable fruit_sales.\n",
    "fruit_sales = ____\n",
    "\n",
    "# Check your answer\n",
    "q2.check()\n",
    "fruit_sales"
   ]
  },
  {
   "cell_type": "code",
   "execution_count": 5,
   "id": "316eb39e",
   "metadata": {
    "execution": {
     "iopub.execute_input": "2022-05-27T16:52:39.282001Z",
     "iopub.status.busy": "2022-05-27T16:52:39.281321Z",
     "iopub.status.idle": "2022-05-27T16:52:39.284855Z",
     "shell.execute_reply": "2022-05-27T16:52:39.284130Z"
    },
    "papermill": {
     "duration": 0.013332,
     "end_time": "2022-05-27T16:52:39.286847",
     "exception": false,
     "start_time": "2022-05-27T16:52:39.273515",
     "status": "completed"
    },
    "tags": []
   },
   "outputs": [],
   "source": [
    "#q2.hint()\n",
    "#q2.solution()"
   ]
  },
  {
   "cell_type": "markdown",
   "id": "6523ba62",
   "metadata": {
    "papermill": {
     "duration": 0.006433,
     "end_time": "2022-05-27T16:52:39.299917",
     "exception": false,
     "start_time": "2022-05-27T16:52:39.293484",
     "status": "completed"
    },
    "tags": []
   },
   "source": [
    "## 3.\n",
    "\n",
    "Create a variable `ingredients` with a Series that looks like:\n",
    "\n",
    "```\n",
    "Flour     4 cups\n",
    "Milk       1 cup\n",
    "Eggs     2 large\n",
    "Spam       1 can\n",
    "Name: Dinner, dtype: object\n",
    "```"
   ]
  },
  {
   "cell_type": "code",
   "execution_count": 6,
   "id": "3825e1c3",
   "metadata": {
    "execution": {
     "iopub.execute_input": "2022-05-27T16:52:39.314556Z",
     "iopub.status.busy": "2022-05-27T16:52:39.313896Z",
     "iopub.status.idle": "2022-05-27T16:52:39.321752Z",
     "shell.execute_reply": "2022-05-27T16:52:39.321089Z"
    },
    "papermill": {
     "duration": 0.017343,
     "end_time": "2022-05-27T16:52:39.323630",
     "exception": false,
     "start_time": "2022-05-27T16:52:39.306287",
     "status": "completed"
    },
    "tags": []
   },
   "outputs": [
    {
     "data": {
      "application/javascript": [
       "parent.postMessage({\"jupyterEvent\": \"custom.exercise_interaction\", \"data\": {\"outcomeType\": 4, \"interactionType\": 1, \"questionType\": 2, \"questionId\": \"3_RecipeSeriesCreation\", \"learnToolsVersion\": \"0.3.4\", \"valueTowardsCompletion\": 0.0, \"failureMessage\": \"\", \"exceptionClass\": \"\", \"trace\": \"\"}}, \"*\")"
      ],
      "text/plain": [
       "<IPython.core.display.Javascript object>"
      ]
     },
     "metadata": {},
     "output_type": "display_data"
    },
    {
     "data": {
      "text/markdown": [
       "<span style=\"color:#ccaa33\">Check:</span> When you've updated the starter code, `check()` will tell you whether your code is correct. You need to update the code that creates variable `ingredients`"
      ],
      "text/plain": [
       "Check: When you've updated the starter code, `check()` will tell you whether your code is correct. You need to update the code that creates variable `ingredients`"
      ]
     },
     "metadata": {},
     "output_type": "display_data"
    },
    {
     "data": {
      "text/markdown": [],
      "text/plain": [
       "<learntools.core.constants.PlaceholderValue at 0x7fb6179b58d0>"
      ]
     },
     "execution_count": 6,
     "metadata": {},
     "output_type": "execute_result"
    }
   ],
   "source": [
    "ingredients = ____\n",
    "\n",
    "# Check your answer\n",
    "q3.check()\n",
    "ingredients"
   ]
  },
  {
   "cell_type": "code",
   "execution_count": 7,
   "id": "3a7ec83c",
   "metadata": {
    "execution": {
     "iopub.execute_input": "2022-05-27T16:52:39.339664Z",
     "iopub.status.busy": "2022-05-27T16:52:39.338630Z",
     "iopub.status.idle": "2022-05-27T16:52:39.342512Z",
     "shell.execute_reply": "2022-05-27T16:52:39.341685Z"
    },
    "papermill": {
     "duration": 0.01389,
     "end_time": "2022-05-27T16:52:39.344428",
     "exception": false,
     "start_time": "2022-05-27T16:52:39.330538",
     "status": "completed"
    },
    "tags": []
   },
   "outputs": [],
   "source": [
    "#q3.hint()\n",
    "#q3.solution()"
   ]
  },
  {
   "cell_type": "markdown",
   "id": "64f1027c",
   "metadata": {
    "papermill": {
     "duration": 0.006581,
     "end_time": "2022-05-27T16:52:39.358002",
     "exception": false,
     "start_time": "2022-05-27T16:52:39.351421",
     "status": "completed"
    },
    "tags": []
   },
   "source": [
    "## 4.\n",
    "\n",
    "Read the following csv dataset of wine reviews into a DataFrame called `reviews`:\n",
    "\n",
    "![](https://i.imgur.com/74RCZtU.png)\n",
    "\n",
    "The filepath to the csv file is `../input/wine-reviews/winemag-data_first150k.csv`. The first few lines look like:\n",
    "\n",
    "```\n",
    ",country,description,designation,points,price,province,region_1,region_2,variety,winery\n",
    "0,US,\"This tremendous 100% varietal wine[...]\",Martha's Vineyard,96,235.0,California,Napa Valley,Napa,Cabernet Sauvignon,Heitz\n",
    "1,Spain,\"Ripe aromas of fig, blackberry and[...]\",Carodorum Selección Especial Reserva,96,110.0,Northern Spain,Toro,,Tinta de Toro,Bodega Carmen Rodríguez\n",
    "```"
   ]
  },
  {
   "cell_type": "code",
   "execution_count": 8,
   "id": "76515c85",
   "metadata": {
    "execution": {
     "iopub.execute_input": "2022-05-27T16:52:39.374158Z",
     "iopub.status.busy": "2022-05-27T16:52:39.373490Z",
     "iopub.status.idle": "2022-05-27T16:52:39.381965Z",
     "shell.execute_reply": "2022-05-27T16:52:39.380901Z"
    },
    "papermill": {
     "duration": 0.018783,
     "end_time": "2022-05-27T16:52:39.383810",
     "exception": false,
     "start_time": "2022-05-27T16:52:39.365027",
     "status": "completed"
    },
    "tags": []
   },
   "outputs": [
    {
     "data": {
      "application/javascript": [
       "parent.postMessage({\"jupyterEvent\": \"custom.exercise_interaction\", \"data\": {\"outcomeType\": 4, \"interactionType\": 1, \"questionType\": 1, \"questionId\": \"4_ReadWineCsv\", \"learnToolsVersion\": \"0.3.4\", \"valueTowardsCompletion\": 0.0, \"failureMessage\": \"\", \"exceptionClass\": \"\", \"trace\": \"\"}}, \"*\")"
      ],
      "text/plain": [
       "<IPython.core.display.Javascript object>"
      ]
     },
     "metadata": {},
     "output_type": "display_data"
    },
    {
     "data": {
      "text/markdown": [
       "<span style=\"color:#ccaa33\">Check:</span> When you've updated the starter code, `check()` will tell you whether your code is correct. You need to update the code that creates variable `reviews`"
      ],
      "text/plain": [
       "Check: When you've updated the starter code, `check()` will tell you whether your code is correct. You need to update the code that creates variable `reviews`"
      ]
     },
     "metadata": {},
     "output_type": "display_data"
    },
    {
     "data": {
      "text/markdown": [],
      "text/plain": [
       "<learntools.core.constants.PlaceholderValue at 0x7fb6179b58d0>"
      ]
     },
     "execution_count": 8,
     "metadata": {},
     "output_type": "execute_result"
    }
   ],
   "source": [
    "reviews = ____\n",
    "\n",
    "# Check your answer\n",
    "q4.check()\n",
    "reviews"
   ]
  },
  {
   "cell_type": "code",
   "execution_count": 9,
   "id": "33331968",
   "metadata": {
    "execution": {
     "iopub.execute_input": "2022-05-27T16:52:39.401121Z",
     "iopub.status.busy": "2022-05-27T16:52:39.400545Z",
     "iopub.status.idle": "2022-05-27T16:52:39.404304Z",
     "shell.execute_reply": "2022-05-27T16:52:39.403472Z"
    },
    "papermill": {
     "duration": 0.0149,
     "end_time": "2022-05-27T16:52:39.406126",
     "exception": false,
     "start_time": "2022-05-27T16:52:39.391226",
     "status": "completed"
    },
    "tags": []
   },
   "outputs": [],
   "source": [
    "#q4.hint()\n",
    "#q4.solution()"
   ]
  },
  {
   "cell_type": "markdown",
   "id": "3fc459cb",
   "metadata": {
    "papermill": {
     "duration": 0.007569,
     "end_time": "2022-05-27T16:52:39.421558",
     "exception": false,
     "start_time": "2022-05-27T16:52:39.413989",
     "status": "completed"
    },
    "tags": []
   },
   "source": [
    "## 5.\n",
    "\n",
    "Run the cell below to create and display a DataFrame called `animals`:"
   ]
  },
  {
   "cell_type": "code",
   "execution_count": 10,
   "id": "b885e648",
   "metadata": {
    "execution": {
     "iopub.execute_input": "2022-05-27T16:52:39.438682Z",
     "iopub.status.busy": "2022-05-27T16:52:39.437877Z",
     "iopub.status.idle": "2022-05-27T16:52:39.458051Z",
     "shell.execute_reply": "2022-05-27T16:52:39.457054Z"
    },
    "papermill": {
     "duration": 0.031045,
     "end_time": "2022-05-27T16:52:39.460267",
     "exception": false,
     "start_time": "2022-05-27T16:52:39.429222",
     "status": "completed"
    },
    "tags": []
   },
   "outputs": [
    {
     "data": {
      "text/html": [
       "<div>\n",
       "<style scoped>\n",
       "    .dataframe tbody tr th:only-of-type {\n",
       "        vertical-align: middle;\n",
       "    }\n",
       "\n",
       "    .dataframe tbody tr th {\n",
       "        vertical-align: top;\n",
       "    }\n",
       "\n",
       "    .dataframe thead th {\n",
       "        text-align: right;\n",
       "    }\n",
       "</style>\n",
       "<table border=\"1\" class=\"dataframe\">\n",
       "  <thead>\n",
       "    <tr style=\"text-align: right;\">\n",
       "      <th></th>\n",
       "      <th>Cows</th>\n",
       "      <th>Goats</th>\n",
       "    </tr>\n",
       "  </thead>\n",
       "  <tbody>\n",
       "    <tr>\n",
       "      <th>Year 1</th>\n",
       "      <td>12</td>\n",
       "      <td>22</td>\n",
       "    </tr>\n",
       "    <tr>\n",
       "      <th>Year 2</th>\n",
       "      <td>20</td>\n",
       "      <td>19</td>\n",
       "    </tr>\n",
       "  </tbody>\n",
       "</table>\n",
       "</div>"
      ],
      "text/plain": [
       "        Cows  Goats\n",
       "Year 1    12     22\n",
       "Year 2    20     19"
      ]
     },
     "execution_count": 10,
     "metadata": {},
     "output_type": "execute_result"
    }
   ],
   "source": [
    "animals = pd.DataFrame({'Cows': [12, 20], 'Goats': [22, 19]}, index=['Year 1', 'Year 2'])\n",
    "animals"
   ]
  },
  {
   "cell_type": "markdown",
   "id": "bd72669c",
   "metadata": {
    "papermill": {
     "duration": 0.007425,
     "end_time": "2022-05-27T16:52:39.475646",
     "exception": false,
     "start_time": "2022-05-27T16:52:39.468221",
     "status": "completed"
    },
    "tags": []
   },
   "source": [
    "In the cell below, write code to save this DataFrame to disk as a csv file with the name `cows_and_goats.csv`."
   ]
  },
  {
   "cell_type": "code",
   "execution_count": 11,
   "id": "bca9c968",
   "metadata": {
    "execution": {
     "iopub.execute_input": "2022-05-27T16:52:39.493135Z",
     "iopub.status.busy": "2022-05-27T16:52:39.492701Z",
     "iopub.status.idle": "2022-05-27T16:52:39.500027Z",
     "shell.execute_reply": "2022-05-27T16:52:39.499068Z"
    },
    "papermill": {
     "duration": 0.018866,
     "end_time": "2022-05-27T16:52:39.502237",
     "exception": false,
     "start_time": "2022-05-27T16:52:39.483371",
     "status": "completed"
    },
    "tags": []
   },
   "outputs": [
    {
     "data": {
      "application/javascript": [
       "parent.postMessage({\"jupyterEvent\": \"custom.exercise_interaction\", \"data\": {\"outcomeType\": 2, \"failureMessage\": \"Expected file to exist with name `cows_and_goats.csv`\", \"interactionType\": 1, \"questionType\": 2, \"questionId\": \"5_SaveAnimalsCsv\", \"learnToolsVersion\": \"0.3.4\", \"valueTowardsCompletion\": 0.0, \"exceptionClass\": \"\", \"trace\": \"\"}}, \"*\")"
      ],
      "text/plain": [
       "<IPython.core.display.Javascript object>"
      ]
     },
     "metadata": {},
     "output_type": "display_data"
    },
    {
     "data": {
      "text/markdown": [
       "<span style=\"color:#cc3333\">Incorrect:</span> Expected file to exist with name `cows_and_goats.csv`"
      ],
      "text/plain": [
       "Incorrect: Expected file to exist with name `cows_and_goats.csv`"
      ]
     },
     "metadata": {},
     "output_type": "display_data"
    }
   ],
   "source": [
    "# Your code goes here\n",
    "\n",
    "# Check your answer\n",
    "q5.check()"
   ]
  },
  {
   "cell_type": "code",
   "execution_count": 12,
   "id": "338c4207",
   "metadata": {
    "execution": {
     "iopub.execute_input": "2022-05-27T16:52:39.520725Z",
     "iopub.status.busy": "2022-05-27T16:52:39.520291Z",
     "iopub.status.idle": "2022-05-27T16:52:39.524308Z",
     "shell.execute_reply": "2022-05-27T16:52:39.523272Z"
    },
    "papermill": {
     "duration": 0.015831,
     "end_time": "2022-05-27T16:52:39.526247",
     "exception": false,
     "start_time": "2022-05-27T16:52:39.510416",
     "status": "completed"
    },
    "tags": []
   },
   "outputs": [],
   "source": [
    "#q5.hint()\n",
    "#q5.solution()"
   ]
  },
  {
   "cell_type": "markdown",
   "id": "bb5b2862",
   "metadata": {
    "papermill": {
     "duration": 0.007771,
     "end_time": "2022-05-27T16:52:39.542219",
     "exception": false,
     "start_time": "2022-05-27T16:52:39.534448",
     "status": "completed"
    },
    "tags": []
   },
   "source": [
    "# Keep going\n",
    "\n",
    "Move on to learn about **[indexing, selecting and assigning](https://www.kaggle.com/residentmario/indexing-selecting-assigning)**."
   ]
  },
  {
   "cell_type": "markdown",
   "id": "6f9497a9",
   "metadata": {
    "papermill": {
     "duration": 0.007946,
     "end_time": "2022-05-27T16:52:39.558959",
     "exception": false,
     "start_time": "2022-05-27T16:52:39.551013",
     "status": "completed"
    },
    "tags": []
   },
   "source": [
    "---\n",
    "\n",
    "\n",
    "\n",
    "\n",
    "*Have questions or comments? Visit the [course discussion forum](https://www.kaggle.com/learn/pandas/discussion) to chat with other learners.*"
   ]
  }
 ],
 "metadata": {
  "kernelspec": {
   "display_name": "Python 3",
   "language": "python",
   "name": "python3"
  },
  "language_info": {
   "codemirror_mode": {
    "name": "ipython",
    "version": 3
   },
   "file_extension": ".py",
   "mimetype": "text/x-python",
   "name": "python",
   "nbconvert_exporter": "python",
   "pygments_lexer": "ipython3",
   "version": "3.7.12"
  },
  "papermill": {
   "default_parameters": {},
   "duration": 14.154448,
   "end_time": "2022-05-27T16:52:40.290106",
   "environment_variables": {},
   "exception": null,
   "input_path": "__notebook__.ipynb",
   "output_path": "__notebook__.ipynb",
   "parameters": {},
   "start_time": "2022-05-27T16:52:26.135658",
   "version": "2.3.4"
  }
 },
 "nbformat": 4,
 "nbformat_minor": 5
}
