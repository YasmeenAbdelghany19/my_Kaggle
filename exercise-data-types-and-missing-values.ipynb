{
 "cells": [
  {
   "cell_type": "markdown",
   "id": "54e9db64",
   "metadata": {
    "papermill": {
     "duration": 0.01618,
     "end_time": "2022-05-25T05:50:14.623107",
     "exception": false,
     "start_time": "2022-05-25T05:50:14.606927",
     "status": "completed"
    },
    "tags": []
   },
   "source": [
    "**This notebook is an exercise in the [Pandas](https://www.kaggle.com/learn/pandas) course.  You can reference the tutorial at [this link](https://www.kaggle.com/residentmario/data-types-and-missing-values).**\n",
    "\n",
    "---\n"
   ]
  },
  {
   "cell_type": "markdown",
   "id": "a8a551b0",
   "metadata": {
    "papermill": {
     "duration": 0.011773,
     "end_time": "2022-05-25T05:50:14.647265",
     "exception": false,
     "start_time": "2022-05-25T05:50:14.635492",
     "status": "completed"
    },
    "tags": []
   },
   "source": [
    "# Introduction\n",
    "\n",
    "Run the following cell to load your data and some utility functions."
   ]
  },
  {
   "cell_type": "code",
   "execution_count": 1,
   "id": "dea9b270",
   "metadata": {
    "execution": {
     "iopub.execute_input": "2022-05-25T05:50:14.675039Z",
     "iopub.status.busy": "2022-05-25T05:50:14.674303Z",
     "iopub.status.idle": "2022-05-25T05:50:17.417852Z",
     "shell.execute_reply": "2022-05-25T05:50:17.416852Z"
    },
    "papermill": {
     "duration": 2.758438,
     "end_time": "2022-05-25T05:50:17.420319",
     "exception": false,
     "start_time": "2022-05-25T05:50:14.661881",
     "status": "completed"
    },
    "tags": []
   },
   "outputs": [
    {
     "name": "stdout",
     "output_type": "stream",
     "text": [
      "Setup complete.\n"
     ]
    }
   ],
   "source": [
    "import pandas as pd\n",
    "\n",
    "reviews = pd.read_csv(\"../input/wine-reviews/winemag-data-130k-v2.csv\", index_col=0)\n",
    "\n",
    "from learntools.core import binder; binder.bind(globals())\n",
    "from learntools.pandas.data_types_and_missing_data import *\n",
    "print(\"Setup complete.\")"
   ]
  },
  {
   "cell_type": "markdown",
   "id": "21c87b36",
   "metadata": {
    "papermill": {
     "duration": 0.011512,
     "end_time": "2022-05-25T05:50:17.444474",
     "exception": false,
     "start_time": "2022-05-25T05:50:17.432962",
     "status": "completed"
    },
    "tags": []
   },
   "source": [
    "# Exercises"
   ]
  },
  {
   "cell_type": "markdown",
   "id": "a66d2739",
   "metadata": {
    "papermill": {
     "duration": 0.011611,
     "end_time": "2022-05-25T05:50:17.467923",
     "exception": false,
     "start_time": "2022-05-25T05:50:17.456312",
     "status": "completed"
    },
    "tags": []
   },
   "source": [
    "## 1. \n",
    "What is the data type of the `points` column in the dataset?"
   ]
  },
  {
   "cell_type": "code",
   "execution_count": 2,
   "id": "0d1f5206",
   "metadata": {
    "execution": {
     "iopub.execute_input": "2022-05-25T05:50:17.493563Z",
     "iopub.status.busy": "2022-05-25T05:50:17.492627Z",
     "iopub.status.idle": "2022-05-25T05:50:17.503219Z",
     "shell.execute_reply": "2022-05-25T05:50:17.502275Z"
    },
    "papermill": {
     "duration": 0.025797,
     "end_time": "2022-05-25T05:50:17.505286",
     "exception": false,
     "start_time": "2022-05-25T05:50:17.479489",
     "status": "completed"
    },
    "tags": []
   },
   "outputs": [
    {
     "data": {
      "application/javascript": [
       "parent.postMessage({\"jupyterEvent\": \"custom.exercise_interaction\", \"data\": {\"outcomeType\": 1, \"valueTowardsCompletion\": 0.25, \"interactionType\": 1, \"questionType\": 1, \"questionId\": \"1_PointsDtype\", \"learnToolsVersion\": \"0.3.4\", \"failureMessage\": \"\", \"exceptionClass\": \"\", \"trace\": \"\"}}, \"*\")"
      ],
      "text/plain": [
       "<IPython.core.display.Javascript object>"
      ]
     },
     "metadata": {},
     "output_type": "display_data"
    },
    {
     "data": {
      "text/markdown": [
       "<span style=\"color:#33cc33\">Correct</span>"
      ],
      "text/plain": [
       "Correct"
      ]
     },
     "metadata": {},
     "output_type": "display_data"
    }
   ],
   "source": [
    "# Your code here\n",
    "dtype = reviews.points.dtype\n",
    "\n",
    "# Check your answer\n",
    "q1.check()"
   ]
  },
  {
   "cell_type": "code",
   "execution_count": 3,
   "id": "a62a1db9",
   "metadata": {
    "execution": {
     "iopub.execute_input": "2022-05-25T05:50:17.532492Z",
     "iopub.status.busy": "2022-05-25T05:50:17.531856Z",
     "iopub.status.idle": "2022-05-25T05:50:17.535811Z",
     "shell.execute_reply": "2022-05-25T05:50:17.534822Z"
    },
    "papermill": {
     "duration": 0.019572,
     "end_time": "2022-05-25T05:50:17.537666",
     "exception": false,
     "start_time": "2022-05-25T05:50:17.518094",
     "status": "completed"
    },
    "tags": []
   },
   "outputs": [],
   "source": [
    "#q1.hint()\n",
    "#q1.solution()"
   ]
  },
  {
   "cell_type": "markdown",
   "id": "fe0efcd2",
   "metadata": {
    "papermill": {
     "duration": 0.012672,
     "end_time": "2022-05-25T05:50:17.563048",
     "exception": false,
     "start_time": "2022-05-25T05:50:17.550376",
     "status": "completed"
    },
    "tags": []
   },
   "source": [
    "## 2. \n",
    "Create a Series from entries in the `points` column, but convert the entries to strings. Hint: strings are `str` in native Python."
   ]
  },
  {
   "cell_type": "code",
   "execution_count": 4,
   "id": "c94c0f26",
   "metadata": {
    "execution": {
     "iopub.execute_input": "2022-05-25T05:50:17.590432Z",
     "iopub.status.busy": "2022-05-25T05:50:17.589927Z",
     "iopub.status.idle": "2022-05-25T05:50:17.674573Z",
     "shell.execute_reply": "2022-05-25T05:50:17.673688Z"
    },
    "papermill": {
     "duration": 0.100616,
     "end_time": "2022-05-25T05:50:17.676560",
     "exception": false,
     "start_time": "2022-05-25T05:50:17.575944",
     "status": "completed"
    },
    "tags": []
   },
   "outputs": [
    {
     "data": {
      "application/javascript": [
       "parent.postMessage({\"jupyterEvent\": \"custom.exercise_interaction\", \"data\": {\"outcomeType\": 1, \"valueTowardsCompletion\": 0.25, \"interactionType\": 1, \"questionType\": 1, \"questionId\": \"2_StrPoints\", \"learnToolsVersion\": \"0.3.4\", \"failureMessage\": \"\", \"exceptionClass\": \"\", \"trace\": \"\"}}, \"*\")"
      ],
      "text/plain": [
       "<IPython.core.display.Javascript object>"
      ]
     },
     "metadata": {},
     "output_type": "display_data"
    },
    {
     "data": {
      "text/markdown": [
       "<span style=\"color:#33cc33\">Correct</span>"
      ],
      "text/plain": [
       "Correct"
      ]
     },
     "metadata": {},
     "output_type": "display_data"
    }
   ],
   "source": [
    "point_strings = reviews.points.astype('str')\n",
    "\n",
    "# Check your answer\n",
    "q2.check()"
   ]
  },
  {
   "cell_type": "code",
   "execution_count": 5,
   "id": "312df985",
   "metadata": {
    "execution": {
     "iopub.execute_input": "2022-05-25T05:50:17.705921Z",
     "iopub.status.busy": "2022-05-25T05:50:17.705336Z",
     "iopub.status.idle": "2022-05-25T05:50:17.709093Z",
     "shell.execute_reply": "2022-05-25T05:50:17.708269Z"
    },
    "papermill": {
     "duration": 0.020845,
     "end_time": "2022-05-25T05:50:17.710987",
     "exception": false,
     "start_time": "2022-05-25T05:50:17.690142",
     "status": "completed"
    },
    "tags": []
   },
   "outputs": [],
   "source": [
    "#q2.hint()\n",
    "#q2.solution()"
   ]
  },
  {
   "cell_type": "markdown",
   "id": "3e93bf70",
   "metadata": {
    "papermill": {
     "duration": 0.013243,
     "end_time": "2022-05-25T05:50:17.737916",
     "exception": false,
     "start_time": "2022-05-25T05:50:17.724673",
     "status": "completed"
    },
    "tags": []
   },
   "source": [
    "## 3.\n",
    "Sometimes the price column is null. How many reviews in the dataset are missing a price?"
   ]
  },
  {
   "cell_type": "code",
   "execution_count": 6,
   "id": "ed47700c",
   "metadata": {
    "execution": {
     "iopub.execute_input": "2022-05-25T05:50:17.766404Z",
     "iopub.status.busy": "2022-05-25T05:50:17.766134Z",
     "iopub.status.idle": "2022-05-25T05:50:17.774810Z",
     "shell.execute_reply": "2022-05-25T05:50:17.773950Z"
    },
    "papermill": {
     "duration": 0.025136,
     "end_time": "2022-05-25T05:50:17.776702",
     "exception": false,
     "start_time": "2022-05-25T05:50:17.751566",
     "status": "completed"
    },
    "tags": []
   },
   "outputs": [
    {
     "data": {
      "application/javascript": [
       "parent.postMessage({\"jupyterEvent\": \"custom.exercise_interaction\", \"data\": {\"outcomeType\": 1, \"valueTowardsCompletion\": 0.25, \"interactionType\": 1, \"questionType\": 1, \"questionId\": \"3_CountMissingPrices\", \"learnToolsVersion\": \"0.3.4\", \"failureMessage\": \"\", \"exceptionClass\": \"\", \"trace\": \"\"}}, \"*\")"
      ],
      "text/plain": [
       "<IPython.core.display.Javascript object>"
      ]
     },
     "metadata": {},
     "output_type": "display_data"
    },
    {
     "data": {
      "text/markdown": [
       "<span style=\"color:#33cc33\">Correct</span>"
      ],
      "text/plain": [
       "Correct"
      ]
     },
     "metadata": {},
     "output_type": "display_data"
    }
   ],
   "source": [
    "\n",
    "n_missing_prices = pd.isnull(reviews.price).sum()\n",
    "\n",
    "# Check your answer\n",
    "q3.check()"
   ]
  },
  {
   "cell_type": "code",
   "execution_count": 7,
   "id": "7ea5529e",
   "metadata": {
    "execution": {
     "iopub.execute_input": "2022-05-25T05:50:17.807769Z",
     "iopub.status.busy": "2022-05-25T05:50:17.807492Z",
     "iopub.status.idle": "2022-05-25T05:50:17.818343Z",
     "shell.execute_reply": "2022-05-25T05:50:17.817559Z"
    },
    "papermill": {
     "duration": 0.02854,
     "end_time": "2022-05-25T05:50:17.820130",
     "exception": false,
     "start_time": "2022-05-25T05:50:17.791590",
     "status": "completed"
    },
    "tags": []
   },
   "outputs": [
    {
     "data": {
      "application/javascript": [
       "parent.postMessage({\"jupyterEvent\": \"custom.exercise_interaction\", \"data\": {\"interactionType\": 2, \"questionType\": 1, \"questionId\": \"3_CountMissingPrices\", \"learnToolsVersion\": \"0.3.4\", \"valueTowardsCompletion\": 0.0, \"failureMessage\": \"\", \"exceptionClass\": \"\", \"trace\": \"\", \"outcomeType\": 4}}, \"*\")"
      ],
      "text/plain": [
       "<IPython.core.display.Javascript object>"
      ]
     },
     "metadata": {},
     "output_type": "display_data"
    },
    {
     "data": {
      "text/markdown": [
       "<span style=\"color:#3366cc\">Hint:</span> Use `pd.isnull()`."
      ],
      "text/plain": [
       "Hint: Use `pd.isnull()`."
      ]
     },
     "metadata": {},
     "output_type": "display_data"
    },
    {
     "data": {
      "application/javascript": [
       "parent.postMessage({\"jupyterEvent\": \"custom.exercise_interaction\", \"data\": {\"interactionType\": 3, \"questionType\": 1, \"questionId\": \"3_CountMissingPrices\", \"learnToolsVersion\": \"0.3.4\", \"valueTowardsCompletion\": 0.0, \"failureMessage\": \"\", \"exceptionClass\": \"\", \"trace\": \"\", \"outcomeType\": 4}}, \"*\")"
      ],
      "text/plain": [
       "<IPython.core.display.Javascript object>"
      ]
     },
     "metadata": {},
     "output_type": "display_data"
    },
    {
     "data": {
      "text/markdown": [
       "<span style=\"color:#33cc99\">Solution:</span> \n",
       "```python\n",
       "missing_price_reviews = reviews[reviews.price.isnull()]\n",
       "n_missing_prices = len(missing_price_reviews)\n",
       "# Cute alternative solution: if we sum a boolean series, True is treated as 1 and False as 0\n",
       "n_missing_prices = reviews.price.isnull().sum()\n",
       "# or equivalently:\n",
       "n_missing_prices = pd.isnull(reviews.price).sum()\n",
       "\n",
       "```"
      ],
      "text/plain": [
       "Solution: \n",
       "```python\n",
       "missing_price_reviews = reviews[reviews.price.isnull()]\n",
       "n_missing_prices = len(missing_price_reviews)\n",
       "# Cute alternative solution: if we sum a boolean series, True is treated as 1 and False as 0\n",
       "n_missing_prices = reviews.price.isnull().sum()\n",
       "# or equivalently:\n",
       "n_missing_prices = pd.isnull(reviews.price).sum()\n",
       "\n",
       "```"
      ]
     },
     "metadata": {},
     "output_type": "display_data"
    }
   ],
   "source": [
    "q3.hint()\n",
    "q3.solution()"
   ]
  },
  {
   "cell_type": "markdown",
   "id": "372ce45c",
   "metadata": {
    "papermill": {
     "duration": 0.016054,
     "end_time": "2022-05-25T05:50:17.854158",
     "exception": false,
     "start_time": "2022-05-25T05:50:17.838104",
     "status": "completed"
    },
    "tags": []
   },
   "source": [
    "## 4.\n",
    "What are the most common wine-producing regions? Create a Series counting the number of times each value occurs in the `region_1` field. This field is often missing data, so replace missing values with `Unknown`. Sort in descending order.  Your output should look something like this:\n",
    "\n",
    "```\n",
    "Unknown                    21247\n",
    "Napa Valley                 4480\n",
    "                           ...  \n",
    "Bardolino Superiore            1\n",
    "Primitivo del Tarantino        1\n",
    "Name: region_1, Length: 1230, dtype: int64\n",
    "```"
   ]
  },
  {
   "cell_type": "code",
   "execution_count": 8,
   "id": "644bf36c",
   "metadata": {
    "execution": {
     "iopub.execute_input": "2022-05-25T05:50:17.888939Z",
     "iopub.status.busy": "2022-05-25T05:50:17.888231Z",
     "iopub.status.idle": "2022-05-25T05:50:17.931684Z",
     "shell.execute_reply": "2022-05-25T05:50:17.930794Z"
    },
    "papermill": {
     "duration": 0.063009,
     "end_time": "2022-05-25T05:50:17.933711",
     "exception": false,
     "start_time": "2022-05-25T05:50:17.870702",
     "status": "completed"
    },
    "tags": []
   },
   "outputs": [
    {
     "name": "stdout",
     "output_type": "stream",
     "text": [
      "Unknown                 21247\n",
      "Napa Valley              4480\n",
      "Columbia Valley (WA)     4124\n",
      "Russian River Valley     3091\n",
      "California               2629\n",
      "                        ...  \n",
      "Offida Rosso                1\n",
      "Corton Perrières            1\n",
      "Isle St. George             1\n",
      "Geelong                     1\n",
      "Paestum                     1\n",
      "Name: region_1, Length: 1230, dtype: int64\n"
     ]
    },
    {
     "data": {
      "application/javascript": [
       "parent.postMessage({\"jupyterEvent\": \"custom.exercise_interaction\", \"data\": {\"outcomeType\": 1, \"valueTowardsCompletion\": 0.25, \"interactionType\": 1, \"questionType\": 2, \"questionId\": \"4_ReviewsPerRegion\", \"learnToolsVersion\": \"0.3.4\", \"failureMessage\": \"\", \"exceptionClass\": \"\", \"trace\": \"\"}}, \"*\")"
      ],
      "text/plain": [
       "<IPython.core.display.Javascript object>"
      ]
     },
     "metadata": {},
     "output_type": "display_data"
    },
    {
     "data": {
      "text/markdown": [
       "<span style=\"color:#33cc33\">Correct</span>"
      ],
      "text/plain": [
       "Correct"
      ]
     },
     "metadata": {},
     "output_type": "display_data"
    }
   ],
   "source": [
    "reviews_per_region = reviews.region_1.fillna(\"Unknown\").value_counts().sort_values(ascending = False)\n",
    "print(reviews_per_region)\n",
    "# Check your answer\n",
    "q4.check()"
   ]
  },
  {
   "cell_type": "code",
   "execution_count": 9,
   "id": "26a9a503",
   "metadata": {
    "execution": {
     "iopub.execute_input": "2022-05-25T05:50:17.971497Z",
     "iopub.status.busy": "2022-05-25T05:50:17.970724Z",
     "iopub.status.idle": "2022-05-25T05:50:17.979564Z",
     "shell.execute_reply": "2022-05-25T05:50:17.978744Z"
    },
    "papermill": {
     "duration": 0.030086,
     "end_time": "2022-05-25T05:50:17.981456",
     "exception": false,
     "start_time": "2022-05-25T05:50:17.951370",
     "status": "completed"
    },
    "tags": []
   },
   "outputs": [
    {
     "data": {
      "application/javascript": [
       "parent.postMessage({\"jupyterEvent\": \"custom.exercise_interaction\", \"data\": {\"interactionType\": 2, \"questionType\": 2, \"questionId\": \"4_ReviewsPerRegion\", \"learnToolsVersion\": \"0.3.4\", \"valueTowardsCompletion\": 0.0, \"failureMessage\": \"\", \"exceptionClass\": \"\", \"trace\": \"\", \"outcomeType\": 4}}, \"*\")"
      ],
      "text/plain": [
       "<IPython.core.display.Javascript object>"
      ]
     },
     "metadata": {},
     "output_type": "display_data"
    },
    {
     "data": {
      "text/markdown": [
       "<span style=\"color:#3366cc\">Hint:</span> Use `fillna()`, `value_counts()`, and `sort_values()`."
      ],
      "text/plain": [
       "Hint: Use `fillna()`, `value_counts()`, and `sort_values()`."
      ]
     },
     "metadata": {},
     "output_type": "display_data"
    },
    {
     "data": {
      "application/javascript": [
       "parent.postMessage({\"jupyterEvent\": \"custom.exercise_interaction\", \"data\": {\"interactionType\": 3, \"questionType\": 2, \"questionId\": \"4_ReviewsPerRegion\", \"learnToolsVersion\": \"0.3.4\", \"valueTowardsCompletion\": 0.0, \"failureMessage\": \"\", \"exceptionClass\": \"\", \"trace\": \"\", \"outcomeType\": 4}}, \"*\")"
      ],
      "text/plain": [
       "<IPython.core.display.Javascript object>"
      ]
     },
     "metadata": {},
     "output_type": "display_data"
    },
    {
     "data": {
      "text/markdown": [
       "<span style=\"color:#33cc99\">Solution:</span> \n",
       "```python\n",
       "reviews_per_region = reviews.region_1.fillna('Unknown').value_counts().sort_values(ascending=False)\n",
       "```"
      ],
      "text/plain": [
       "Solution: \n",
       "```python\n",
       "reviews_per_region = reviews.region_1.fillna('Unknown').value_counts().sort_values(ascending=False)\n",
       "```"
      ]
     },
     "metadata": {},
     "output_type": "display_data"
    }
   ],
   "source": [
    "q4.hint()\n",
    "q4.solution()"
   ]
  },
  {
   "cell_type": "markdown",
   "id": "0953dc1b",
   "metadata": {
    "papermill": {
     "duration": 0.019153,
     "end_time": "2022-05-25T05:50:18.020556",
     "exception": false,
     "start_time": "2022-05-25T05:50:18.001403",
     "status": "completed"
    },
    "tags": []
   },
   "source": [
    "# Keep going\n",
    "\n",
    "Move on to **[renaming and combining](https://www.kaggle.com/residentmario/renaming-and-combining)**."
   ]
  },
  {
   "cell_type": "markdown",
   "id": "d685d5ad",
   "metadata": {
    "papermill": {
     "duration": 0.01956,
     "end_time": "2022-05-25T05:50:18.059670",
     "exception": false,
     "start_time": "2022-05-25T05:50:18.040110",
     "status": "completed"
    },
    "tags": []
   },
   "source": [
    "---\n",
    "\n",
    "\n",
    "\n",
    "\n",
    "*Have questions or comments? Visit the [course discussion forum](https://www.kaggle.com/learn/pandas/discussion) to chat with other learners.*"
   ]
  }
 ],
 "metadata": {
  "kernelspec": {
   "display_name": "Python 3",
   "language": "python",
   "name": "python3"
  },
  "language_info": {
   "codemirror_mode": {
    "name": "ipython",
    "version": 3
   },
   "file_extension": ".py",
   "mimetype": "text/x-python",
   "name": "python",
   "nbconvert_exporter": "python",
   "pygments_lexer": "ipython3",
   "version": "3.7.12"
  },
  "papermill": {
   "default_parameters": {},
   "duration": 12.6469,
   "end_time": "2022-05-25T05:50:18.800435",
   "environment_variables": {},
   "exception": null,
   "input_path": "__notebook__.ipynb",
   "output_path": "__notebook__.ipynb",
   "parameters": {},
   "start_time": "2022-05-25T05:50:06.153535",
   "version": "2.3.4"
  }
 },
 "nbformat": 4,
 "nbformat_minor": 5
}
