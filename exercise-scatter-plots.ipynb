{
 "cells": [
  {
   "cell_type": "markdown",
   "id": "b2efe803",
   "metadata": {
    "papermill": {
     "duration": 0.011048,
     "end_time": "2022-06-22T17:17:24.493204",
     "exception": false,
     "start_time": "2022-06-22T17:17:24.482156",
     "status": "completed"
    },
    "tags": []
   },
   "source": [
    "**This notebook is an exercise in the [Data Visualization](https://www.kaggle.com/learn/data-visualization) course.  You can reference the tutorial at [this link](https://www.kaggle.com/alexisbcook/scatter-plots).**\n",
    "\n",
    "---\n"
   ]
  },
  {
   "cell_type": "markdown",
   "id": "404ac4e7",
   "metadata": {
    "papermill": {
     "duration": 0.009424,
     "end_time": "2022-06-22T17:17:24.512781",
     "exception": false,
     "start_time": "2022-06-22T17:17:24.503357",
     "status": "completed"
    },
    "tags": []
   },
   "source": [
    "In this exercise, you will use your new knowledge to propose a solution to a real-world scenario.  To succeed, you will need to import data into Python, answer questions using the data, and generate **scatter plots** to understand patterns in the data.\n",
    "\n",
    "## Scenario\n",
    "\n",
    "You work for a major candy producer, and your goal is to write a report that your company can use to guide the design of its next product.  Soon after starting your research, you stumble across this [very interesting dataset](https://fivethirtyeight.com/features/the-ultimate-halloween-candy-power-ranking/) containing results from a fun survey to crowdsource favorite candies.\n",
    "\n",
    "## Setup\n",
    "\n",
    "Run the next cell to import and configure the Python libraries that you need to complete the exercise."
   ]
  },
  {
   "cell_type": "code",
   "execution_count": 1,
   "id": "3038759b",
   "metadata": {
    "execution": {
     "iopub.execute_input": "2022-06-22T17:17:24.535772Z",
     "iopub.status.busy": "2022-06-22T17:17:24.534369Z",
     "iopub.status.idle": "2022-06-22T17:17:25.694544Z",
     "shell.execute_reply": "2022-06-22T17:17:25.693053Z"
    },
    "papermill": {
     "duration": 1.174812,
     "end_time": "2022-06-22T17:17:25.697430",
     "exception": false,
     "start_time": "2022-06-22T17:17:24.522618",
     "status": "completed"
    },
    "tags": []
   },
   "outputs": [
    {
     "name": "stdout",
     "output_type": "stream",
     "text": [
      "Setup Complete\n"
     ]
    }
   ],
   "source": [
    "import pandas as pd\n",
    "pd.plotting.register_matplotlib_converters()\n",
    "import matplotlib.pyplot as plt\n",
    "%matplotlib inline\n",
    "import seaborn as sns\n",
    "print(\"Setup Complete\")"
   ]
  },
  {
   "cell_type": "markdown",
   "id": "10925e0c",
   "metadata": {
    "papermill": {
     "duration": 0.009757,
     "end_time": "2022-06-22T17:17:25.717402",
     "exception": false,
     "start_time": "2022-06-22T17:17:25.707645",
     "status": "completed"
    },
    "tags": []
   },
   "source": [
    "The questions below will give you feedback on your work. Run the following cell to set up our feedback system."
   ]
  },
  {
   "cell_type": "code",
   "execution_count": 2,
   "id": "c69e1079",
   "metadata": {
    "execution": {
     "iopub.execute_input": "2022-06-22T17:17:25.739283Z",
     "iopub.status.busy": "2022-06-22T17:17:25.738855Z",
     "iopub.status.idle": "2022-06-22T17:17:25.804504Z",
     "shell.execute_reply": "2022-06-22T17:17:25.802860Z"
    },
    "papermill": {
     "duration": 0.080213,
     "end_time": "2022-06-22T17:17:25.807632",
     "exception": false,
     "start_time": "2022-06-22T17:17:25.727419",
     "status": "completed"
    },
    "tags": []
   },
   "outputs": [
    {
     "name": "stdout",
     "output_type": "stream",
     "text": [
      "Setup Complete\n"
     ]
    }
   ],
   "source": [
    "# Set up code checking\n",
    "import os\n",
    "if not os.path.exists(\"../input/candy.csv\"):\n",
    "    os.symlink(\"../input/data-for-datavis/candy.csv\", \"../input/candy.csv\") \n",
    "from learntools.core import binder\n",
    "binder.bind(globals())\n",
    "from learntools.data_viz_to_coder.ex4 import *\n",
    "print(\"Setup Complete\")"
   ]
  },
  {
   "cell_type": "markdown",
   "id": "9114ffa4",
   "metadata": {
    "papermill": {
     "duration": 0.009956,
     "end_time": "2022-06-22T17:17:25.828540",
     "exception": false,
     "start_time": "2022-06-22T17:17:25.818584",
     "status": "completed"
    },
    "tags": []
   },
   "source": [
    "## Step 1: Load the Data\n",
    "\n",
    "Read the candy data file into `candy_data`.  Use the `\"id\"` column to label the rows."
   ]
  },
  {
   "cell_type": "code",
   "execution_count": 3,
   "id": "d24ba0b0",
   "metadata": {
    "execution": {
     "iopub.execute_input": "2022-06-22T17:17:25.851805Z",
     "iopub.status.busy": "2022-06-22T17:17:25.851415Z",
     "iopub.status.idle": "2022-06-22T17:17:25.867859Z",
     "shell.execute_reply": "2022-06-22T17:17:25.866840Z"
    },
    "papermill": {
     "duration": 0.030788,
     "end_time": "2022-06-22T17:17:25.869831",
     "exception": false,
     "start_time": "2022-06-22T17:17:25.839043",
     "status": "completed"
    },
    "tags": []
   },
   "outputs": [
    {
     "data": {
      "application/javascript": [
       "parent.postMessage({\"jupyterEvent\": \"custom.exercise_interaction\", \"data\": {\"outcomeType\": 1, \"valueTowardsCompletion\": 0.3333333333333333, \"interactionType\": 1, \"questionType\": 1, \"questionId\": \"1_LoadData\", \"learnToolsVersion\": \"0.3.4\", \"failureMessage\": \"\", \"exceptionClass\": \"\", \"trace\": \"\"}}, \"*\")"
      ],
      "text/plain": [
       "<IPython.core.display.Javascript object>"
      ]
     },
     "metadata": {},
     "output_type": "display_data"
    },
    {
     "data": {
      "text/markdown": [
       "<span style=\"color:#33cc33\">Correct</span>"
      ],
      "text/plain": [
       "Correct"
      ]
     },
     "metadata": {},
     "output_type": "display_data"
    }
   ],
   "source": [
    "# Path of the file to read\n",
    "candy_filepath = \"../input/candy.csv\"\n",
    "\n",
    "# Fill in the line below to read the file into a variable candy_data\n",
    "candy_data = pd.read_csv(candy_filepath, index_col='id')\n",
    "\n",
    "# Run the line below with no changes to check that you've loaded the data correctly\n",
    "step_1.check()"
   ]
  },
  {
   "cell_type": "code",
   "execution_count": 4,
   "id": "926a077e",
   "metadata": {
    "execution": {
     "iopub.execute_input": "2022-06-22T17:17:25.892554Z",
     "iopub.status.busy": "2022-06-22T17:17:25.892099Z",
     "iopub.status.idle": "2022-06-22T17:17:25.901530Z",
     "shell.execute_reply": "2022-06-22T17:17:25.900336Z"
    },
    "papermill": {
     "duration": 0.023533,
     "end_time": "2022-06-22T17:17:25.903865",
     "exception": false,
     "start_time": "2022-06-22T17:17:25.880332",
     "status": "completed"
    },
    "tags": []
   },
   "outputs": [
    {
     "data": {
      "application/javascript": [
       "parent.postMessage({\"jupyterEvent\": \"custom.exercise_interaction\", \"data\": {\"interactionType\": 3, \"questionType\": 1, \"questionId\": \"1_LoadData\", \"learnToolsVersion\": \"0.3.4\", \"valueTowardsCompletion\": 0.0, \"failureMessage\": \"\", \"exceptionClass\": \"\", \"trace\": \"\", \"outcomeType\": 4}}, \"*\")"
      ],
      "text/plain": [
       "<IPython.core.display.Javascript object>"
      ]
     },
     "metadata": {},
     "output_type": "display_data"
    },
    {
     "data": {
      "text/markdown": [
       "<span style=\"color:#33cc99\">Solution:</span> \n",
       "```python\n",
       "candy_data = pd.read_csv(candy_filepath, index_col=\"id\")\n",
       "```"
      ],
      "text/plain": [
       "Solution: \n",
       "```python\n",
       "candy_data = pd.read_csv(candy_filepath, index_col=\"id\")\n",
       "```"
      ]
     },
     "metadata": {},
     "output_type": "display_data"
    }
   ],
   "source": [
    "# Lines below will give you a hint or solution code\n",
    "#step_1.hint()\n",
    "step_1.solution()"
   ]
  },
  {
   "cell_type": "markdown",
   "id": "6fd521fa",
   "metadata": {
    "papermill": {
     "duration": 0.010245,
     "end_time": "2022-06-22T17:17:25.925394",
     "exception": false,
     "start_time": "2022-06-22T17:17:25.915149",
     "status": "completed"
    },
    "tags": []
   },
   "source": [
    "## Step 2: Review the data\n",
    "\n",
    "Use a Python command to print the first five rows of the data."
   ]
  },
  {
   "cell_type": "code",
   "execution_count": 5,
   "id": "5e8fd234",
   "metadata": {
    "execution": {
     "iopub.execute_input": "2022-06-22T17:17:25.948456Z",
     "iopub.status.busy": "2022-06-22T17:17:25.948017Z",
     "iopub.status.idle": "2022-06-22T17:17:25.965351Z",
     "shell.execute_reply": "2022-06-22T17:17:25.964456Z"
    },
    "papermill": {
     "duration": 0.031794,
     "end_time": "2022-06-22T17:17:25.967786",
     "exception": false,
     "start_time": "2022-06-22T17:17:25.935992",
     "status": "completed"
    },
    "tags": []
   },
   "outputs": [
    {
     "data": {
      "text/plain": [
       "<bound method NDFrame.head of                 competitorname chocolate fruity caramel peanutyalmondy nougat  \\\n",
       "id                                                                              \n",
       "0                    100 Grand       Yes     No     Yes             No     No   \n",
       "1                 3 Musketeers       Yes     No      No             No    Yes   \n",
       "2                    Air Heads        No    Yes      No             No     No   \n",
       "3                   Almond Joy       Yes     No      No            Yes     No   \n",
       "4                    Baby Ruth       Yes     No     Yes            Yes    Yes   \n",
       "..                         ...       ...    ...     ...            ...    ...   \n",
       "78                   Twizzlers        No    Yes      No             No     No   \n",
       "79                    Warheads        No    Yes      No             No     No   \n",
       "80        Welch's Fruit Snacks        No    Yes      No             No     No   \n",
       "81  Werther's Original Caramel        No     No     Yes             No     No   \n",
       "82                    Whoppers       Yes     No      No             No     No   \n",
       "\n",
       "   crispedricewafer hard  bar pluribus  sugarpercent  pricepercent  winpercent  \n",
       "id                                                                              \n",
       "0               Yes   No  Yes       No         0.732         0.860   66.971725  \n",
       "1                No   No  Yes       No         0.604         0.511   67.602936  \n",
       "2                No   No   No       No         0.906         0.511   52.341465  \n",
       "3                No   No  Yes       No         0.465         0.767   50.347546  \n",
       "4                No   No  Yes       No         0.604         0.767   56.914547  \n",
       "..              ...  ...  ...      ...           ...           ...         ...  \n",
       "78               No   No   No       No         0.220         0.116   45.466282  \n",
       "79               No  Yes   No       No         0.093         0.116   39.011898  \n",
       "80               No   No   No      Yes         0.313         0.313   44.375519  \n",
       "81               No  Yes   No       No         0.186         0.267   41.904308  \n",
       "82              Yes   No   No      Yes         0.872         0.848   49.524113  \n",
       "\n",
       "[83 rows x 13 columns]>"
      ]
     },
     "execution_count": 5,
     "metadata": {},
     "output_type": "execute_result"
    }
   ],
   "source": [
    "# Print the first five rows of the data\n",
    "# Your code here\n",
    "candy_data.head"
   ]
  },
  {
   "cell_type": "markdown",
   "id": "3971ae4c",
   "metadata": {
    "papermill": {
     "duration": 0.010516,
     "end_time": "2022-06-22T17:17:25.989306",
     "exception": false,
     "start_time": "2022-06-22T17:17:25.978790",
     "status": "completed"
    },
    "tags": []
   },
   "source": [
    "The dataset contains 83 rows, where each corresponds to a different candy bar.  There are 13 columns:\n",
    "- `'competitorname'` contains the name of the candy bar. \n",
    "- the next **9** columns (from `'chocolate'` to `'pluribus'`) describe the candy.  For instance, rows with chocolate candies have `\"Yes\"` in the `'chocolate'` column (and candies without chocolate have `\"No\"` in the same column).\n",
    "- `'sugarpercent'` provides some indication of the amount of sugar, where higher values signify higher sugar content.\n",
    "- `'pricepercent'` shows the price per unit, relative to the other candies in the dataset.\n",
    "- `'winpercent'` is calculated from the survey results; higher values indicate that the candy was more popular with survey respondents.\n",
    "\n",
    "Use the first five rows of the data to answer the questions below."
   ]
  },
  {
   "cell_type": "code",
   "execution_count": 6,
   "id": "774c5123",
   "metadata": {
    "execution": {
     "iopub.execute_input": "2022-06-22T17:17:26.012737Z",
     "iopub.status.busy": "2022-06-22T17:17:26.012332Z",
     "iopub.status.idle": "2022-06-22T17:17:26.020298Z",
     "shell.execute_reply": "2022-06-22T17:17:26.019378Z"
    },
    "papermill": {
     "duration": 0.025067,
     "end_time": "2022-06-22T17:17:26.025105",
     "exception": false,
     "start_time": "2022-06-22T17:17:26.000038",
     "status": "completed"
    },
    "tags": []
   },
   "outputs": [
    {
     "data": {
      "application/javascript": [
       "parent.postMessage({\"jupyterEvent\": \"custom.exercise_interaction\", \"data\": {\"outcomeType\": 1, \"valueTowardsCompletion\": 0.3333333333333333, \"interactionType\": 1, \"questionType\": 1, \"questionId\": \"2_ReviewData\", \"learnToolsVersion\": \"0.3.4\", \"failureMessage\": \"\", \"exceptionClass\": \"\", \"trace\": \"\"}}, \"*\")"
      ],
      "text/plain": [
       "<IPython.core.display.Javascript object>"
      ]
     },
     "metadata": {},
     "output_type": "display_data"
    },
    {
     "data": {
      "text/markdown": [
       "<span style=\"color:#33cc33\">Correct</span>"
      ],
      "text/plain": [
       "Correct"
      ]
     },
     "metadata": {},
     "output_type": "display_data"
    }
   ],
   "source": [
    "# Fill in the line below: Which candy was more popular with survey respondents:\n",
    "# '3 Musketeers' or 'Almond Joy'?  (Please enclose your answer in single quotes.)\n",
    "more_popular = '3 Musketeers'\n",
    "\n",
    "# Fill in the line below: Which candy has higher sugar content: 'Air Heads'\n",
    "# or 'Baby Ruth'? (Please enclose your answer in single quotes.)\n",
    "more_sugar = 'Air Heads'\n",
    "\n",
    "# Check your answers\n",
    "step_2.check()"
   ]
  },
  {
   "cell_type": "code",
   "execution_count": 7,
   "id": "daddd385",
   "metadata": {
    "execution": {
     "iopub.execute_input": "2022-06-22T17:17:26.049469Z",
     "iopub.status.busy": "2022-06-22T17:17:26.049022Z",
     "iopub.status.idle": "2022-06-22T17:17:26.057323Z",
     "shell.execute_reply": "2022-06-22T17:17:26.056190Z"
    },
    "papermill": {
     "duration": 0.022935,
     "end_time": "2022-06-22T17:17:26.059390",
     "exception": false,
     "start_time": "2022-06-22T17:17:26.036455",
     "status": "completed"
    },
    "tags": []
   },
   "outputs": [
    {
     "data": {
      "application/javascript": [
       "parent.postMessage({\"jupyterEvent\": \"custom.exercise_interaction\", \"data\": {\"interactionType\": 3, \"questionType\": 1, \"questionId\": \"2_ReviewData\", \"learnToolsVersion\": \"0.3.4\", \"valueTowardsCompletion\": 0.0, \"failureMessage\": \"\", \"exceptionClass\": \"\", \"trace\": \"\", \"outcomeType\": 4}}, \"*\")"
      ],
      "text/plain": [
       "<IPython.core.display.Javascript object>"
      ]
     },
     "metadata": {},
     "output_type": "display_data"
    },
    {
     "data": {
      "text/markdown": [
       "<span style=\"color:#33cc99\">Solution:</span> \n",
       "```python\n",
       "# Print the first five rows of the data\n",
       "candy_data.head()\n",
       "# Which candy was more popular with survey respondents:\n",
       "# '3 Musketeers' or 'Almond Joy'?\n",
       "more_popular = '3 Musketeers'\n",
       "# Which candy has higher sugar content: 'Air Heads'\n",
       "# or 'Baby Ruth'?\n",
       "more_sugar = 'Air Heads'\n",
       "\n",
       "```"
      ],
      "text/plain": [
       "Solution: \n",
       "```python\n",
       "# Print the first five rows of the data\n",
       "candy_data.head()\n",
       "# Which candy was more popular with survey respondents:\n",
       "# '3 Musketeers' or 'Almond Joy'?\n",
       "more_popular = '3 Musketeers'\n",
       "# Which candy has higher sugar content: 'Air Heads'\n",
       "# or 'Baby Ruth'?\n",
       "more_sugar = 'Air Heads'\n",
       "\n",
       "```"
      ]
     },
     "metadata": {},
     "output_type": "display_data"
    }
   ],
   "source": [
    "# Lines below will give you a hint or solution code\n",
    "#step_2.hint()\n",
    "step_2.solution()"
   ]
  },
  {
   "cell_type": "markdown",
   "id": "7e6f15b8",
   "metadata": {
    "papermill": {
     "duration": 0.011096,
     "end_time": "2022-06-22T17:17:26.081884",
     "exception": false,
     "start_time": "2022-06-22T17:17:26.070788",
     "status": "completed"
    },
    "tags": []
   },
   "source": [
    "## Step 3: The role of sugar\n",
    "\n",
    "Do people tend to prefer candies with higher sugar content?  \n",
    "\n",
    "#### Part A\n",
    "\n",
    "Create a scatter plot that shows the relationship between `'sugarpercent'` (on the horizontal x-axis) and `'winpercent'` (on the vertical y-axis).  _Don't add a regression line just yet -- you'll do that in the next step!_"
   ]
  },
  {
   "cell_type": "code",
   "execution_count": 8,
   "id": "3c97bdbd",
   "metadata": {
    "execution": {
     "iopub.execute_input": "2022-06-22T17:17:26.107433Z",
     "iopub.status.busy": "2022-06-22T17:17:26.106625Z",
     "iopub.status.idle": "2022-06-22T17:17:26.371199Z",
     "shell.execute_reply": "2022-06-22T17:17:26.370335Z"
    },
    "papermill": {
     "duration": 0.279715,
     "end_time": "2022-06-22T17:17:26.373488",
     "exception": false,
     "start_time": "2022-06-22T17:17:26.093773",
     "status": "completed"
    },
    "tags": []
   },
   "outputs": [
    {
     "data": {
      "application/javascript": [
       "parent.postMessage({\"jupyterEvent\": \"custom.exercise_interaction\", \"data\": {\"outcomeType\": 1, \"valueTowardsCompletion\": 0.3333333333333333, \"interactionType\": 1, \"questionType\": 2, \"questionId\": \"3.1_PlotBlueScatter\", \"learnToolsVersion\": \"0.3.4\", \"failureMessage\": \"\", \"exceptionClass\": \"\", \"trace\": \"\"}}, \"*\")"
      ],
      "text/plain": [
       "<IPython.core.display.Javascript object>"
      ]
     },
     "metadata": {},
     "output_type": "display_data"
    },
    {
     "data": {
      "text/markdown": [
       "<span style=\"color:#33cc33\">Correct</span>"
      ],
      "text/plain": [
       "Correct"
      ]
     },
     "metadata": {},
     "output_type": "display_data"
    },
    {
     "data": {
      "image/png": "[encoded data removed]",
      "text/plain": [
       "<Figure size 432x288 with 1 Axes>"
      ]
     },
     "metadata": {
      "needs_background": "light"
     },
     "output_type": "display_data"
    }
   ],
   "source": [
    "# Scatter plot showing the relationship between 'sugarpercent' and 'winpercent'\n",
    "sns.scatterplot(x=candy_data['sugarpercent'], y=candy_data['winpercent'])\n",
    "# Your code here\n",
    "\n",
    "# Check your answer\n",
    "step_3.a.check()"
   ]
  },
  {
   "cell_type": "code",
   "execution_count": 9,
   "id": "97c4b11e",
   "metadata": {
    "execution": {
     "iopub.execute_input": "2022-06-22T17:17:26.399913Z",
     "iopub.status.busy": "2022-06-22T17:17:26.399242Z",
     "iopub.status.idle": "2022-06-22T17:17:26.605617Z",
     "shell.execute_reply": "2022-06-22T17:17:26.604414Z"
    },
    "papermill": {
     "duration": 0.222628,
     "end_time": "2022-06-22T17:17:26.608304",
     "exception": false,
     "start_time": "2022-06-22T17:17:26.385676",
     "status": "completed"
    },
    "tags": []
   },
   "outputs": [
    {
     "data": {
      "application/javascript": [
       "parent.postMessage({\"jupyterEvent\": \"custom.exercise_interaction\", \"data\": {\"interactionType\": 3, \"questionType\": 2, \"questionId\": \"3.1_PlotBlueScatter\", \"learnToolsVersion\": \"0.3.4\", \"valueTowardsCompletion\": 0.0, \"failureMessage\": \"\", \"exceptionClass\": \"\", \"trace\": \"\", \"outcomeType\": 4}}, \"*\")"
      ],
      "text/plain": [
       "<IPython.core.display.Javascript object>"
      ]
     },
     "metadata": {},
     "output_type": "display_data"
    },
    {
     "data": {
      "text/markdown": [
       "<span style=\"color:#33cc99\">Solution:</span> \n",
       "```python\n",
       "# Scatter plot showing the relationship between 'sugarpercent' and 'winpercent'\n",
       "sns.scatterplot(x=candy_data['sugarpercent'], y=candy_data['winpercent'])\n",
       "\n",
       "```"
      ],
      "text/plain": [
       "Solution: \n",
       "```python\n",
       "# Scatter plot showing the relationship between 'sugarpercent' and 'winpercent'\n",
       "sns.scatterplot(x=candy_data['sugarpercent'], y=candy_data['winpercent'])\n",
       "\n",
       "```"
      ]
     },
     "metadata": {},
     "output_type": "display_data"
    },
    {
     "data": {
      "image/png": "[encoded data removed]",
      "text/plain": [
       "<Figure size 432x288 with 1 Axes>"
      ]
     },
     "metadata": {
      "needs_background": "light"
     },
     "output_type": "display_data"
    }
   ],
   "source": [
    "# Lines below will give you a hint or solution code\n",
    "#step_3.a.hint()\n",
    "step_3.a.solution_plot()"
   ]
  },
  {
   "cell_type": "markdown",
   "id": "df78802b",
   "metadata": {
    "papermill": {
     "duration": 0.012323,
     "end_time": "2022-06-22T17:17:26.633080",
     "exception": false,
     "start_time": "2022-06-22T17:17:26.620757",
     "status": "completed"
    },
    "tags": []
   },
   "source": [
    "#### Part B\n",
    "\n",
    "Does the scatter plot show a **strong** correlation between the two variables?  If so, are candies with more sugar relatively more or less popular with the survey respondents?"
   ]
  },
  {
   "cell_type": "code",
   "execution_count": 10,
   "id": "4c4bc449",
   "metadata": {
    "execution": {
     "iopub.execute_input": "2022-06-22T17:17:26.661116Z",
     "iopub.status.busy": "2022-06-22T17:17:26.660281Z",
     "iopub.status.idle": "2022-06-22T17:17:26.665473Z",
     "shell.execute_reply": "2022-06-22T17:17:26.664626Z"
    },
    "papermill": {
     "duration": 0.022238,
     "end_time": "2022-06-22T17:17:26.667871",
     "exception": false,
     "start_time": "2022-06-22T17:17:26.645633",
     "status": "completed"
    },
    "tags": []
   },
   "outputs": [],
   "source": [
    "#step_3.b.hint()"
   ]
  },
  {
   "cell_type": "code",
   "execution_count": 11,
   "id": "50162c75",
   "metadata": {
    "execution": {
     "iopub.execute_input": "2022-06-22T17:17:26.695288Z",
     "iopub.status.busy": "2022-06-22T17:17:26.694505Z",
     "iopub.status.idle": "2022-06-22T17:17:26.703756Z",
     "shell.execute_reply": "2022-06-22T17:17:26.702860Z"
    },
    "papermill": {
     "duration": 0.025705,
     "end_time": "2022-06-22T17:17:26.706048",
     "exception": false,
     "start_time": "2022-06-22T17:17:26.680343",
     "status": "completed"
    },
    "tags": []
   },
   "outputs": [
    {
     "data": {
      "application/javascript": [
       "parent.postMessage({\"jupyterEvent\": \"custom.exercise_interaction\", \"data\": {\"interactionType\": 3, \"questionType\": 4, \"questionId\": \"3.2_ThinkBlueScatter\", \"learnToolsVersion\": \"0.3.4\", \"valueTowardsCompletion\": 0.0, \"failureMessage\": \"\", \"exceptionClass\": \"\", \"trace\": \"\", \"outcomeType\": 4}}, \"*\")"
      ],
      "text/plain": [
       "<IPython.core.display.Javascript object>"
      ]
     },
     "metadata": {},
     "output_type": "display_data"
    },
    {
     "data": {
      "text/markdown": [
       "<span style=\"color:#33cc99\">Solution:</span> The scatter plot does not show a strong correlation between the two variables. Since there is no clear relationship between the two variables, this tells us that sugar content does not play a strong role in candy popularity."
      ],
      "text/plain": [
       "Solution: The scatter plot does not show a strong correlation between the two variables. Since there is no clear relationship between the two variables, this tells us that sugar content does not play a strong role in candy popularity."
      ]
     },
     "metadata": {},
     "output_type": "display_data"
    }
   ],
   "source": [
    "# Check your answer (Run this code cell to receive credit!)\n",
    "step_3.b.solution()"
   ]
  },
  {
   "cell_type": "markdown",
   "id": "b94681cb",
   "metadata": {
    "papermill": {
     "duration": 0.012666,
     "end_time": "2022-06-22T17:17:26.731328",
     "exception": false,
     "start_time": "2022-06-22T17:17:26.718662",
     "status": "completed"
    },
    "tags": []
   },
   "source": [
    "## Step 4: Take a closer look\n",
    "\n",
    "#### Part A\n",
    "\n",
    "Create the same scatter plot you created in **Step 3**, but now with a regression line!"
   ]
  },
  {
   "cell_type": "code",
   "execution_count": 12,
   "id": "501e6234",
   "metadata": {
    "execution": {
     "iopub.execute_input": "2022-06-22T17:17:26.759573Z",
     "iopub.status.busy": "2022-06-22T17:17:26.759131Z",
     "iopub.status.idle": "2022-06-22T17:17:27.082105Z",
     "shell.execute_reply": "2022-06-22T17:17:27.080817Z"
    },
    "papermill": {
     "duration": 0.340682,
     "end_time": "2022-06-22T17:17:27.084777",
     "exception": false,
     "start_time": "2022-06-22T17:17:26.744095",
     "status": "completed"
    },
    "tags": []
   },
   "outputs": [
    {
     "data": {
      "application/javascript": [
       "parent.postMessage({\"jupyterEvent\": \"custom.exercise_interaction\", \"data\": {\"outcomeType\": 1, \"valueTowardsCompletion\": 0.3333333333333333, \"interactionType\": 1, \"questionType\": 2, \"questionId\": \"4.1_PlotBlueReg\", \"learnToolsVersion\": \"0.3.4\", \"failureMessage\": \"\", \"exceptionClass\": \"\", \"trace\": \"\"}}, \"*\")"
      ],
      "text/plain": [
       "<IPython.core.display.Javascript object>"
      ]
     },
     "metadata": {},
     "output_type": "display_data"
    },
    {
     "data": {
      "text/markdown": [
       "<span style=\"color:#33cc33\">Correct</span>"
      ],
      "text/plain": [
       "Correct"
      ]
     },
     "metadata": {},
     "output_type": "display_data"
    },
    {
     "data": {
      "image/png": "[encoded data removed]",
      "text/plain": [
       "<Figure size 432x288 with 1 Axes>"
      ]
     },
     "metadata": {
      "needs_background": "light"
     },
     "output_type": "display_data"
    }
   ],
   "source": [
    "# Scatter plot w/ regression line showing the relationship between 'sugarpercent' and 'winpercent'\n",
    "____ # Your code here\n",
    "sns.regplot(x=candy_data['sugarpercent'], y=candy_data['winpercent'])\n",
    "# Check your answer\n",
    "step_4.a.check()"
   ]
  },
  {
   "cell_type": "code",
   "execution_count": 13,
   "id": "acb34a13",
   "metadata": {
    "execution": {
     "iopub.execute_input": "2022-06-22T17:17:27.113737Z",
     "iopub.status.busy": "2022-06-22T17:17:27.113231Z",
     "iopub.status.idle": "2022-06-22T17:17:27.425037Z",
     "shell.execute_reply": "2022-06-22T17:17:27.423714Z"
    },
    "papermill": {
     "duration": 0.329069,
     "end_time": "2022-06-22T17:17:27.427670",
     "exception": false,
     "start_time": "2022-06-22T17:17:27.098601",
     "status": "completed"
    },
    "tags": []
   },
   "outputs": [
    {
     "data": {
      "application/javascript": [
       "parent.postMessage({\"jupyterEvent\": \"custom.exercise_interaction\", \"data\": {\"interactionType\": 3, \"questionType\": 2, \"questionId\": \"4.1_PlotBlueReg\", \"learnToolsVersion\": \"0.3.4\", \"valueTowardsCompletion\": 0.0, \"failureMessage\": \"\", \"exceptionClass\": \"\", \"trace\": \"\", \"outcomeType\": 4}}, \"*\")"
      ],
      "text/plain": [
       "<IPython.core.display.Javascript object>"
      ]
     },
     "metadata": {},
     "output_type": "display_data"
    },
    {
     "data": {
      "text/markdown": [
       "<span style=\"color:#33cc99\">Solution:</span> \n",
       "```python\n",
       "# Scatter plot w/ regression line showing the relationship between 'sugarpercent' and 'winpercent'\n",
       "sns.regplot(x=candy_data['sugarpercent'], y=candy_data['winpercent'])\n",
       "\n",
       "```"
      ],
      "text/plain": [
       "Solution: \n",
       "```python\n",
       "# Scatter plot w/ regression line showing the relationship between 'sugarpercent' and 'winpercent'\n",
       "sns.regplot(x=candy_data['sugarpercent'], y=candy_data['winpercent'])\n",
       "\n",
       "```"
      ]
     },
     "metadata": {},
     "output_type": "display_data"
    },
    {
     "data": {
      "image/png": "[encoded data removed]",
      "text/plain": [
       "<Figure size 432x288 with 1 Axes>"
      ]
     },
     "metadata": {
      "needs_background": "light"
     },
     "output_type": "display_data"
    }
   ],
   "source": [
    "# Lines below will give you a hint or solution code\n",
    "#step_4.a.hint()\n",
    "step_4.a.solution_plot()"
   ]
  },
  {
   "cell_type": "markdown",
   "id": "43163281",
   "metadata": {
    "papermill": {
     "duration": 0.014005,
     "end_time": "2022-06-22T17:17:27.455744",
     "exception": false,
     "start_time": "2022-06-22T17:17:27.441739",
     "status": "completed"
    },
    "tags": []
   },
   "source": [
    "#### Part B\n",
    "\n",
    "According to the plot above, is there a **slight** correlation between `'winpercent'` and `'sugarpercent'`?  What does this tell you about the candy that people tend to prefer?"
   ]
  },
  {
   "cell_type": "code",
   "execution_count": 14,
   "id": "fc531f09",
   "metadata": {
    "execution": {
     "iopub.execute_input": "2022-06-22T17:17:27.485776Z",
     "iopub.status.busy": "2022-06-22T17:17:27.484877Z",
     "iopub.status.idle": "2022-06-22T17:17:27.489281Z",
     "shell.execute_reply": "2022-06-22T17:17:27.488512Z"
    },
    "papermill": {
     "duration": 0.021977,
     "end_time": "2022-06-22T17:17:27.491587",
     "exception": false,
     "start_time": "2022-06-22T17:17:27.469610",
     "status": "completed"
    },
    "tags": []
   },
   "outputs": [],
   "source": [
    "#step_4.b.hint()"
   ]
  },
  {
   "cell_type": "code",
   "execution_count": 15,
   "id": "d06f1ca7",
   "metadata": {
    "execution": {
     "iopub.execute_input": "2022-06-22T17:17:27.521398Z",
     "iopub.status.busy": "2022-06-22T17:17:27.520942Z",
     "iopub.status.idle": "2022-06-22T17:17:27.529471Z",
     "shell.execute_reply": "2022-06-22T17:17:27.528569Z"
    },
    "papermill": {
     "duration": 0.025989,
     "end_time": "2022-06-22T17:17:27.531574",
     "exception": false,
     "start_time": "2022-06-22T17:17:27.505585",
     "status": "completed"
    },
    "tags": []
   },
   "outputs": [
    {
     "data": {
      "application/javascript": [
       "parent.postMessage({\"jupyterEvent\": \"custom.exercise_interaction\", \"data\": {\"interactionType\": 3, \"questionType\": 4, \"questionId\": \"4.2_ThinkBlueReg\", \"learnToolsVersion\": \"0.3.4\", \"valueTowardsCompletion\": 0.0, \"failureMessage\": \"\", \"exceptionClass\": \"\", \"trace\": \"\", \"outcomeType\": 4}}, \"*\")"
      ],
      "text/plain": [
       "<IPython.core.display.Javascript object>"
      ]
     },
     "metadata": {},
     "output_type": "display_data"
    },
    {
     "data": {
      "text/markdown": [
       "<span style=\"color:#33cc99\">Solution:</span> Since the regression line has a slightly positive slope, this tells us that there is a slightly positive correlation between `'winpercent'` and `'sugarpercent'`. Thus, people have a slight preference for candies containing relatively more sugar."
      ],
      "text/plain": [
       "Solution: Since the regression line has a slightly positive slope, this tells us that there is a slightly positive correlation between `'winpercent'` and `'sugarpercent'`. Thus, people have a slight preference for candies containing relatively more sugar."
      ]
     },
     "metadata": {},
     "output_type": "display_data"
    }
   ],
   "source": [
    "# Check your answer (Run this code cell to receive credit!)\n",
    "step_4.b.solution()"
   ]
  },
  {
   "cell_type": "markdown",
   "id": "7f61b1cc",
   "metadata": {
    "papermill": {
     "duration": 0.013778,
     "end_time": "2022-06-22T17:17:27.559533",
     "exception": false,
     "start_time": "2022-06-22T17:17:27.545755",
     "status": "completed"
    },
    "tags": []
   },
   "source": [
    "## Step 5: Chocolate!\n",
    "\n",
    "In the code cell below, create a scatter plot to show the relationship between `'pricepercent'` (on the horizontal x-axis) and `'winpercent'` (on the vertical y-axis). Use the `'chocolate'` column to color-code the points.  _Don't add any regression lines just yet -- you'll do that in the next step!_"
   ]
  },
  {
   "cell_type": "code",
   "execution_count": 16,
   "id": "ec979f58",
   "metadata": {
    "execution": {
     "iopub.execute_input": "2022-06-22T17:17:27.590679Z",
     "iopub.status.busy": "2022-06-22T17:17:27.590216Z",
     "iopub.status.idle": "2022-06-22T17:17:27.856645Z",
     "shell.execute_reply": "2022-06-22T17:17:27.855357Z"
    },
    "papermill": {
     "duration": 0.285477,
     "end_time": "2022-06-22T17:17:27.859097",
     "exception": false,
     "start_time": "2022-06-22T17:17:27.573620",
     "status": "completed"
    },
    "tags": []
   },
   "outputs": [
    {
     "data": {
      "application/javascript": [
       "parent.postMessage({\"jupyterEvent\": \"custom.exercise_interaction\", \"data\": {\"outcomeType\": 1, \"valueTowardsCompletion\": 0.3333333333333333, \"interactionType\": 1, \"questionType\": 2, \"questionId\": \"5_ColorScatter\", \"learnToolsVersion\": \"0.3.4\", \"failureMessage\": \"\", \"exceptionClass\": \"\", \"trace\": \"\"}}, \"*\")"
      ],
      "text/plain": [
       "<IPython.core.display.Javascript object>"
      ]
     },
     "metadata": {},
     "output_type": "display_data"
    },
    {
     "data": {
      "text/markdown": [
       "<span style=\"color:#33cc33\">Correct</span>"
      ],
      "text/plain": [
       "Correct"
      ]
     },
     "metadata": {},
     "output_type": "display_data"
    },
    {
     "data": {
      "image/png": "[encoded data removed]",
      "text/plain": [
       "<Figure size 432x288 with 1 Axes>"
      ]
     },
     "metadata": {
      "needs_background": "light"
     },
     "output_type": "display_data"
    }
   ],
   "source": [
    "# Scatter plot showing the relationship between 'pricepercent', 'winpercent', and 'chocolate'\n",
    "____ # Your code here\n",
    "sns.scatterplot(x=candy_data['pricepercent'], y=candy_data['winpercent'], hue=candy_data['chocolate'])\n",
    "# Check your answer\n",
    "step_5.check()"
   ]
  },
  {
   "cell_type": "code",
   "execution_count": 17,
   "id": "d1f2ef27",
   "metadata": {
    "execution": {
     "iopub.execute_input": "2022-06-22T17:17:27.891348Z",
     "iopub.status.busy": "2022-06-22T17:17:27.890877Z",
     "iopub.status.idle": "2022-06-22T17:17:28.160018Z",
     "shell.execute_reply": "2022-06-22T17:17:28.158490Z"
    },
    "papermill": {
     "duration": 0.288311,
     "end_time": "2022-06-22T17:17:28.162717",
     "exception": false,
     "start_time": "2022-06-22T17:17:27.874406",
     "status": "completed"
    },
    "tags": []
   },
   "outputs": [
    {
     "data": {
      "application/javascript": [
       "parent.postMessage({\"jupyterEvent\": \"custom.exercise_interaction\", \"data\": {\"interactionType\": 3, \"questionType\": 2, \"questionId\": \"5_ColorScatter\", \"learnToolsVersion\": \"0.3.4\", \"valueTowardsCompletion\": 0.0, \"failureMessage\": \"\", \"exceptionClass\": \"\", \"trace\": \"\", \"outcomeType\": 4}}, \"*\")"
      ],
      "text/plain": [
       "<IPython.core.display.Javascript object>"
      ]
     },
     "metadata": {},
     "output_type": "display_data"
    },
    {
     "data": {
      "text/markdown": [
       "<span style=\"color:#33cc99\">Solution:</span> \n",
       "```python\n",
       "# Scatter plot showing the relationship between 'pricepercent', 'winpercent', and 'chocolate'\n",
       "sns.scatterplot(x=candy_data['pricepercent'], y=candy_data['winpercent'], hue=candy_data['chocolate'])\n",
       "\n",
       "```"
      ],
      "text/plain": [
       "Solution: \n",
       "```python\n",
       "# Scatter plot showing the relationship between 'pricepercent', 'winpercent', and 'chocolate'\n",
       "sns.scatterplot(x=candy_data['pricepercent'], y=candy_data['winpercent'], hue=candy_data['chocolate'])\n",
       "\n",
       "```"
      ]
     },
     "metadata": {},
     "output_type": "display_data"
    },
    {
     "data": {
      "image/png": "[encoded data removed]",
      "text/plain": [
       "<Figure size 432x288 with 1 Axes>"
      ]
     },
     "metadata": {
      "needs_background": "light"
     },
     "output_type": "display_data"
    }
   ],
   "source": [
    "# Lines below will give you a hint or solution code\n",
    "#step_5.hint()\n",
    "step_5.solution_plot()"
   ]
  },
  {
   "cell_type": "markdown",
   "id": "622fb9a4",
   "metadata": {
    "papermill": {
     "duration": 0.015478,
     "end_time": "2022-06-22T17:17:28.194172",
     "exception": false,
     "start_time": "2022-06-22T17:17:28.178694",
     "status": "completed"
    },
    "tags": []
   },
   "source": [
    "Can you see any interesting patterns in the scatter plot?  We'll investigate this plot further  by adding regression lines in the next step!\n",
    "\n",
    "## Step 6: Investigate chocolate\n",
    "\n",
    "#### Part A\n",
    "\n",
    "Create the same scatter plot you created in **Step 5**, but now with two regression lines, corresponding to (1) chocolate candies and (2) candies without chocolate."
   ]
  },
  {
   "cell_type": "code",
   "execution_count": 18,
   "id": "9f1214fb",
   "metadata": {
    "execution": {
     "iopub.execute_input": "2022-06-22T17:17:28.227703Z",
     "iopub.status.busy": "2022-06-22T17:17:28.227000Z",
     "iopub.status.idle": "2022-06-22T17:17:28.843968Z",
     "shell.execute_reply": "2022-06-22T17:17:28.843155Z"
    },
    "papermill": {
     "duration": 0.636749,
     "end_time": "2022-06-22T17:17:28.846569",
     "exception": false,
     "start_time": "2022-06-22T17:17:28.209820",
     "status": "completed"
    },
    "tags": []
   },
   "outputs": [
    {
     "data": {
      "application/javascript": [
       "parent.postMessage({\"jupyterEvent\": \"custom.exercise_interaction\", \"data\": {\"outcomeType\": 1, \"valueTowardsCompletion\": 0.3333333333333333, \"interactionType\": 1, \"questionType\": 2, \"questionId\": \"6.1_PlotColorReg\", \"learnToolsVersion\": \"0.3.4\", \"failureMessage\": \"\", \"exceptionClass\": \"\", \"trace\": \"\"}}, \"*\")"
      ],
      "text/plain": [
       "<IPython.core.display.Javascript object>"
      ]
     },
     "metadata": {},
     "output_type": "display_data"
    },
    {
     "data": {
      "text/markdown": [
       "<span style=\"color:#33cc33\">Correct</span>"
      ],
      "text/plain": [
       "Correct"
      ]
     },
     "metadata": {},
     "output_type": "display_data"
    },
    {
     "data": {
      "image/png": "[encoded data removed]",
      "text/plain": [
       "<Figure size 416.375x360 with 1 Axes>"
      ]
     },
     "metadata": {
      "needs_background": "light"
     },
     "output_type": "display_data"
    }
   ],
   "source": [
    "# Color-coded scatter plot w/ regression lines\n",
    "____ # Your code here\n",
    "sns.lmplot(x=\"pricepercent\", y=\"winpercent\", hue=\"chocolate\", data=candy_data)\n",
    "# Check your answer\n",
    "step_6.a.check()"
   ]
  },
  {
   "cell_type": "code",
   "execution_count": 19,
   "id": "0ca8873b",
   "metadata": {
    "execution": {
     "iopub.execute_input": "2022-06-22T17:17:28.882500Z",
     "iopub.status.busy": "2022-06-22T17:17:28.881446Z",
     "iopub.status.idle": "2022-06-22T17:17:29.511088Z",
     "shell.execute_reply": "2022-06-22T17:17:29.510188Z"
    },
    "papermill": {
     "duration": 0.650774,
     "end_time": "2022-06-22T17:17:29.513796",
     "exception": false,
     "start_time": "2022-06-22T17:17:28.863022",
     "status": "completed"
    },
    "tags": []
   },
   "outputs": [
    {
     "data": {
      "application/javascript": [
       "parent.postMessage({\"jupyterEvent\": \"custom.exercise_interaction\", \"data\": {\"interactionType\": 3, \"questionType\": 2, \"questionId\": \"6.1_PlotColorReg\", \"learnToolsVersion\": \"0.3.4\", \"valueTowardsCompletion\": 0.0, \"failureMessage\": \"\", \"exceptionClass\": \"\", \"trace\": \"\", \"outcomeType\": 4}}, \"*\")"
      ],
      "text/plain": [
       "<IPython.core.display.Javascript object>"
      ]
     },
     "metadata": {},
     "output_type": "display_data"
    },
    {
     "data": {
      "text/markdown": [
       "<span style=\"color:#33cc99\">Solution:</span> \n",
       "```python\n",
       "# Color-coded scatter plot w/ regression lines\n",
       "sns.lmplot(x=\"pricepercent\", y=\"winpercent\", hue=\"chocolate\", data=candy_data)\n",
       "\n",
       "```"
      ],
      "text/plain": [
       "Solution: \n",
       "```python\n",
       "# Color-coded scatter plot w/ regression lines\n",
       "sns.lmplot(x=\"pricepercent\", y=\"winpercent\", hue=\"chocolate\", data=candy_data)\n",
       "\n",
       "```"
      ]
     },
     "metadata": {},
     "output_type": "display_data"
    },
    {
     "data": {
      "image/png": "[encoded data removed]",
      "text/plain": [
       "<Figure size 416.375x360 with 1 Axes>"
      ]
     },
     "metadata": {
      "needs_background": "light"
     },
     "output_type": "display_data"
    }
   ],
   "source": [
    "# Lines below will give you a hint or solution code\n",
    "#step_6.a.hint()\n",
    "step_6.a.solution_plot()"
   ]
  },
  {
   "cell_type": "markdown",
   "id": "18f3a740",
   "metadata": {
    "papermill": {
     "duration": 0.016645,
     "end_time": "2022-06-22T17:17:29.547739",
     "exception": false,
     "start_time": "2022-06-22T17:17:29.531094",
     "status": "completed"
    },
    "tags": []
   },
   "source": [
    "#### Part B\n",
    "\n",
    "Using the regression lines, what conclusions can you draw about the effects of chocolate and price on candy popularity?"
   ]
  },
  {
   "cell_type": "code",
   "execution_count": 20,
   "id": "14a53fa1",
   "metadata": {
    "execution": {
     "iopub.execute_input": "2022-06-22T17:17:29.584059Z",
     "iopub.status.busy": "2022-06-22T17:17:29.583447Z",
     "iopub.status.idle": "2022-06-22T17:17:29.588055Z",
     "shell.execute_reply": "2022-06-22T17:17:29.586808Z"
    },
    "papermill": {
     "duration": 0.025826,
     "end_time": "2022-06-22T17:17:29.590574",
     "exception": false,
     "start_time": "2022-06-22T17:17:29.564748",
     "status": "completed"
    },
    "tags": []
   },
   "outputs": [],
   "source": [
    "#step_6.b.hint()"
   ]
  },
  {
   "cell_type": "code",
   "execution_count": 21,
   "id": "b43f44b5",
   "metadata": {
    "execution": {
     "iopub.execute_input": "2022-06-22T17:17:29.627279Z",
     "iopub.status.busy": "2022-06-22T17:17:29.626871Z",
     "iopub.status.idle": "2022-06-22T17:17:29.635961Z",
     "shell.execute_reply": "2022-06-22T17:17:29.634746Z"
    },
    "papermill": {
     "duration": 0.030511,
     "end_time": "2022-06-22T17:17:29.638538",
     "exception": false,
     "start_time": "2022-06-22T17:17:29.608027",
     "status": "completed"
    },
    "tags": []
   },
   "outputs": [
    {
     "data": {
      "application/javascript": [
       "parent.postMessage({\"jupyterEvent\": \"custom.exercise_interaction\", \"data\": {\"interactionType\": 3, \"questionType\": 4, \"questionId\": \"6.2_ThinkColorReg\", \"learnToolsVersion\": \"0.3.4\", \"valueTowardsCompletion\": 0.0, \"failureMessage\": \"\", \"exceptionClass\": \"\", \"trace\": \"\", \"outcomeType\": 4}}, \"*\")"
      ],
      "text/plain": [
       "<IPython.core.display.Javascript object>"
      ]
     },
     "metadata": {},
     "output_type": "display_data"
    },
    {
     "data": {
      "text/markdown": [
       "<span style=\"color:#33cc99\">Solution:</span> We'll begin with the regression line for chocolate candies. Since this line has a slightly positive slope, we can say that more expensive chocolate candies tend to be more popular (than relatively cheaper chocolate candies).  Likewise, since the regression line for candies without chocolate has a negative slope, we can say that if candies don't contain chocolate, they tend to be more popular when they are cheaper.  One important note, however, is that the dataset is quite small -- so we shouldn't invest too much trust in these patterns!  To inspire more confidence in the results, we should add more candies to the dataset."
      ],
      "text/plain": [
       "Solution: We'll begin with the regression line for chocolate candies. Since this line has a slightly positive slope, we can say that more expensive chocolate candies tend to be more popular (than relatively cheaper chocolate candies).  Likewise, since the regression line for candies without chocolate has a negative slope, we can say that if candies don't contain chocolate, they tend to be more popular when they are cheaper.  One important note, however, is that the dataset is quite small -- so we shouldn't invest too much trust in these patterns!  To inspire more confidence in the results, we should add more candies to the dataset."
      ]
     },
     "metadata": {},
     "output_type": "display_data"
    }
   ],
   "source": [
    "# Check your answer (Run this code cell to receive credit!)\n",
    "step_6.b.solution()"
   ]
  },
  {
   "cell_type": "markdown",
   "id": "d6640329",
   "metadata": {
    "papermill": {
     "duration": 0.017006,
     "end_time": "2022-06-22T17:17:29.673046",
     "exception": false,
     "start_time": "2022-06-22T17:17:29.656040",
     "status": "completed"
    },
    "tags": []
   },
   "source": [
    "## Step 7: Everybody loves chocolate.\n",
    "\n",
    "#### Part A\n",
    "\n",
    "Create a categorical scatter plot to highlight the relationship between `'chocolate'` and `'winpercent'`.  Put `'chocolate'` on the (horizontal) x-axis, and `'winpercent'` on the (vertical) y-axis."
   ]
  },
  {
   "cell_type": "code",
   "execution_count": 22,
   "id": "a43b77bb",
   "metadata": {
    "execution": {
     "iopub.execute_input": "2022-06-22T17:17:29.710681Z",
     "iopub.status.busy": "2022-06-22T17:17:29.709353Z",
     "iopub.status.idle": "2022-06-22T17:17:29.900856Z",
     "shell.execute_reply": "2022-06-22T17:17:29.899969Z"
    },
    "papermill": {
     "duration": 0.212662,
     "end_time": "2022-06-22T17:17:29.903123",
     "exception": false,
     "start_time": "2022-06-22T17:17:29.690461",
     "status": "completed"
    },
    "tags": []
   },
   "outputs": [
    {
     "data": {
      "application/javascript": [
       "parent.postMessage({\"jupyterEvent\": \"custom.exercise_interaction\", \"data\": {\"outcomeType\": 1, \"valueTowardsCompletion\": 0.3333333333333333, \"interactionType\": 1, \"questionType\": 2, \"questionId\": \"7.1_PlotSwarm\", \"learnToolsVersion\": \"0.3.4\", \"failureMessage\": \"\", \"exceptionClass\": \"\", \"trace\": \"\"}}, \"*\")"
      ],
      "text/plain": [
       "<IPython.core.display.Javascript object>"
      ]
     },
     "metadata": {},
     "output_type": "display_data"
    },
    {
     "data": {
      "text/markdown": [
       "<span style=\"color:#33cc33\">Correct</span>"
      ],
      "text/plain": [
       "Correct"
      ]
     },
     "metadata": {},
     "output_type": "display_data"
    },
    {
     "data": {
      "image/png": "[encoded data removed]",
      "text/plain": [
       "<Figure size 432x288 with 1 Axes>"
      ]
     },
     "metadata": {
      "needs_background": "light"
     },
     "output_type": "display_data"
    }
   ],
   "source": [
    "# Scatter plot showing the relationship between 'chocolate' and 'winpercent'\n",
    "____ # Your code here\n",
    "sns.swarmplot(x=candy_data['chocolate'], y=candy_data['winpercent'])\n",
    "# Check your answer\n",
    "step_7.a.check()"
   ]
  },
  {
   "cell_type": "code",
   "execution_count": 23,
   "id": "403b3d7c",
   "metadata": {
    "execution": {
     "iopub.execute_input": "2022-06-22T17:17:29.941435Z",
     "iopub.status.busy": "2022-06-22T17:17:29.940284Z",
     "iopub.status.idle": "2022-06-22T17:17:30.125616Z",
     "shell.execute_reply": "2022-06-22T17:17:30.124667Z"
    },
    "papermill": {
     "duration": 0.206783,
     "end_time": "2022-06-22T17:17:30.127911",
     "exception": false,
     "start_time": "2022-06-22T17:17:29.921128",
     "status": "completed"
    },
    "tags": []
   },
   "outputs": [
    {
     "data": {
      "application/javascript": [
       "parent.postMessage({\"jupyterEvent\": \"custom.exercise_interaction\", \"data\": {\"interactionType\": 3, \"questionType\": 2, \"questionId\": \"7.1_PlotSwarm\", \"learnToolsVersion\": \"0.3.4\", \"valueTowardsCompletion\": 0.0, \"failureMessage\": \"\", \"exceptionClass\": \"\", \"trace\": \"\", \"outcomeType\": 4}}, \"*\")"
      ],
      "text/plain": [
       "<IPython.core.display.Javascript object>"
      ]
     },
     "metadata": {},
     "output_type": "display_data"
    },
    {
     "data": {
      "text/markdown": [
       "<span style=\"color:#33cc99\">Solution:</span> \n",
       "```python\n",
       "# Scatter plot showing the relationship between 'chocolate' and 'winpercent'\n",
       "sns.swarmplot(x=candy_data['chocolate'], y=candy_data['winpercent'])\n",
       "\n",
       "```"
      ],
      "text/plain": [
       "Solution: \n",
       "```python\n",
       "# Scatter plot showing the relationship between 'chocolate' and 'winpercent'\n",
       "sns.swarmplot(x=candy_data['chocolate'], y=candy_data['winpercent'])\n",
       "\n",
       "```"
      ]
     },
     "metadata": {},
     "output_type": "display_data"
    },
    {
     "data": {
      "image/png": "[encoded data removed]",
      "text/plain": [
       "<Figure size 432x288 with 1 Axes>"
      ]
     },
     "metadata": {
      "needs_background": "light"
     },
     "output_type": "display_data"
    }
   ],
   "source": [
    "# Lines below will give you a hint or solution code\n",
    "#step_7.a.hint()\n",
    "step_7.a.solution_plot()"
   ]
  },
  {
   "cell_type": "markdown",
   "id": "521bb030",
   "metadata": {
    "papermill": {
     "duration": 0.018591,
     "end_time": "2022-06-22T17:17:30.165479",
     "exception": false,
     "start_time": "2022-06-22T17:17:30.146888",
     "status": "completed"
    },
    "tags": []
   },
   "source": [
    "#### Part B\n",
    "\n",
    "You decide to dedicate a section of your report to the fact that chocolate candies tend to be more popular than candies without chocolate.  Which plot is more appropriate to tell this story: the plot from **Step 6**, or the plot from **Step 7**?"
   ]
  },
  {
   "cell_type": "code",
   "execution_count": 24,
   "id": "f754de47",
   "metadata": {
    "execution": {
     "iopub.execute_input": "2022-06-22T17:17:30.204902Z",
     "iopub.status.busy": "2022-06-22T17:17:30.204207Z",
     "iopub.status.idle": "2022-06-22T17:17:30.208169Z",
     "shell.execute_reply": "2022-06-22T17:17:30.207344Z"
    },
    "papermill": {
     "duration": 0.026325,
     "end_time": "2022-06-22T17:17:30.210293",
     "exception": false,
     "start_time": "2022-06-22T17:17:30.183968",
     "status": "completed"
    },
    "tags": []
   },
   "outputs": [],
   "source": [
    "#step_7.b.hint()"
   ]
  },
  {
   "cell_type": "code",
   "execution_count": 25,
   "id": "c7947dd2",
   "metadata": {
    "execution": {
     "iopub.execute_input": "2022-06-22T17:17:30.250110Z",
     "iopub.status.busy": "2022-06-22T17:17:30.249445Z",
     "iopub.status.idle": "2022-06-22T17:17:30.256582Z",
     "shell.execute_reply": "2022-06-22T17:17:30.255813Z"
    },
    "papermill": {
     "duration": 0.029738,
     "end_time": "2022-06-22T17:17:30.258753",
     "exception": false,
     "start_time": "2022-06-22T17:17:30.229015",
     "status": "completed"
    },
    "tags": []
   },
   "outputs": [
    {
     "data": {
      "application/javascript": [
       "parent.postMessage({\"jupyterEvent\": \"custom.exercise_interaction\", \"data\": {\"interactionType\": 3, \"questionType\": 4, \"questionId\": \"7.2_ThinkSwarm\", \"learnToolsVersion\": \"0.3.4\", \"valueTowardsCompletion\": 0.0, \"failureMessage\": \"\", \"exceptionClass\": \"\", \"trace\": \"\", \"outcomeType\": 4}}, \"*\")"
      ],
      "text/plain": [
       "<IPython.core.display.Javascript object>"
      ]
     },
     "metadata": {},
     "output_type": "display_data"
    },
    {
     "data": {
      "text/markdown": [
       "<span style=\"color:#33cc99\">Solution:</span> In this case, the categorical scatter plot from **Step 7** is the more appropriate plot. While both plots tell the desired story, the plot from **Step 6** conveys far more information that could distract from the main point."
      ],
      "text/plain": [
       "Solution: In this case, the categorical scatter plot from **Step 7** is the more appropriate plot. While both plots tell the desired story, the plot from **Step 6** conveys far more information that could distract from the main point."
      ]
     },
     "metadata": {},
     "output_type": "display_data"
    }
   ],
   "source": [
    "# Check your answer (Run this code cell to receive credit!)\n",
    "step_7.b.solution()"
   ]
  },
  {
   "cell_type": "markdown",
   "id": "862537ed",
   "metadata": {
    "papermill": {
     "duration": 0.01868,
     "end_time": "2022-06-22T17:17:30.296559",
     "exception": false,
     "start_time": "2022-06-22T17:17:30.277879",
     "status": "completed"
    },
    "tags": []
   },
   "source": [
    "## Keep going\n",
    "\n",
    "Explore **[histograms and density plots](https://www.kaggle.com/alexisbcook/distributions)**."
   ]
  },
  {
   "cell_type": "markdown",
   "id": "b2515020",
   "metadata": {
    "papermill": {
     "duration": 0.018738,
     "end_time": "2022-06-22T17:17:30.334201",
     "exception": false,
     "start_time": "2022-06-22T17:17:30.315463",
     "status": "completed"
    },
    "tags": []
   },
   "source": [
    "---\n",
    "\n",
    "\n",
    "\n",
    "\n",
    "*Have questions or comments? Visit the [course discussion forum](https://www.kaggle.com/learn/data-visualization/discussion) to chat with other learners.*"
   ]
  }
 ],
 "metadata": {
  "kernelspec": {
   "display_name": "Python 3",
   "language": "python",
   "name": "python3"
  },
  "language_info": {
   "codemirror_mode": {
    "name": "ipython",
    "version": 3
   },
   "file_extension": ".py",
   "mimetype": "text/x-python",
   "name": "python",
   "nbconvert_exporter": "python",
   "pygments_lexer": "ipython3",
   "version": "3.7.12"
  },
  "papermill": {
   "default_parameters": {},
   "duration": 17.473003,
   "end_time": "2022-06-22T17:17:31.175393",
   "environment_variables": {},
   "exception": null,
   "input_path": "__notebook__.ipynb",
   "output_path": "__notebook__.ipynb",
   "parameters": {},
   "start_time": "2022-06-22T17:17:13.702390",
   "version": "2.3.4"
  }
 },
 "nbformat": 4,
 "nbformat_minor": 5
}
